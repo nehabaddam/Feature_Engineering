{
 "cells": [
  {
   "cell_type": "markdown",
   "id": "d7a96dcf",
   "metadata": {},
   "source": [
    "# GitHub Link:\n",
    "#### https://github.com/nehabaddam/Feature_Engineering"
   ]
  },
  {
   "cell_type": "code",
   "execution_count": 1,
   "id": "1ae4434a",
   "metadata": {},
   "outputs": [],
   "source": [
    "import pandas as pd\n",
    "import numpy as np\n",
    "%matplotlib inline\n",
    "import matplotlib.pyplot as plt\n",
    "import seaborn as sns\n",
    "sns.set()"
   ]
  },
  {
   "cell_type": "markdown",
   "id": "eba55f9a",
   "metadata": {},
   "source": [
    "## **(Tutorial) Binarizing data**\n",
    "\n",
    "Following is a sample of binarizing listen counts in Million Song Dataset\n",
    "### The Echo Nest Taste Profile Subset \n",
    "http://labrosa.ee.columbia.edu/millionsong/sites/default/files/challenge/train_triplets.txt.zip"
   ]
  },
  {
   "cell_type": "code",
   "execution_count": 4,
   "id": "44eaf33e",
   "metadata": {},
   "outputs": [
    {
     "data": {
      "text/html": [
       "<div>\n",
       "<style scoped>\n",
       "    .dataframe tbody tr th:only-of-type {\n",
       "        vertical-align: middle;\n",
       "    }\n",
       "\n",
       "    .dataframe tbody tr th {\n",
       "        vertical-align: top;\n",
       "    }\n",
       "\n",
       "    .dataframe thead th {\n",
       "        text-align: right;\n",
       "    }\n",
       "</style>\n",
       "<table border=\"1\" class=\"dataframe\">\n",
       "  <thead>\n",
       "    <tr style=\"text-align: right;\">\n",
       "      <th></th>\n",
       "      <th>0</th>\n",
       "      <th>1</th>\n",
       "      <th>2</th>\n",
       "    </tr>\n",
       "  </thead>\n",
       "  <tbody>\n",
       "    <tr>\n",
       "      <th>0</th>\n",
       "      <td>b80344d063b5ccb3212f76538f3d9e43d87dca9e</td>\n",
       "      <td>SOAKIMP12A8C130995</td>\n",
       "      <td>1</td>\n",
       "    </tr>\n",
       "    <tr>\n",
       "      <th>1</th>\n",
       "      <td>b80344d063b5ccb3212f76538f3d9e43d87dca9e</td>\n",
       "      <td>SOAPDEY12A81C210A9</td>\n",
       "      <td>1</td>\n",
       "    </tr>\n",
       "    <tr>\n",
       "      <th>2</th>\n",
       "      <td>b80344d063b5ccb3212f76538f3d9e43d87dca9e</td>\n",
       "      <td>SOBBMDR12A8C13253B</td>\n",
       "      <td>2</td>\n",
       "    </tr>\n",
       "    <tr>\n",
       "      <th>3</th>\n",
       "      <td>b80344d063b5ccb3212f76538f3d9e43d87dca9e</td>\n",
       "      <td>SOBFNSP12AF72A0E22</td>\n",
       "      <td>1</td>\n",
       "    </tr>\n",
       "    <tr>\n",
       "      <th>4</th>\n",
       "      <td>b80344d063b5ccb3212f76538f3d9e43d87dca9e</td>\n",
       "      <td>SOBFOVM12A58A7D494</td>\n",
       "      <td>1</td>\n",
       "    </tr>\n",
       "  </tbody>\n",
       "</table>\n",
       "</div>"
      ],
      "text/plain": [
       "                                          0                   1  2\n",
       "0  b80344d063b5ccb3212f76538f3d9e43d87dca9e  SOAKIMP12A8C130995  1\n",
       "1  b80344d063b5ccb3212f76538f3d9e43d87dca9e  SOAPDEY12A81C210A9  1\n",
       "2  b80344d063b5ccb3212f76538f3d9e43d87dca9e  SOBBMDR12A8C13253B  2\n",
       "3  b80344d063b5ccb3212f76538f3d9e43d87dca9e  SOBFNSP12AF72A0E22  1\n",
       "4  b80344d063b5ccb3212f76538f3d9e43d87dca9e  SOBFOVM12A58A7D494  1"
      ]
     },
     "execution_count": 4,
     "metadata": {},
     "output_type": "execute_result"
    }
   ],
   "source": [
    "listen_count = pd.read_csv('C:/Users/badda/Downloads/train_triplets.txt.zip', header=None, delimiter='\\t')\n",
    "listen_count.head()  # user - song - count"
   ]
  },
  {
   "cell_type": "code",
   "execution_count": 6,
   "id": "bbfdf838",
   "metadata": {},
   "outputs": [
    {
     "data": {
      "text/plain": [
       "9667"
      ]
     },
     "execution_count": 6,
     "metadata": {},
     "output_type": "execute_result"
    }
   ],
   "source": [
    "np.max(listen_count[2])"
   ]
  },
  {
   "cell_type": "markdown",
   "id": "c67bc26b",
   "metadata": {},
   "source": [
    "Binarizing and visualizing listen counts"
   ]
  },
  {
   "cell_type": "code",
   "execution_count": 7,
   "id": "d9e2b2ce",
   "metadata": {},
   "outputs": [
    {
     "data": {
      "image/png": "[encoded data removed]",
      "text/plain": [
       "<Figure size 720x504 with 1 Axes>"
      ]
     },
     "metadata": {},
     "output_type": "display_data"
    }
   ],
   "source": [
    "sns.set_style('whitegrid')\n",
    "plt.figure(figsize=(10, 7))\n",
    "plt.hist(listen_count[2], bins = 100, edgecolor='black')\n",
    "plt.yscale('log', nonpositive='clip')\n",
    "plt.tick_params(axis='both', which='major', labelsize=16)\n",
    "plt.xlim([0,10000])\n",
    "_ = plt.xlabel('Listen Count', fontsize=16)\n",
    "_ = plt.ylabel('Occurrence', fontsize=16)"
   ]
  },
  {
   "cell_type": "markdown",
   "id": "c6ae847c",
   "metadata": {},
   "source": [
    "## **Task 1.1 Read data from Athletes.xlsx file and keep it in a proper type for the following operations**\n",
    "\n",
    "### The athletes information of 2021 Olympics in Tokyo\n",
    "https://www.kaggle.com/arjunprasadsarkhel/2021-olympics-in-tokyo/download"
   ]
  },
  {
   "cell_type": "code",
   "execution_count": 8,
   "id": "59e263f5",
   "metadata": {},
   "outputs": [],
   "source": [
    "import pandas as pd\n",
    "from sklearn.preprocessing import LabelEncoder, Binarizer\n",
    "import matplotlib.pyplot as plt"
   ]
  },
  {
   "cell_type": "code",
   "execution_count": 9,
   "id": "5fac9616",
   "metadata": {},
   "outputs": [
    {
     "data": {
      "text/html": [
       "<div>\n",
       "<style scoped>\n",
       "    .dataframe tbody tr th:only-of-type {\n",
       "        vertical-align: middle;\n",
       "    }\n",
       "\n",
       "    .dataframe tbody tr th {\n",
       "        vertical-align: top;\n",
       "    }\n",
       "\n",
       "    .dataframe thead th {\n",
       "        text-align: right;\n",
       "    }\n",
       "</style>\n",
       "<table border=\"1\" class=\"dataframe\">\n",
       "  <thead>\n",
       "    <tr style=\"text-align: right;\">\n",
       "      <th></th>\n",
       "      <th>Name</th>\n",
       "      <th>NOC</th>\n",
       "      <th>Discipline</th>\n",
       "    </tr>\n",
       "  </thead>\n",
       "  <tbody>\n",
       "    <tr>\n",
       "      <th>0</th>\n",
       "      <td>AALERUD Katrine</td>\n",
       "      <td>Norway</td>\n",
       "      <td>Cycling Road</td>\n",
       "    </tr>\n",
       "    <tr>\n",
       "      <th>1</th>\n",
       "      <td>ABAD Nestor</td>\n",
       "      <td>Spain</td>\n",
       "      <td>Artistic Gymnastics</td>\n",
       "    </tr>\n",
       "    <tr>\n",
       "      <th>2</th>\n",
       "      <td>ABAGNALE Giovanni</td>\n",
       "      <td>Italy</td>\n",
       "      <td>Rowing</td>\n",
       "    </tr>\n",
       "    <tr>\n",
       "      <th>3</th>\n",
       "      <td>ABALDE Alberto</td>\n",
       "      <td>Spain</td>\n",
       "      <td>Basketball</td>\n",
       "    </tr>\n",
       "    <tr>\n",
       "      <th>4</th>\n",
       "      <td>ABALDE Tamara</td>\n",
       "      <td>Spain</td>\n",
       "      <td>Basketball</td>\n",
       "    </tr>\n",
       "  </tbody>\n",
       "</table>\n",
       "</div>"
      ],
      "text/plain": [
       "                Name     NOC           Discipline\n",
       "0    AALERUD Katrine  Norway         Cycling Road\n",
       "1        ABAD Nestor   Spain  Artistic Gymnastics\n",
       "2  ABAGNALE Giovanni   Italy               Rowing\n",
       "3     ABALDE Alberto   Spain           Basketball\n",
       "4      ABALDE Tamara   Spain           Basketball"
      ]
     },
     "execution_count": 9,
     "metadata": {},
     "output_type": "execute_result"
    }
   ],
   "source": [
    "# write your code here\n",
    "df = pd.read_excel(\"Athletes.xlsx\")\n",
    "df.head()\n"
   ]
  },
  {
   "cell_type": "code",
   "execution_count": 10,
   "id": "1443578c",
   "metadata": {},
   "outputs": [
    {
     "data": {
      "text/plain": [
       "Name          object\n",
       "NOC           object\n",
       "Discipline    object\n",
       "dtype: object"
      ]
     },
     "execution_count": 10,
     "metadata": {},
     "output_type": "execute_result"
    }
   ],
   "source": [
    "df.dtypes"
   ]
  },
  {
   "cell_type": "markdown",
   "id": "60cea2a3",
   "metadata": {},
   "source": [
    "## **Task 1.2 Extracting the data in column 'NOC' and encoding them, then binarizing and visualizing them (number of athletes on x-axis, number of countries on y-axis)**"
   ]
  },
  {
   "cell_type": "code",
   "execution_count": 11,
   "id": "c8bc96c4",
   "metadata": {},
   "outputs": [
    {
     "data": {
      "text/plain": [
       "United States of America         615\n",
       "Japan                            586\n",
       "Australia                        470\n",
       "People's Republic of China       401\n",
       "Germany                          400\n",
       "                                ... \n",
       "South Sudan                        2\n",
       "Central African Republic           2\n",
       "Saint Kitts and Nevis              2\n",
       "St Vincent and the Grenadines      2\n",
       "Mauritania                         2\n",
       "Name: NOC, Length: 206, dtype: int64"
      ]
     },
     "execution_count": 11,
     "metadata": {},
     "output_type": "execute_result"
    }
   ],
   "source": [
    "# write you code here\n",
    "df[\"NOC\"] = df[\"NOC\"].astype(\"category\")\n",
    "df[\"Discipline\"] = df[\"Discipline\"].astype(\"category\")\n",
    "df[\"NOC\"]\n",
    "df[\"NOC\"].value_counts()"
   ]
  },
  {
   "cell_type": "code",
   "execution_count": 12,
   "id": "ad62f7d2",
   "metadata": {},
   "outputs": [],
   "source": [
    "#encoding \n",
    "encoder = LabelEncoder()\n",
    "encoded_noc = encoder.fit_transform(df['NOC'])\n"
   ]
  },
  {
   "cell_type": "code",
   "execution_count": 13,
   "id": "70cef2aa",
   "metadata": {},
   "outputs": [],
   "source": [
    "#binerizing\n",
    "binarizer = Binarizer()\n",
    "binarized_noc = binarizer.fit_transform(encoded_noc.reshape(-1, 1))\n"
   ]
  },
  {
   "cell_type": "code",
   "execution_count": 14,
   "id": "d601bf13",
   "metadata": {},
   "outputs": [],
   "source": [
    "# Count the number of athletes per country\n",
    "athletes_per_country = pd.Series(binarized_noc.flatten()).value_counts()\n"
   ]
  },
  {
   "cell_type": "code",
   "execution_count": 16,
   "id": "a435a250",
   "metadata": {},
   "outputs": [
    {
     "name": "stderr",
     "output_type": "stream",
     "text": [
      "C:\\Users\\badda\\AppData\\Local\\Temp\\ipykernel_31828\\904768697.py:4: MatplotlibDeprecationWarning: The 'nonposy' parameter of __init__() has been renamed 'nonpositive' since Matplotlib 3.3; support for the old name will be dropped two minor releases later.\n",
      "  plt.yscale('log', nonposy='clip')\n"
     ]
    },
    {
     "data": {
      "image/png": "[encoded data removed]",
      "text/plain": [
       "<Figure size 720x504 with 1 Axes>"
      ]
     },
     "metadata": {},
     "output_type": "display_data"
    }
   ],
   "source": [
    "sns.set_style('whitegrid')\n",
    "plt.figure(figsize=(10, 7))\n",
    "plt.hist(df[\"NOC\"].value_counts(), bins = 120, edgecolor='black')\n",
    "plt.yscale('log', nonposy='clip')\n",
    "plt.tick_params(axis='both', which='major', labelsize=16)\n",
    "plt.xlim([0,620])\n",
    "_ = plt.xlabel('Number of Athletes', fontsize=16)\n",
    "_ = plt.ylabel('No of Countries', fontsize=16)"
   ]
  },
  {
   "cell_type": "markdown",
   "id": "d1d7f32f",
   "metadata": {},
   "source": [
    "## **(Tutorial) Quantizing data**"
   ]
  },
  {
   "cell_type": "code",
   "execution_count": 17,
   "id": "c2c1feed",
   "metadata": {},
   "outputs": [
    {
     "data": {
      "text/plain": [
       "array([49, 47, 66, 97, 44, 55, 89,  3, 66, 22, 53, 18, 14, 77, 64, 85, 34,\n",
       "       86, 88, 35])"
      ]
     },
     "execution_count": 17,
     "metadata": {},
     "output_type": "execute_result"
    }
   ],
   "source": [
    "# create 20 random numbers in the range (0,100)\n",
    "small_counts = np.random.randint(0, 100, 20) \n",
    "small_counts"
   ]
  },
  {
   "cell_type": "code",
   "execution_count": 18,
   "id": "b7120034",
   "metadata": {},
   "outputs": [
    {
     "data": {
      "text/plain": [
       "array([4, 4, 6, 9, 4, 5, 8, 0, 6, 2, 5, 1, 1, 7, 6, 8, 3, 8, 8, 3],\n",
       "      dtype=int32)"
      ]
     },
     "execution_count": 18,
     "metadata": {},
     "output_type": "execute_result"
    }
   ],
   "source": [
    "# divided by 10 to project digits into the range (0,10) \n",
    "np.floor_divide(small_counts, 10)"
   ]
  },
  {
   "cell_type": "code",
   "execution_count": 19,
   "id": "76e409b1",
   "metadata": {},
   "outputs": [
    {
     "data": {
      "text/plain": [
       "array([2., 3., 4., 1., 0., 2., 2., 3., 3., 4., 4., 1., 1., 3., 2., 2., 4.])"
      ]
     },
     "execution_count": 19,
     "metadata": {},
     "output_type": "execute_result"
    }
   ],
   "source": [
    "large_counts = [296, 8286, 64011, 80, 3, 725, 867, 2215, 7689, 11495, 91897, 44, 28, 7971, 926, 122, 22222]\n",
    "np.floor(np.log10(large_counts))"
   ]
  },
  {
   "cell_type": "markdown",
   "id": "232eb9aa",
   "metadata": {},
   "source": [
    "### Example: computing deciles of Yelp business review counts\n",
    "Yelp_academic_dataset_business\n",
    "https://github.com/melqkiades/yelp/blob/master/notebooks/yelp_academic_dataset_business.json"
   ]
  },
  {
   "cell_type": "code",
   "execution_count": 20,
   "id": "e284bf82",
   "metadata": {},
   "outputs": [],
   "source": [
    "import json"
   ]
  },
  {
   "cell_type": "code",
   "execution_count": 21,
   "id": "26c09a9d",
   "metadata": {},
   "outputs": [],
   "source": [
    "def load_json_df(filename, num_bytes = -1):\n",
    "    '''Load the first `num_bytes` of the filename as a json blob, convert each line into a row in a Pandas data frame.'''\n",
    "    fs = open(filename, encoding='utf-8')\n",
    "    df = pd.DataFrame([json.loads(x) for x in fs.readlines(num_bytes)])\n",
    "    fs.close()\n",
    "    return df"
   ]
  },
  {
   "cell_type": "code",
   "execution_count": 22,
   "id": "cc8ec237",
   "metadata": {},
   "outputs": [
    {
     "data": {
      "text/plain": [
       "(15585, 15)"
      ]
     },
     "execution_count": 22,
     "metadata": {},
     "output_type": "execute_result"
    }
   ],
   "source": [
    "biz_df = load_json_df('yelp_academic_dataset_business.json')\n",
    "biz_df.shape"
   ]
  },
  {
   "cell_type": "code",
   "execution_count": 23,
   "id": "3bef9a9e",
   "metadata": {},
   "outputs": [
    {
     "data": {
      "text/html": [
       "<div>\n",
       "<style scoped>\n",
       "    .dataframe tbody tr th:only-of-type {\n",
       "        vertical-align: middle;\n",
       "    }\n",
       "\n",
       "    .dataframe tbody tr th {\n",
       "        vertical-align: top;\n",
       "    }\n",
       "\n",
       "    .dataframe thead th {\n",
       "        text-align: right;\n",
       "    }\n",
       "</style>\n",
       "<table border=\"1\" class=\"dataframe\">\n",
       "  <thead>\n",
       "    <tr style=\"text-align: right;\">\n",
       "      <th></th>\n",
       "      <th>business_id</th>\n",
       "      <th>full_address</th>\n",
       "      <th>hours</th>\n",
       "      <th>open</th>\n",
       "      <th>categories</th>\n",
       "      <th>city</th>\n",
       "      <th>review_count</th>\n",
       "      <th>name</th>\n",
       "      <th>neighborhoods</th>\n",
       "      <th>longitude</th>\n",
       "      <th>state</th>\n",
       "      <th>stars</th>\n",
       "      <th>latitude</th>\n",
       "      <th>attributes</th>\n",
       "      <th>type</th>\n",
       "    </tr>\n",
       "  </thead>\n",
       "  <tbody>\n",
       "    <tr>\n",
       "      <th>0</th>\n",
       "      <td>O_X3PGhk3Y5JWVi866qlJg</td>\n",
       "      <td>1501 W Bell Rd\\nPhoenix, AZ 85023</td>\n",
       "      <td>{'Monday': {'close': '18:00', 'open': '11:00'}...</td>\n",
       "      <td>True</td>\n",
       "      <td>[Active Life, Arts &amp; Entertainment, Stadiums &amp;...</td>\n",
       "      <td>Phoenix</td>\n",
       "      <td>29</td>\n",
       "      <td>Turf Paradise Race Course</td>\n",
       "      <td>[]</td>\n",
       "      <td>-112.092329</td>\n",
       "      <td>AZ</td>\n",
       "      <td>4.0</td>\n",
       "      <td>33.638573</td>\n",
       "      <td>{'Take-out': False, 'Wi-Fi': 'free', 'Good For...</td>\n",
       "      <td>business</td>\n",
       "    </tr>\n",
       "    <tr>\n",
       "      <th>1</th>\n",
       "      <td>QbrM7wqtmoNncqjc6GtFaQ</td>\n",
       "      <td>18501 N 83rd Avenue\\nGlendale, AZ 85308</td>\n",
       "      <td>{}</td>\n",
       "      <td>True</td>\n",
       "      <td>[Tires, Automotive, Fashion, Shopping, Departm...</td>\n",
       "      <td>Glendale</td>\n",
       "      <td>3</td>\n",
       "      <td>Sam's Club Members Only</td>\n",
       "      <td>[]</td>\n",
       "      <td>-112.234755</td>\n",
       "      <td>AZ</td>\n",
       "      <td>3.5</td>\n",
       "      <td>33.648545</td>\n",
       "      <td>{'Parking': {'garage': False, 'street': False,...</td>\n",
       "      <td>business</td>\n",
       "    </tr>\n",
       "    <tr>\n",
       "      <th>2</th>\n",
       "      <td>7lbvsGKzhjuX3oJtaXJvOg</td>\n",
       "      <td>5000 S Arizona Mills Cir\\nSte 590\\nTempe, AZ 8...</td>\n",
       "      <td>{'Monday': {'close': '21:00', 'open': '10:00'}...</td>\n",
       "      <td>True</td>\n",
       "      <td>[Women's Clothing, Men's Clothing, Fashion, Sh...</td>\n",
       "      <td>Tempe</td>\n",
       "      <td>7</td>\n",
       "      <td>Forever 21</td>\n",
       "      <td>[]</td>\n",
       "      <td>-111.964485</td>\n",
       "      <td>AZ</td>\n",
       "      <td>3.5</td>\n",
       "      <td>33.383123</td>\n",
       "      <td>{'Parking': {'garage': False, 'street': False,...</td>\n",
       "      <td>business</td>\n",
       "    </tr>\n",
       "    <tr>\n",
       "      <th>3</th>\n",
       "      <td>gjxoKVsRJwEoa8zd9XxlAw</td>\n",
       "      <td>912 W Sycamore Pl\\nChandler, AZ 85225</td>\n",
       "      <td>{'Monday': {'close': '19:00', 'open': '06:00'}...</td>\n",
       "      <td>True</td>\n",
       "      <td>[Pet Services, Pet Boarding/Pet Sitting, Pets]</td>\n",
       "      <td>Chandler</td>\n",
       "      <td>4</td>\n",
       "      <td>Loving Hands Pet Care</td>\n",
       "      <td>[]</td>\n",
       "      <td>-111.857818</td>\n",
       "      <td>AZ</td>\n",
       "      <td>5.0</td>\n",
       "      <td>33.356472</td>\n",
       "      <td>{}</td>\n",
       "      <td>business</td>\n",
       "    </tr>\n",
       "    <tr>\n",
       "      <th>4</th>\n",
       "      <td>V28yjMqyZnbCtabroJN_aA</td>\n",
       "      <td>1745 W Glendale Ave\\nPhoenix, AZ 85021</td>\n",
       "      <td>{}</td>\n",
       "      <td>True</td>\n",
       "      <td>[Veterinarians, Pets]</td>\n",
       "      <td>Phoenix</td>\n",
       "      <td>3</td>\n",
       "      <td>Amec Mid-City Animal Hospital</td>\n",
       "      <td>[]</td>\n",
       "      <td>-112.097232</td>\n",
       "      <td>AZ</td>\n",
       "      <td>5.0</td>\n",
       "      <td>33.538493</td>\n",
       "      <td>{}</td>\n",
       "      <td>business</td>\n",
       "    </tr>\n",
       "  </tbody>\n",
       "</table>\n",
       "</div>"
      ],
      "text/plain": [
       "              business_id                                       full_address  \\\n",
       "0  O_X3PGhk3Y5JWVi866qlJg                  1501 W Bell Rd\\nPhoenix, AZ 85023   \n",
       "1  QbrM7wqtmoNncqjc6GtFaQ            18501 N 83rd Avenue\\nGlendale, AZ 85308   \n",
       "2  7lbvsGKzhjuX3oJtaXJvOg  5000 S Arizona Mills Cir\\nSte 590\\nTempe, AZ 8...   \n",
       "3  gjxoKVsRJwEoa8zd9XxlAw              912 W Sycamore Pl\\nChandler, AZ 85225   \n",
       "4  V28yjMqyZnbCtabroJN_aA             1745 W Glendale Ave\\nPhoenix, AZ 85021   \n",
       "\n",
       "                                               hours  open  \\\n",
       "0  {'Monday': {'close': '18:00', 'open': '11:00'}...  True   \n",
       "1                                                 {}  True   \n",
       "2  {'Monday': {'close': '21:00', 'open': '10:00'}...  True   \n",
       "3  {'Monday': {'close': '19:00', 'open': '06:00'}...  True   \n",
       "4                                                 {}  True   \n",
       "\n",
       "                                          categories      city  review_count  \\\n",
       "0  [Active Life, Arts & Entertainment, Stadiums &...   Phoenix            29   \n",
       "1  [Tires, Automotive, Fashion, Shopping, Departm...  Glendale             3   \n",
       "2  [Women's Clothing, Men's Clothing, Fashion, Sh...     Tempe             7   \n",
       "3     [Pet Services, Pet Boarding/Pet Sitting, Pets]  Chandler             4   \n",
       "4                              [Veterinarians, Pets]   Phoenix             3   \n",
       "\n",
       "                            name neighborhoods   longitude state  stars  \\\n",
       "0      Turf Paradise Race Course            [] -112.092329    AZ    4.0   \n",
       "1        Sam's Club Members Only            [] -112.234755    AZ    3.5   \n",
       "2                     Forever 21            [] -111.964485    AZ    3.5   \n",
       "3          Loving Hands Pet Care            [] -111.857818    AZ    5.0   \n",
       "4  Amec Mid-City Animal Hospital            [] -112.097232    AZ    5.0   \n",
       "\n",
       "    latitude                                         attributes      type  \n",
       "0  33.638573  {'Take-out': False, 'Wi-Fi': 'free', 'Good For...  business  \n",
       "1  33.648545  {'Parking': {'garage': False, 'street': False,...  business  \n",
       "2  33.383123  {'Parking': {'garage': False, 'street': False,...  business  \n",
       "3  33.356472                                                 {}  business  \n",
       "4  33.538493                                                 {}  business  "
      ]
     },
     "execution_count": 23,
     "metadata": {},
     "output_type": "execute_result"
    }
   ],
   "source": [
    "biz_df.head()"
   ]
  },
  {
   "cell_type": "code",
   "execution_count": 24,
   "id": "946187b6",
   "metadata": {},
   "outputs": [
    {
     "data": {
      "text/plain": [
       "0.1     3.0\n",
       "0.2     3.0\n",
       "0.3     4.0\n",
       "0.4     5.0\n",
       "0.5     6.0\n",
       "0.6     8.0\n",
       "0.7    13.0\n",
       "0.8    24.0\n",
       "0.9    56.0\n",
       "Name: review_count, dtype: float64"
      ]
     },
     "execution_count": 24,
     "metadata": {},
     "output_type": "execute_result"
    }
   ],
   "source": [
    "deciles = biz_df['review_count'].quantile([.1, .2, .3, .4, .5, .6, .7, .8, .9]) \n",
    "deciles "
   ]
  },
  {
   "cell_type": "code",
   "execution_count": 25,
   "id": "8e47a9e3",
   "metadata": {},
   "outputs": [
    {
     "data": {
      "image/png": "[encoded data removed]",
      "text/plain": [
       "<Figure size 720x504 with 1 Axes>"
      ]
     },
     "metadata": {},
     "output_type": "display_data"
    }
   ],
   "source": [
    "sns.set_style('whitegrid')\n",
    "fig, ax = plt.subplots(figsize=(10, 7))\n",
    "biz_df['review_count'].hist(ax=ax, bins=100, edgecolor='black') \n",
    "for pos in deciles:\n",
    "    handle = plt.axvline(pos, color='r')\n",
    "ax.legend([handle], ['deciles'], fontsize=16) \n",
    "ax.set_xscale('log', nonpositive='clip')\n",
    "ax.set_yscale('log', nonpositive='clip')\n",
    "ax.tick_params(labelsize=16)\n",
    "_ = ax.set_xlabel('Review Count', fontsize=16) \n",
    "_ = ax.set_ylabel('Occurrence', fontsize=16)"
   ]
  },
  {
   "cell_type": "markdown",
   "id": "67f8d0d5",
   "metadata": {},
   "source": [
    "## Task 2. Computing the quantiles of the number of athletes from each country and visualizing the histogram (data was used in task 1). Applying log transform on the number of athletes and visualizing the histogram again."
   ]
  },
  {
   "cell_type": "code",
   "execution_count": 26,
   "id": "0594fb11",
   "metadata": {},
   "outputs": [
    {
     "data": {
      "text/plain": [
       "0.1      3.0\n",
       "0.2      4.0\n",
       "0.3      5.0\n",
       "0.4      7.0\n",
       "0.5     10.0\n",
       "0.6     23.0\n",
       "0.7     39.5\n",
       "0.8     67.0\n",
       "0.9    142.5\n",
       "Name: NOC, dtype: float64"
      ]
     },
     "execution_count": 26,
     "metadata": {},
     "output_type": "execute_result"
    }
   ],
   "source": [
    "# write the code here\n",
    "# Computing the quantiles of the number of athletes from each country\n",
    "quantiles = df[\"NOC\"].value_counts().quantile([.1, .2, .3, .4, .5, .6, .7, .8, .9]) \n",
    "quantiles"
   ]
  },
  {
   "cell_type": "code",
   "execution_count": 35,
   "id": "541c569f",
   "metadata": {},
   "outputs": [
    {
     "name": "stderr",
     "output_type": "stream",
     "text": [
      "C:\\Users\\badda\\AppData\\Local\\Temp\\ipykernel_31828\\368127072.py:8: MatplotlibDeprecationWarning: The 'nonposy' parameter of __init__() has been renamed 'nonpositive' since Matplotlib 3.3; support for the old name will be dropped two minor releases later.\n",
      "  ax.set_yscale('log', nonposy='clip')\n"
     ]
    },
    {
     "data": {
      "image/png": "[encoded data removed]",
      "text/plain": [
       "<Figure size 720x504 with 1 Axes>"
      ]
     },
     "metadata": {},
     "output_type": "display_data"
    }
   ],
   "source": [
    "# visualizing the histogram (data was used in task 1)\n",
    "sns.set_style('whitegrid')\n",
    "fig, ax = plt.subplots(figsize=(10, 7))\n",
    "df[\"NOC\"].value_counts().hist(ax=ax, bins=120, edgecolor='black') \n",
    "for pos in deciles:\n",
    "    handle = plt.axvline(pos, color='r')\n",
    "ax.legend([handle], ['quantiles'], fontsize=16) \n",
    "ax.set_yscale('log', nonposy='clip')\n",
    "ax.tick_params(labelsize=16)\n",
    "_ = ax.set_xlabel('Athletes', fontsize=16) \n",
    "_ = ax.set_ylabel('Countries', fontsize=16)"
   ]
  },
  {
   "cell_type": "code",
   "execution_count": 36,
   "id": "eeb6d88c",
   "metadata": {},
   "outputs": [
    {
     "name": "stderr",
     "output_type": "stream",
     "text": [
      "C:\\Users\\badda\\AppData\\Local\\Temp\\ipykernel_31828\\160244757.py:8: MatplotlibDeprecationWarning: The 'nonposx' parameter of __init__() has been renamed 'nonpositive' since Matplotlib 3.3; support for the old name will be dropped two minor releases later.\n",
      "  ax.set_xscale('log', nonposx='clip')\n",
      "C:\\Users\\badda\\AppData\\Local\\Temp\\ipykernel_31828\\160244757.py:9: MatplotlibDeprecationWarning: The 'nonposy' parameter of __init__() has been renamed 'nonpositive' since Matplotlib 3.3; support for the old name will be dropped two minor releases later.\n",
      "  ax.set_yscale('log', nonposy='clip')\n"
     ]
    },
    {
     "data": {
      "image/png": "[encoded data removed]",
      "text/plain": [
       "<Figure size 720x504 with 1 Axes>"
      ]
     },
     "metadata": {},
     "output_type": "display_data"
    }
   ],
   "source": [
    "# Applying log transform on the number of athletes and visualizing the histogram again.\n",
    "sns.set_style('whitegrid')\n",
    "fig, ax = plt.subplots(figsize=(10, 7))\n",
    "df[\"NOC\"].value_counts().hist(ax=ax, bins=120, edgecolor='black') \n",
    "for pos in deciles:\n",
    "    handle = plt.axvline(pos, color='r')\n",
    "ax.legend([handle], ['quantiles'], fontsize=16) \n",
    "ax.set_xscale('log', nonposx='clip')\n",
    "ax.set_yscale('log', nonposy='clip')\n",
    "ax.tick_params(labelsize=16)\n",
    "_ = ax.set_xlabel('Athletes', fontsize=16) \n",
    "_ = ax.set_ylabel('Countries', fontsize=16)"
   ]
  },
  {
   "cell_type": "markdown",
   "id": "e31cc688",
   "metadata": {},
   "source": [
    "## Question 1. Comparing the histograms before and after applying log transform and answer the question: why do we need to apply log transform on some data?"
   ]
  },
  {
   "cell_type": "markdown",
   "id": "37a6431d",
   "metadata": {},
   "source": [
    "**Answer to Q1**: \n",
    "The histogram 1 and histogram 2 are slightly different. Histogram 2 has slightly reduced skewness. \n",
    "\n",
    "When applied to a skewed distribution with a long tail on one side, a log transform can help reduce the skewness. This is because the log transform compresses larger values more than smaller ones, pulling in the tail while spreading out the distribution's core region. As a result, the histogram of the modified data may appear more symmetrical after applying log transform to it.\n",
    "\n",
    "We apply log transform on some data because of following reasons:\n",
    "1. In a Skewed distributions, by applying log transform skewness is reduced.\n",
    "2. For better visualisation, sometimes is important to compress wide ranges of values this can be done using log transform.\n",
    "3. Relationships that multiply are linearized using log transform."
   ]
  },
  {
   "cell_type": "markdown",
   "id": "3f63fa4e",
   "metadata": {},
   "source": [
    "---\n"
   ]
  },
  {
   "cell_type": "markdown",
   "id": "1eefd91e",
   "metadata": {},
   "source": [
    "## **(Tutorial) Box-Cox transform**"
   ]
  },
  {
   "cell_type": "code",
   "execution_count": 37,
   "id": "e4818c6c",
   "metadata": {},
   "outputs": [],
   "source": [
    "x = np.arange(0.001, 3, 0.01)\n",
    "lambda0 = np.log(x)\n",
    "one_quarter = (x**0.25 - 1)/0.25\n",
    "square_root = (x**0.5 - 1)/0.5\n",
    "three_quarters = (x**0.75 - 1)/0.75\n",
    "one_point_five = (x**1.5 - 1)/1.5"
   ]
  },
  {
   "cell_type": "code",
   "execution_count": 38,
   "id": "83a4d38a",
   "metadata": {},
   "outputs": [
    {
     "data": {
      "text/plain": [
       "Text(0.5, 1.0, 'Box-Cox Transforms')"
      ]
     },
     "execution_count": 38,
     "metadata": {},
     "output_type": "execute_result"
    },
    {
     "data": {
      "image/png": "[encoded data removed]",
      "text/plain": [
       "<Figure size 720x504 with 1 Axes>"
      ]
     },
     "metadata": {},
     "output_type": "display_data"
    }
   ],
   "source": [
    "fig, ax = plt.subplots(figsize=(10, 7))\n",
    "plt.plot(x, lambda0, 'c', \n",
    "         x, one_quarter, 'r--', \n",
    "         x, square_root, 'g-.', \n",
    "         x, three_quarters, 'b:',\n",
    "         x, one_point_five, 'k')\n",
    "plt.legend(['lambda = 0', 'lambda = 0.25', 'lambda = 0.5', 'lambda = 0.75', 'lambda = 1.5'], \n",
    "           loc='lower right',\n",
    "           prop={'size': 14})\n",
    "ax.tick_params(labelsize=14)\n",
    "ax.set_xlim([0.0,3.0])\n",
    "ax.set_xlabel('x', fontsize=14)\n",
    "ax.set_ylabel('y', fontsize=14)\n",
    "ax.set_title('Box-Cox Transforms', fontsize=14)"
   ]
  },
  {
   "cell_type": "markdown",
   "id": "add36310",
   "metadata": {},
   "source": [
    "## Example: Visualizing the histograms of original, log transformed, and Box-Cox transformed review counts"
   ]
  },
  {
   "cell_type": "code",
   "execution_count": 39,
   "id": "b56a9763",
   "metadata": {},
   "outputs": [],
   "source": [
    "from scipy import stats"
   ]
  },
  {
   "cell_type": "code",
   "execution_count": 40,
   "id": "714deac4",
   "metadata": {},
   "outputs": [],
   "source": [
    "rc_log = stats.boxcox(biz_df['review_count'], lmbda=0)\n",
    "rc_bc, bc_params = stats.boxcox(biz_df['review_count'])\n",
    "biz_df['rc_bc'] = rc_bc\n",
    "biz_df['rc_log'] = rc_log"
   ]
  },
  {
   "cell_type": "code",
   "execution_count": 41,
   "id": "77d11246",
   "metadata": {},
   "outputs": [
    {
     "data": {
      "text/plain": [
       "Text(0, 0.5, 'Occurrence')"
      ]
     },
     "execution_count": 41,
     "metadata": {},
     "output_type": "execute_result"
    },
    {
     "data": {
      "image/png": "[encoded data removed]",
      "text/plain": [
       "<Figure size 720x1008 with 3 Axes>"
      ]
     },
     "metadata": {},
     "output_type": "display_data"
    }
   ],
   "source": [
    "fig, (ax1, ax2, ax3) = plt.subplots(3,1, figsize=(10, 14))\n",
    "\n",
    "# 원본 리뷰 카운트 히스토그램\n",
    "biz_df['review_count'].hist(ax=ax1, bins=100)\n",
    "ax1.set_yscale('log', nonpositive='clip')\n",
    "ax1.tick_params(labelsize=14)\n",
    "ax1.set_title('Review Counts Histogram', fontsize=14)\n",
    "ax1.set_xlabel('')\n",
    "ax1.set_ylabel('Occurrence', fontsize=14)\n",
    "\n",
    "# 로그 변환된 리뷰 카운트\n",
    "biz_df['rc_log'].hist(ax=ax2, bins=100)\n",
    "ax2.set_yscale('log', nonpositive='clip')\n",
    "ax2.tick_params(labelsize=14)\n",
    "ax2.set_title('Log Transformed Counts Histogram', fontsize=14)\n",
    "ax2.set_xlabel('')\n",
    "ax2.set_ylabel('Occurrence', fontsize=14)\n",
    "\n",
    "# Box-Cox 변환된 리뷰 카운트\n",
    "biz_df['rc_bc'].hist(ax=ax3, bins=100)\n",
    "ax3.set_yscale('log', nonpositive='clip')\n",
    "ax3.tick_params(labelsize=14)\n",
    "ax3.set_title('Box-Cox Transformed Counts Histogram', fontsize=14)\n",
    "ax3.set_xlabel('')\n",
    "ax3.set_ylabel('Occurrence', fontsize=14)"
   ]
  },
  {
   "cell_type": "markdown",
   "id": "cb20c0ec",
   "metadata": {},
   "source": [
    "## **Task 3. Visualizing the histograms of original, log transformed, and Box-Cox transformed athletes numbers (data used in task 1 and task 2)**"
   ]
  },
  {
   "cell_type": "code",
   "execution_count": 42,
   "id": "43df7081",
   "metadata": {},
   "outputs": [
    {
     "data": {
      "text/plain": [
       "United States of America         615\n",
       "Japan                            586\n",
       "Australia                        470\n",
       "People's Republic of China       401\n",
       "Germany                          400\n",
       "                                ... \n",
       "South Sudan                        2\n",
       "Central African Republic           2\n",
       "Saint Kitts and Nevis              2\n",
       "St Vincent and the Grenadines      2\n",
       "Mauritania                         2\n",
       "Name: NOC, Length: 206, dtype: int64"
      ]
     },
     "execution_count": 42,
     "metadata": {},
     "output_type": "execute_result"
    }
   ],
   "source": [
    "# write your code here\n",
    "# Visualizing the histograms of original, log transformed, and Box-Cox transformed athletes numbers\n",
    "df[\"NOC\"].value_counts()"
   ]
  },
  {
   "cell_type": "code",
   "execution_count": 43,
   "id": "275ae534",
   "metadata": {},
   "outputs": [
    {
     "data": {
      "text/html": [
       "<div>\n",
       "<style scoped>\n",
       "    .dataframe tbody tr th:only-of-type {\n",
       "        vertical-align: middle;\n",
       "    }\n",
       "\n",
       "    .dataframe tbody tr th {\n",
       "        vertical-align: top;\n",
       "    }\n",
       "\n",
       "    .dataframe thead th {\n",
       "        text-align: right;\n",
       "    }\n",
       "</style>\n",
       "<table border=\"1\" class=\"dataframe\">\n",
       "  <thead>\n",
       "    <tr style=\"text-align: right;\">\n",
       "      <th></th>\n",
       "      <th>Country</th>\n",
       "      <th>Count</th>\n",
       "    </tr>\n",
       "  </thead>\n",
       "  <tbody>\n",
       "    <tr>\n",
       "      <th>0</th>\n",
       "      <td>United States of America</td>\n",
       "      <td>615</td>\n",
       "    </tr>\n",
       "    <tr>\n",
       "      <th>1</th>\n",
       "      <td>Japan</td>\n",
       "      <td>586</td>\n",
       "    </tr>\n",
       "    <tr>\n",
       "      <th>2</th>\n",
       "      <td>Australia</td>\n",
       "      <td>470</td>\n",
       "    </tr>\n",
       "    <tr>\n",
       "      <th>3</th>\n",
       "      <td>People's Republic of China</td>\n",
       "      <td>401</td>\n",
       "    </tr>\n",
       "    <tr>\n",
       "      <th>4</th>\n",
       "      <td>Germany</td>\n",
       "      <td>400</td>\n",
       "    </tr>\n",
       "    <tr>\n",
       "      <th>...</th>\n",
       "      <td>...</td>\n",
       "      <td>...</td>\n",
       "    </tr>\n",
       "    <tr>\n",
       "      <th>201</th>\n",
       "      <td>South Sudan</td>\n",
       "      <td>2</td>\n",
       "    </tr>\n",
       "    <tr>\n",
       "      <th>202</th>\n",
       "      <td>Central African Republic</td>\n",
       "      <td>2</td>\n",
       "    </tr>\n",
       "    <tr>\n",
       "      <th>203</th>\n",
       "      <td>Saint Kitts and Nevis</td>\n",
       "      <td>2</td>\n",
       "    </tr>\n",
       "    <tr>\n",
       "      <th>204</th>\n",
       "      <td>St Vincent and the Grenadines</td>\n",
       "      <td>2</td>\n",
       "    </tr>\n",
       "    <tr>\n",
       "      <th>205</th>\n",
       "      <td>Mauritania</td>\n",
       "      <td>2</td>\n",
       "    </tr>\n",
       "  </tbody>\n",
       "</table>\n",
       "<p>206 rows × 2 columns</p>\n",
       "</div>"
      ],
      "text/plain": [
       "                           Country  Count\n",
       "0         United States of America    615\n",
       "1                            Japan    586\n",
       "2                        Australia    470\n",
       "3       People's Republic of China    401\n",
       "4                          Germany    400\n",
       "..                             ...    ...\n",
       "201                    South Sudan      2\n",
       "202       Central African Republic      2\n",
       "203          Saint Kitts and Nevis      2\n",
       "204  St Vincent and the Grenadines      2\n",
       "205                     Mauritania      2\n",
       "\n",
       "[206 rows x 2 columns]"
      ]
     },
     "execution_count": 43,
     "metadata": {},
     "output_type": "execute_result"
    }
   ],
   "source": [
    "# Visualizing the histograms of original, log transformed, and Box-Cox transformed athletes numbers\n",
    "athletes = pd.DataFrame()\n",
    "athletes[\"Country\"] = df[\"NOC\"].value_counts().index\n",
    "athletes_list = []\n",
    "for i in range(len(df[\"NOC\"].value_counts())):\n",
    "    a = df[\"NOC\"].value_counts()[i]\n",
    "    athletes_list.append(a)\n",
    "athletes[\"Count\"] = athletes_list\n",
    "athletes"
   ]
  },
  {
   "cell_type": "code",
   "execution_count": 44,
   "id": "5e9e5328",
   "metadata": {},
   "outputs": [
    {
     "data": {
      "text/html": [
       "<div>\n",
       "<style scoped>\n",
       "    .dataframe tbody tr th:only-of-type {\n",
       "        vertical-align: middle;\n",
       "    }\n",
       "\n",
       "    .dataframe tbody tr th {\n",
       "        vertical-align: top;\n",
       "    }\n",
       "\n",
       "    .dataframe thead th {\n",
       "        text-align: right;\n",
       "    }\n",
       "</style>\n",
       "<table border=\"1\" class=\"dataframe\">\n",
       "  <thead>\n",
       "    <tr style=\"text-align: right;\">\n",
       "      <th></th>\n",
       "      <th>Country</th>\n",
       "      <th>Count</th>\n",
       "      <th>athletes_boxcox</th>\n",
       "      <th>athletes_log</th>\n",
       "    </tr>\n",
       "  </thead>\n",
       "  <tbody>\n",
       "    <tr>\n",
       "      <th>0</th>\n",
       "      <td>United States of America</td>\n",
       "      <td>615</td>\n",
       "      <td>3.541425</td>\n",
       "      <td>6.421622</td>\n",
       "    </tr>\n",
       "    <tr>\n",
       "      <th>1</th>\n",
       "      <td>Japan</td>\n",
       "      <td>586</td>\n",
       "      <td>3.528677</td>\n",
       "      <td>6.373320</td>\n",
       "    </tr>\n",
       "    <tr>\n",
       "      <th>2</th>\n",
       "      <td>Australia</td>\n",
       "      <td>470</td>\n",
       "      <td>3.468800</td>\n",
       "      <td>6.152733</td>\n",
       "    </tr>\n",
       "    <tr>\n",
       "      <th>3</th>\n",
       "      <td>People's Republic of China</td>\n",
       "      <td>401</td>\n",
       "      <td>3.423968</td>\n",
       "      <td>5.993961</td>\n",
       "    </tr>\n",
       "    <tr>\n",
       "      <th>4</th>\n",
       "      <td>Germany</td>\n",
       "      <td>400</td>\n",
       "      <td>3.423251</td>\n",
       "      <td>5.991465</td>\n",
       "    </tr>\n",
       "    <tr>\n",
       "      <th>...</th>\n",
       "      <td>...</td>\n",
       "      <td>...</td>\n",
       "      <td>...</td>\n",
       "      <td>...</td>\n",
       "    </tr>\n",
       "    <tr>\n",
       "      <th>201</th>\n",
       "      <td>South Sudan</td>\n",
       "      <td>2</td>\n",
       "      <td>0.645449</td>\n",
       "      <td>0.693147</td>\n",
       "    </tr>\n",
       "    <tr>\n",
       "      <th>202</th>\n",
       "      <td>Central African Republic</td>\n",
       "      <td>2</td>\n",
       "      <td>0.645449</td>\n",
       "      <td>0.693147</td>\n",
       "    </tr>\n",
       "    <tr>\n",
       "      <th>203</th>\n",
       "      <td>Saint Kitts and Nevis</td>\n",
       "      <td>2</td>\n",
       "      <td>0.645449</td>\n",
       "      <td>0.693147</td>\n",
       "    </tr>\n",
       "    <tr>\n",
       "      <th>204</th>\n",
       "      <td>St Vincent and the Grenadines</td>\n",
       "      <td>2</td>\n",
       "      <td>0.645449</td>\n",
       "      <td>0.693147</td>\n",
       "    </tr>\n",
       "    <tr>\n",
       "      <th>205</th>\n",
       "      <td>Mauritania</td>\n",
       "      <td>2</td>\n",
       "      <td>0.645449</td>\n",
       "      <td>0.693147</td>\n",
       "    </tr>\n",
       "  </tbody>\n",
       "</table>\n",
       "<p>206 rows × 4 columns</p>\n",
       "</div>"
      ],
      "text/plain": [
       "                           Country  Count  athletes_boxcox  athletes_log\n",
       "0         United States of America    615         3.541425      6.421622\n",
       "1                            Japan    586         3.528677      6.373320\n",
       "2                        Australia    470         3.468800      6.152733\n",
       "3       People's Republic of China    401         3.423968      5.993961\n",
       "4                          Germany    400         3.423251      5.991465\n",
       "..                             ...    ...              ...           ...\n",
       "201                    South Sudan      2         0.645449      0.693147\n",
       "202       Central African Republic      2         0.645449      0.693147\n",
       "203          Saint Kitts and Nevis      2         0.645449      0.693147\n",
       "204  St Vincent and the Grenadines      2         0.645449      0.693147\n",
       "205                     Mauritania      2         0.645449      0.693147\n",
       "\n",
       "[206 rows x 4 columns]"
      ]
     },
     "execution_count": 44,
     "metadata": {},
     "output_type": "execute_result"
    }
   ],
   "source": [
    "# log transforming and box-cox transforming\n",
    "athletes_log = stats.boxcox(athletes[\"Count\"], lmbda=0)\n",
    "athletes_boxcox, boxcox_params = stats.boxcox(athletes[\"Count\"])\n",
    "athletes['athletes_boxcox'] = athletes_boxcox\n",
    "athletes['athletes_log'] = athletes_log\n",
    "athletes"
   ]
  },
  {
   "cell_type": "code",
   "execution_count": 45,
   "id": "616eb378",
   "metadata": {},
   "outputs": [
    {
     "name": "stderr",
     "output_type": "stream",
     "text": [
      "C:\\Users\\badda\\AppData\\Local\\Temp\\ipykernel_31828\\265878914.py:5: MatplotlibDeprecationWarning: The 'nonposy' parameter of __init__() has been renamed 'nonpositive' since Matplotlib 3.3; support for the old name will be dropped two minor releases later.\n",
      "  ax1.set_yscale('log', nonposy='clip')\n",
      "C:\\Users\\badda\\AppData\\Local\\Temp\\ipykernel_31828\\265878914.py:14: MatplotlibDeprecationWarning: The 'nonposy' parameter of __init__() has been renamed 'nonpositive' since Matplotlib 3.3; support for the old name will be dropped two minor releases later.\n",
      "  ax2.set_yscale('log', nonposy='clip')\n",
      "C:\\Users\\badda\\AppData\\Local\\Temp\\ipykernel_31828\\265878914.py:21: MatplotlibDeprecationWarning: The 'nonposy' parameter of __init__() has been renamed 'nonpositive' since Matplotlib 3.3; support for the old name will be dropped two minor releases later.\n",
      "  ax3.set_yscale('log', nonposy='clip')\n"
     ]
    },
    {
     "data": {
      "text/plain": [
       "Text(0, 0.5, 'Occurrence')"
      ]
     },
     "execution_count": 45,
     "metadata": {},
     "output_type": "execute_result"
    },
    {
     "data": {
      "image/png": "[encoded data removed]",
      "text/plain": [
       "<Figure size 720x1008 with 3 Axes>"
      ]
     },
     "metadata": {},
     "output_type": "display_data"
    }
   ],
   "source": [
    "fig, (ax1, ax2, ax3) = plt.subplots(3,1, figsize=(10, 14))\n",
    "\n",
    "\n",
    "athletes[\"Count\"].hist(ax=ax1, bins=120)\n",
    "ax1.set_yscale('log', nonposy='clip')\n",
    "ax1.tick_params(labelsize=14)\n",
    "ax1.set_title('Athlete Counts Histogram', fontsize=14)\n",
    "ax1.set_xlabel('')\n",
    "ax1.set_ylabel('Occurrence', fontsize=14)\n",
    "\n",
    "\n",
    "\n",
    "athletes['athletes_log'].hist(ax=ax2, bins=120)\n",
    "ax2.set_yscale('log', nonposy='clip')\n",
    "ax2.tick_params(labelsize=14)\n",
    "ax2.set_title('Log Transformed Counts Histogram', fontsize=14)\n",
    "ax2.set_xlabel('')\n",
    "ax2.set_ylabel('Occurrence', fontsize=14)\n",
    "\n",
    "athletes['athletes_boxcox'].hist(ax=ax3, bins=120)\n",
    "ax3.set_yscale('log', nonposy='clip')\n",
    "ax3.tick_params(labelsize=14)\n",
    "ax3.set_title('Box-Cox Transformed Counts Histogram', fontsize=14)\n",
    "ax3.set_xlabel('')\n",
    "ax3.set_ylabel('Occurrence', fontsize=14)"
   ]
  },
  {
   "cell_type": "markdown",
   "id": "56bf63f7",
   "metadata": {},
   "source": [
    "## Question 2. Listing another transform method other than log and box-cox transform. Explain when to use them."
   ]
  },
  {
   "cell_type": "markdown",
   "id": "31358ddf",
   "metadata": {},
   "source": [
    "**Answer to Q2:**\n",
    "\n",
    "Square Root transform : Using this method, the variable is replaced with its square root. \n",
    "\n",
    "When to use:\n",
    "1. When the data is skewed to right, it can reduce the skewness and make it more symmetric. \n",
    "2. It stabilises the variance, which is especially significant when the data contains large values or outliers.\n",
    "\n",
    "Reciprocal Transformation:Using this method, the variable is replaced with its inverse.\n",
    "\n",
    "When to use:\n",
    "1. When it is required to compress the range of values or cope with data containing outliers or large numbers.\n",
    "2. When the data is skewed to right, it can reduce the skewness and make it more symmetric. \n",
    "\n",
    "\n",
    "Yeo Johnson transform : The Box-Cox extension Yeo-Johnson transform can handle both positive and negative input data with greater flexibility in dealing with a broader range of data.\n",
    "\n",
    "When to use:\n",
    "1. When working with data that has both positive and negative values.\n",
    "2. When the original data has skewness in both directions.\n",
    "\n",
    "\n"
   ]
  },
  {
   "cell_type": "markdown",
   "id": "a3e74bfb",
   "metadata": {},
   "source": [
    "---\n"
   ]
  },
  {
   "cell_type": "markdown",
   "id": "11103c1f",
   "metadata": {},
   "source": [
    "## Feature scaling example\n",
    "**Online News Popularity Dataset**: https://archive.ics.uci.edu/ml/machine-learning-databases/00332/OnlineNewsPopularity.zip"
   ]
  },
  {
   "cell_type": "code",
   "execution_count": 50,
   "id": "3e1609d4",
   "metadata": {},
   "outputs": [],
   "source": [
    "import sklearn.preprocessing as preproc"
   ]
  },
  {
   "cell_type": "code",
   "execution_count": 51,
   "id": "f24edaa0",
   "metadata": {},
   "outputs": [
    {
     "data": {
      "text/html": [
       "<div>\n",
       "<style scoped>\n",
       "    .dataframe tbody tr th:only-of-type {\n",
       "        vertical-align: middle;\n",
       "    }\n",
       "\n",
       "    .dataframe tbody tr th {\n",
       "        vertical-align: top;\n",
       "    }\n",
       "\n",
       "    .dataframe thead th {\n",
       "        text-align: right;\n",
       "    }\n",
       "</style>\n",
       "<table border=\"1\" class=\"dataframe\">\n",
       "  <thead>\n",
       "    <tr style=\"text-align: right;\">\n",
       "      <th></th>\n",
       "      <th>url</th>\n",
       "      <th>timedelta</th>\n",
       "      <th>n_tokens_title</th>\n",
       "      <th>n_tokens_content</th>\n",
       "      <th>n_unique_tokens</th>\n",
       "      <th>n_non_stop_words</th>\n",
       "      <th>n_non_stop_unique_tokens</th>\n",
       "      <th>num_hrefs</th>\n",
       "      <th>num_self_hrefs</th>\n",
       "      <th>num_imgs</th>\n",
       "      <th>...</th>\n",
       "      <th>min_positive_polarity</th>\n",
       "      <th>max_positive_polarity</th>\n",
       "      <th>avg_negative_polarity</th>\n",
       "      <th>min_negative_polarity</th>\n",
       "      <th>max_negative_polarity</th>\n",
       "      <th>title_subjectivity</th>\n",
       "      <th>title_sentiment_polarity</th>\n",
       "      <th>abs_title_subjectivity</th>\n",
       "      <th>abs_title_sentiment_polarity</th>\n",
       "      <th>shares</th>\n",
       "    </tr>\n",
       "  </thead>\n",
       "  <tbody>\n",
       "    <tr>\n",
       "      <th>0</th>\n",
       "      <td>http://mashable.com/2013/01/07/amazon-instant-...</td>\n",
       "      <td>731.0</td>\n",
       "      <td>12.0</td>\n",
       "      <td>219.0</td>\n",
       "      <td>0.663594</td>\n",
       "      <td>1.0</td>\n",
       "      <td>0.815385</td>\n",
       "      <td>4.0</td>\n",
       "      <td>2.0</td>\n",
       "      <td>1.0</td>\n",
       "      <td>...</td>\n",
       "      <td>0.100000</td>\n",
       "      <td>0.7</td>\n",
       "      <td>-0.350000</td>\n",
       "      <td>-0.600</td>\n",
       "      <td>-0.200000</td>\n",
       "      <td>0.500000</td>\n",
       "      <td>-0.187500</td>\n",
       "      <td>0.000000</td>\n",
       "      <td>0.187500</td>\n",
       "      <td>593</td>\n",
       "    </tr>\n",
       "    <tr>\n",
       "      <th>1</th>\n",
       "      <td>http://mashable.com/2013/01/07/ap-samsung-spon...</td>\n",
       "      <td>731.0</td>\n",
       "      <td>9.0</td>\n",
       "      <td>255.0</td>\n",
       "      <td>0.604743</td>\n",
       "      <td>1.0</td>\n",
       "      <td>0.791946</td>\n",
       "      <td>3.0</td>\n",
       "      <td>1.0</td>\n",
       "      <td>1.0</td>\n",
       "      <td>...</td>\n",
       "      <td>0.033333</td>\n",
       "      <td>0.7</td>\n",
       "      <td>-0.118750</td>\n",
       "      <td>-0.125</td>\n",
       "      <td>-0.100000</td>\n",
       "      <td>0.000000</td>\n",
       "      <td>0.000000</td>\n",
       "      <td>0.500000</td>\n",
       "      <td>0.000000</td>\n",
       "      <td>711</td>\n",
       "    </tr>\n",
       "    <tr>\n",
       "      <th>2</th>\n",
       "      <td>http://mashable.com/2013/01/07/apple-40-billio...</td>\n",
       "      <td>731.0</td>\n",
       "      <td>9.0</td>\n",
       "      <td>211.0</td>\n",
       "      <td>0.575130</td>\n",
       "      <td>1.0</td>\n",
       "      <td>0.663866</td>\n",
       "      <td>3.0</td>\n",
       "      <td>1.0</td>\n",
       "      <td>1.0</td>\n",
       "      <td>...</td>\n",
       "      <td>0.100000</td>\n",
       "      <td>1.0</td>\n",
       "      <td>-0.466667</td>\n",
       "      <td>-0.800</td>\n",
       "      <td>-0.133333</td>\n",
       "      <td>0.000000</td>\n",
       "      <td>0.000000</td>\n",
       "      <td>0.500000</td>\n",
       "      <td>0.000000</td>\n",
       "      <td>1500</td>\n",
       "    </tr>\n",
       "    <tr>\n",
       "      <th>3</th>\n",
       "      <td>http://mashable.com/2013/01/07/astronaut-notre...</td>\n",
       "      <td>731.0</td>\n",
       "      <td>9.0</td>\n",
       "      <td>531.0</td>\n",
       "      <td>0.503788</td>\n",
       "      <td>1.0</td>\n",
       "      <td>0.665635</td>\n",
       "      <td>9.0</td>\n",
       "      <td>0.0</td>\n",
       "      <td>1.0</td>\n",
       "      <td>...</td>\n",
       "      <td>0.136364</td>\n",
       "      <td>0.8</td>\n",
       "      <td>-0.369697</td>\n",
       "      <td>-0.600</td>\n",
       "      <td>-0.166667</td>\n",
       "      <td>0.000000</td>\n",
       "      <td>0.000000</td>\n",
       "      <td>0.500000</td>\n",
       "      <td>0.000000</td>\n",
       "      <td>1200</td>\n",
       "    </tr>\n",
       "    <tr>\n",
       "      <th>4</th>\n",
       "      <td>http://mashable.com/2013/01/07/att-u-verse-apps/</td>\n",
       "      <td>731.0</td>\n",
       "      <td>13.0</td>\n",
       "      <td>1072.0</td>\n",
       "      <td>0.415646</td>\n",
       "      <td>1.0</td>\n",
       "      <td>0.540890</td>\n",
       "      <td>19.0</td>\n",
       "      <td>19.0</td>\n",
       "      <td>20.0</td>\n",
       "      <td>...</td>\n",
       "      <td>0.033333</td>\n",
       "      <td>1.0</td>\n",
       "      <td>-0.220192</td>\n",
       "      <td>-0.500</td>\n",
       "      <td>-0.050000</td>\n",
       "      <td>0.454545</td>\n",
       "      <td>0.136364</td>\n",
       "      <td>0.045455</td>\n",
       "      <td>0.136364</td>\n",
       "      <td>505</td>\n",
       "    </tr>\n",
       "  </tbody>\n",
       "</table>\n",
       "<p>5 rows × 61 columns</p>\n",
       "</div>"
      ],
      "text/plain": [
       "                                                 url  timedelta  \\\n",
       "0  http://mashable.com/2013/01/07/amazon-instant-...      731.0   \n",
       "1  http://mashable.com/2013/01/07/ap-samsung-spon...      731.0   \n",
       "2  http://mashable.com/2013/01/07/apple-40-billio...      731.0   \n",
       "3  http://mashable.com/2013/01/07/astronaut-notre...      731.0   \n",
       "4   http://mashable.com/2013/01/07/att-u-verse-apps/      731.0   \n",
       "\n",
       "   n_tokens_title  n_tokens_content  n_unique_tokens  n_non_stop_words  \\\n",
       "0            12.0             219.0         0.663594               1.0   \n",
       "1             9.0             255.0         0.604743               1.0   \n",
       "2             9.0             211.0         0.575130               1.0   \n",
       "3             9.0             531.0         0.503788               1.0   \n",
       "4            13.0            1072.0         0.415646               1.0   \n",
       "\n",
       "   n_non_stop_unique_tokens  num_hrefs  num_self_hrefs  num_imgs  ...  \\\n",
       "0                  0.815385        4.0             2.0       1.0  ...   \n",
       "1                  0.791946        3.0             1.0       1.0  ...   \n",
       "2                  0.663866        3.0             1.0       1.0  ...   \n",
       "3                  0.665635        9.0             0.0       1.0  ...   \n",
       "4                  0.540890       19.0            19.0      20.0  ...   \n",
       "\n",
       "   min_positive_polarity  max_positive_polarity  avg_negative_polarity  \\\n",
       "0               0.100000                    0.7              -0.350000   \n",
       "1               0.033333                    0.7              -0.118750   \n",
       "2               0.100000                    1.0              -0.466667   \n",
       "3               0.136364                    0.8              -0.369697   \n",
       "4               0.033333                    1.0              -0.220192   \n",
       "\n",
       "   min_negative_polarity  max_negative_polarity  title_subjectivity  \\\n",
       "0                 -0.600              -0.200000            0.500000   \n",
       "1                 -0.125              -0.100000            0.000000   \n",
       "2                 -0.800              -0.133333            0.000000   \n",
       "3                 -0.600              -0.166667            0.000000   \n",
       "4                 -0.500              -0.050000            0.454545   \n",
       "\n",
       "   title_sentiment_polarity  abs_title_subjectivity  \\\n",
       "0                 -0.187500                0.000000   \n",
       "1                  0.000000                0.500000   \n",
       "2                  0.000000                0.500000   \n",
       "3                  0.000000                0.500000   \n",
       "4                  0.136364                0.045455   \n",
       "\n",
       "   abs_title_sentiment_polarity  shares  \n",
       "0                      0.187500     593  \n",
       "1                      0.000000     711  \n",
       "2                      0.000000    1500  \n",
       "3                      0.000000    1200  \n",
       "4                      0.136364     505  \n",
       "\n",
       "[5 rows x 61 columns]"
      ]
     },
     "execution_count": 51,
     "metadata": {},
     "output_type": "execute_result"
    }
   ],
   "source": [
    "news_df = pd.read_csv('OnlineNewsPopularity.csv', delimiter=', ',engine = 'python') \n",
    "news_df.head()"
   ]
  },
  {
   "cell_type": "code",
   "execution_count": 52,
   "id": "11bcb993",
   "metadata": {},
   "outputs": [
    {
     "data": {
      "text/plain": [
       "array([0.02584376, 0.03009205, 0.02489969, ..., 0.05215955, 0.08048147,\n",
       "       0.01852726])"
      ]
     },
     "execution_count": 52,
     "metadata": {},
     "output_type": "execute_result"
    }
   ],
   "source": [
    "# Min-max scaling\n",
    "news_df['minmax'] = preproc.minmax_scale(news_df[['n_tokens_content']])\n",
    "news_df['minmax'].values"
   ]
  },
  {
   "cell_type": "code",
   "execution_count": 53,
   "id": "977dacc1",
   "metadata": {},
   "outputs": [
    {
     "data": {
      "text/plain": [
       "array([-0.69521045, -0.61879381, -0.71219192, ..., -0.2218518 ,\n",
       "        0.28759248, -0.82681689])"
      ]
     },
     "execution_count": 53,
     "metadata": {},
     "output_type": "execute_result"
    }
   ],
   "source": [
    "# Standardization\n",
    "news_df['standardized'] = preproc.StandardScaler().fit_transform(news_df[['n_tokens_content']])\n",
    "news_df['standardized'].values"
   ]
  },
  {
   "cell_type": "code",
   "execution_count": 54,
   "id": "7ecb5209",
   "metadata": {},
   "outputs": [
    {
     "data": {
      "text/plain": [
       "array([0.00152439, 0.00177498, 0.00146871, ..., 0.00307663, 0.0047472 ,\n",
       "       0.00109283])"
      ]
     },
     "execution_count": 54,
     "metadata": {},
     "output_type": "execute_result"
    }
   ],
   "source": [
    "# L2-normalization\n",
    "news_df['l2_normalized'] = preproc.normalize(news_df[['n_tokens_content']], axis=0)\n",
    "news_df['l2_normalized'].values"
   ]
  },
  {
   "cell_type": "code",
   "execution_count": 55,
   "id": "202535cc",
   "metadata": {},
   "outputs": [
    {
     "data": {
      "text/plain": [
       "Text(0.5, 39.49999999999994, 'L2-normalized word count')"
      ]
     },
     "execution_count": 55,
     "metadata": {},
     "output_type": "execute_result"
    },
    {
     "data": {
      "image/png": "[encoded data removed]",
      "text/plain": [
       "<Figure size 576x504 with 4 Axes>"
      ]
     },
     "metadata": {},
     "output_type": "display_data"
    }
   ],
   "source": [
    "fig, (ax1, ax2, ax3, ax4) = plt.subplots(4,1, figsize=(8, 7))\n",
    "fig.tight_layout(h_pad=2.0)\n",
    "\n",
    "news_df['n_tokens_content'].hist(ax=ax1, bins=100)\n",
    "ax1.tick_params(labelsize=14)\n",
    "ax1.set_xlabel('Article word count', fontsize=14)\n",
    "ax1.set_ylabel('Number of articles', fontsize=14)\n",
    "\n",
    "news_df['minmax'].hist(ax=ax2, bins=100)\n",
    "ax2.tick_params(labelsize=14)\n",
    "ax2.set_xlabel('Min-max scaled word count', fontsize=14)\n",
    "# ax2.set_ylabel('Number of articles', fontsize=14)\n",
    "\n",
    "news_df['standardized'].hist(ax=ax3, bins=100)\n",
    "ax3.tick_params(labelsize=14)\n",
    "ax3.set_xlabel('Standardized word count', fontsize=14)\n",
    "# ax3.set_ylabel('Number of articles', fontsize=14)\n",
    "\n",
    "news_df['l2_normalized'].hist(ax=ax4, bins=100)\n",
    "ax4.tick_params(labelsize=14)\n",
    "ax4.set_xlabel('L2-normalized word count', fontsize=14)\n",
    "# ax4.set_ylabel('Number of articles', fontsize=14)"
   ]
  },
  {
   "cell_type": "markdown",
   "id": "771b78a4",
   "metadata": {},
   "source": [
    "##  Task 4. Visualizing the histograms of original and scaled data (the data used in the previous tasks)"
   ]
  },
  {
   "cell_type": "code",
   "execution_count": 46,
   "id": "c7c77032",
   "metadata": {},
   "outputs": [
    {
     "data": {
      "text/plain": [
       "array([0.37287214, 0.35528955, 0.28495919, 0.24312476, 0.24251846,\n",
       "       0.22857365, 0.22311699, 0.22190439, 0.21584143, 0.19643995,\n",
       "       0.19280218, 0.17643218, 0.16612515, 0.13520404, 0.12247182,\n",
       "       0.11822775, 0.10913331, 0.10367664, 0.0939759 , 0.0939759 ,\n",
       "       0.09215702, 0.08063739, 0.0782122 , 0.07578702, 0.07093665,\n",
       "       0.07093665, 0.07033035, 0.06972406, 0.0630548 , 0.0624485 ,\n",
       "       0.06184221, 0.06002332, 0.05577925, 0.05577925, 0.05153517,\n",
       "       0.05153517, 0.05032258, 0.0472911 , 0.04547221, 0.04365332,\n",
       "       0.04183443, 0.04062184, 0.04001555, 0.03880295, 0.03819666,\n",
       "       0.03698407, 0.03637777, 0.03577147, 0.03455888, 0.03455888,\n",
       "       0.03395258, 0.0309211 , 0.02910222, 0.02788962, 0.02728333,\n",
       "       0.02607073, 0.02607073, 0.02546444, 0.02485814, 0.02485814,\n",
       "       0.02485814, 0.02425185, 0.02364555, 0.02303925, 0.02243296,\n",
       "       0.02122037, 0.02122037, 0.02122037, 0.02000777, 0.02000777,\n",
       "       0.01940148, 0.01879518, 0.01879518, 0.01758259, 0.01758259,\n",
       "       0.01758259, 0.01758259, 0.01697629, 0.0157637 , 0.0157637 ,\n",
       "       0.0151574 , 0.01455111, 0.01394481, 0.01333852, 0.01212592,\n",
       "       0.01151963, 0.01091333, 0.01030703, 0.00970074, 0.00970074,\n",
       "       0.00970074, 0.00848815, 0.00848815, 0.00848815, 0.00788185,\n",
       "       0.00788185, 0.00788185, 0.00666926, 0.00666926, 0.00666926,\n",
       "       0.00666926, 0.00666926, 0.00606296, 0.00606296, 0.00606296,\n",
       "       0.00545667, 0.00545667, 0.00545667, 0.00485037, 0.00485037,\n",
       "       0.00485037, 0.00485037, 0.00485037, 0.00485037, 0.00485037,\n",
       "       0.00485037, 0.00424407, 0.00424407, 0.00424407, 0.00424407,\n",
       "       0.00424407, 0.00424407, 0.00424407, 0.00424407, 0.00424407,\n",
       "       0.00363778, 0.00363778, 0.00363778, 0.00363778, 0.00363778,\n",
       "       0.00363778, 0.00363778, 0.00363778, 0.00363778, 0.00363778,\n",
       "       0.00363778, 0.00363778, 0.00303148, 0.00303148, 0.00303148,\n",
       "       0.00303148, 0.00303148, 0.00303148, 0.00303148, 0.00303148,\n",
       "       0.00303148, 0.00303148, 0.00303148, 0.00303148, 0.00303148,\n",
       "       0.00303148, 0.00303148, 0.00303148, 0.00303148, 0.00303148,\n",
       "       0.00242518, 0.00242518, 0.00242518, 0.00242518, 0.00242518,\n",
       "       0.00242518, 0.00242518, 0.00242518, 0.00242518, 0.00242518,\n",
       "       0.00242518, 0.00242518, 0.00242518, 0.00242518, 0.00242518,\n",
       "       0.00181889, 0.00181889, 0.00181889, 0.00181889, 0.00181889,\n",
       "       0.00181889, 0.00181889, 0.00181889, 0.00181889, 0.00181889,\n",
       "       0.00181889, 0.00181889, 0.00181889, 0.00181889, 0.00181889,\n",
       "       0.00181889, 0.00181889, 0.00181889, 0.00181889, 0.00121259,\n",
       "       0.00121259, 0.00121259, 0.00121259, 0.00121259, 0.00121259,\n",
       "       0.00121259, 0.00121259, 0.00121259, 0.00121259, 0.00121259,\n",
       "       0.00121259, 0.00121259, 0.00121259, 0.00121259, 0.00121259,\n",
       "       0.00121259])"
      ]
     },
     "execution_count": 46,
     "metadata": {},
     "output_type": "execute_result"
    }
   ],
   "source": [
    "# write your code here\n",
    "\n",
    "import sklearn.preprocessing as preproc\n",
    "from scipy import stats\n",
    "\n",
    "# Min-max scaling\n",
    "athletes['minmax'] = preproc.minmax_scale(athletes[[\"Count\"]])\n",
    "athletes['minmax'].values\n",
    "\n",
    "# Standardization\n",
    "athletes['standardized'] = preproc.StandardScaler().fit_transform(athletes[['Count']])\n",
    "athletes['standardized'].values\n",
    "\n",
    "# L2-normalization\n",
    "athletes['l2_normalized'] = preproc.normalize(athletes[['Count']], axis=0)\n",
    "athletes['l2_normalized'].values"
   ]
  },
  {
   "cell_type": "code",
   "execution_count": 47,
   "id": "74b07ac8",
   "metadata": {},
   "outputs": [
    {
     "data": {
      "text/plain": [
       "Text(0.5, 39.49999999999994, 'L2-normalized Athlete Count')"
      ]
     },
     "execution_count": 47,
     "metadata": {},
     "output_type": "execute_result"
    },
    {
     "data": {
      "image/png": "[encoded data removed]",
      "text/plain": [
       "<Figure size 576x504 with 4 Axes>"
      ]
     },
     "metadata": {},
     "output_type": "display_data"
    }
   ],
   "source": [
    "fig, (ax1, ax2, ax3, ax4) = plt.subplots(4,1, figsize=(8, 7))\n",
    "fig.tight_layout(h_pad=2.0)\n",
    "\n",
    "athletes['Count'].hist(ax=ax1, bins=100)\n",
    "ax1.tick_params(labelsize=14)\n",
    "ax1.set_xlabel('Athlete Count', fontsize=14)\n",
    "ax1.set_ylabel('Number of Countries', fontsize=14)\n",
    "\n",
    "athletes['minmax'].hist(ax=ax2, bins=100)\n",
    "ax2.tick_params(labelsize=14)\n",
    "ax2.set_xlabel('Min-max scaled Athlete Count', fontsize=14)\n",
    "# ax2.set_ylabel('Number of articles', fontsize=14)\n",
    "\n",
    "athletes['standardized'].hist(ax=ax3, bins=100)\n",
    "ax3.tick_params(labelsize=14)\n",
    "ax3.set_xlabel('Standardized Athlete Count', fontsize=14)\n",
    "# ax3.set_ylabel('Number of articles', fontsize=14)\n",
    "\n",
    "athletes['l2_normalized'].hist(ax=ax4, bins=100)\n",
    "ax4.tick_params(labelsize=14)\n",
    "ax4.set_xlabel('L2-normalized Athlete Count', fontsize=14)\n",
    "# ax4.set_ylabel('Number of articles', fontsize=14)"
   ]
  },
  {
   "cell_type": "markdown",
   "id": "0e00f7eb",
   "metadata": {},
   "source": [
    "## Question 3. Comparing the four histograms, listing the similarities and differences between them."
   ]
  },
  {
   "cell_type": "markdown",
   "id": "f081331a",
   "metadata": {},
   "source": [
    "**Answer to Q3**: \n",
    "\n",
    "\n",
    "Similarities:\n",
    "1. The way the graphs look are similar. \n",
    "2. The data distribution and the pattern of data is same in all the four graphs.\n",
    "\n",
    "Differences:\n",
    "1. The four graphs are different, the first one shows the originl data. The second histogram is Min-Max Scaled. The third histogram is Standardized. The fourth graph is L2-normalized. \n",
    "2. The ranges in all the four graphs are different. For original data the range is 0-600. The second histogram is Min-Max Scaled with range 0-1. The third histogram is Standardized with range 0-5. The fourth graph is L2-normalized with range 0.35. \n",
    "\n",
    "\n",
    "\n"
   ]
  },
  {
   "cell_type": "markdown",
   "id": "001aa247",
   "metadata": {},
   "source": [
    "---\n"
   ]
  },
  {
   "cell_type": "markdown",
   "id": "4fafb554",
   "metadata": {},
   "source": [
    "## Question 4. Comparing the histograms of feature scaling and the histograms of transforms, listing the main difference between them."
   ]
  },
  {
   "cell_type": "markdown",
   "id": "34f7ee8d",
   "metadata": {},
   "source": [
    "**Answer to Q4:** \n",
    "\n",
    "Comparing feature scaling and transformation histograms:\n",
    "\n",
    "1. The basic purpose of feature scaling is to prevent features with larger value ranges, it allows comparison and balancing of diverse features.\n",
    "\n",
    "2. Transforms can be used to change a distribution's symmetry, remove skewness, linearize relationships, and manage uncommon data features.\n",
    "\n",
    "3. Transformed data histograms may differ in shape from the original data due to the impact of the chosen transformation.\n",
    "\n",
    "4. Feature scaling has a significant impact on the range or scale of values, whereas transformations can significantly modify the shape, symmetry, skewness, or relationship between variables in the data.\n"
   ]
  },
  {
   "cell_type": "markdown",
   "id": "08eeeec1",
   "metadata": {},
   "source": [
    "---\n"
   ]
  },
  {
   "cell_type": "markdown",
   "id": "ecf02e94",
   "metadata": {},
   "source": [
    "## Example of interaction features in prediction"
   ]
  },
  {
   "cell_type": "code",
   "execution_count": 56,
   "id": "04bc1b8b",
   "metadata": {},
   "outputs": [],
   "source": [
    "from sklearn import linear_model\n",
    "from sklearn.model_selection import train_test_split\n",
    "import sklearn.preprocessing as preproc"
   ]
  },
  {
   "cell_type": "code",
   "execution_count": 57,
   "id": "e733447d",
   "metadata": {},
   "outputs": [
    {
     "data": {
      "text/plain": [
       "Index(['url', 'timedelta', 'n_tokens_title', 'n_tokens_content',\n",
       "       'n_unique_tokens', 'n_non_stop_words', 'n_non_stop_unique_tokens',\n",
       "       'num_hrefs', 'num_self_hrefs', 'num_imgs', 'num_videos',\n",
       "       'average_token_length', 'num_keywords', 'data_channel_is_lifestyle',\n",
       "       'data_channel_is_entertainment', 'data_channel_is_bus',\n",
       "       'data_channel_is_socmed', 'data_channel_is_tech',\n",
       "       'data_channel_is_world', 'kw_min_min', 'kw_max_min', 'kw_avg_min',\n",
       "       'kw_min_max', 'kw_max_max', 'kw_avg_max', 'kw_min_avg', 'kw_max_avg',\n",
       "       'kw_avg_avg', 'self_reference_min_shares', 'self_reference_max_shares',\n",
       "       'self_reference_avg_sharess', 'weekday_is_monday', 'weekday_is_tuesday',\n",
       "       'weekday_is_wednesday', 'weekday_is_thursday', 'weekday_is_friday',\n",
       "       'weekday_is_saturday', 'weekday_is_sunday', 'is_weekend', 'LDA_00',\n",
       "       'LDA_01', 'LDA_02', 'LDA_03', 'LDA_04', 'global_subjectivity',\n",
       "       'global_sentiment_polarity', 'global_rate_positive_words',\n",
       "       'global_rate_negative_words', 'rate_positive_words',\n",
       "       'rate_negative_words', 'avg_positive_polarity', 'min_positive_polarity',\n",
       "       'max_positive_polarity', 'avg_negative_polarity',\n",
       "       'min_negative_polarity', 'max_negative_polarity', 'title_subjectivity',\n",
       "       'title_sentiment_polarity', 'abs_title_subjectivity',\n",
       "       'abs_title_sentiment_polarity', 'shares', 'minmax', 'standardized',\n",
       "       'l2_normalized'],\n",
       "      dtype='object')"
      ]
     },
     "execution_count": 57,
     "metadata": {},
     "output_type": "execute_result"
    }
   ],
   "source": [
    "news_df.columns"
   ]
  },
  {
   "cell_type": "code",
   "execution_count": 58,
   "id": "e1c3b43e",
   "metadata": {},
   "outputs": [],
   "source": [
    "features = ['n_tokens_title', 'n_tokens_content', 'n_unique_tokens', 'n_non_stop_words', 'n_non_stop_unique_tokens',\n",
    "            'num_hrefs', 'num_self_hrefs', 'num_imgs', 'num_videos', 'average_token_length', 'num_keywords', \n",
    "            'data_channel_is_lifestyle', 'data_channel_is_entertainment', 'data_channel_is_bus',\n",
    "            'data_channel_is_socmed', 'data_channel_is_tech', 'data_channel_is_world']"
   ]
  },
  {
   "cell_type": "code",
   "execution_count": 59,
   "id": "02676cce",
   "metadata": {},
   "outputs": [
    {
     "data": {
      "text/plain": [
       "(39644, 17)"
      ]
     },
     "execution_count": 59,
     "metadata": {},
     "output_type": "execute_result"
    }
   ],
   "source": [
    "X = news_df[features]\n",
    "y = news_df[['shares']]\n",
    "\n",
    "X.shape"
   ]
  },
  {
   "cell_type": "code",
   "execution_count": 60,
   "id": "a8087eb9",
   "metadata": {},
   "outputs": [],
   "source": [
    "X2 = preproc.PolynomialFeatures(include_bias=False).fit_transform(X)\n",
    "X1_train, X1_test, X2_train, X2_test, y_train, y_test = train_test_split(X, X2, y, test_size=0.3, random_state=123)"
   ]
  },
  {
   "cell_type": "code",
   "execution_count": 61,
   "id": "5d39aa70",
   "metadata": {},
   "outputs": [],
   "source": [
    "def evaluate_feature(X_train, X_test, y_train, y_test):\n",
    "    \"\"\"Fit a linear regression model on the training set and score on the test set\"\"\"\n",
    "    model = linear_model.LinearRegression().fit(X_train, y_train)\n",
    "    r_score = model.score(X_test, y_test)\n",
    "    return (model, r_score)"
   ]
  },
  {
   "cell_type": "code",
   "execution_count": 62,
   "id": "2b1ce61d",
   "metadata": {},
   "outputs": [
    {
     "name": "stdout",
     "output_type": "stream",
     "text": [
      "R-squared score with singleton features: 0.00924\n",
      "R-squared score with pairwise features: 0.0113287972\n"
     ]
    }
   ],
   "source": [
    "(m1, r1) = evaluate_feature(X1_train, X1_test, y_train, y_test)\n",
    "print(\"R-squared score with singleton features: %0.5f\" % r1)\n",
    "\n",
    "(m2, r2) = evaluate_feature(X2_train, X2_test, y_train, y_test)\n",
    "print(\"R-squared score with pairwise features: %0.10f\" % r2)"
   ]
  },
  {
   "cell_type": "markdown",
   "id": "63e342c8",
   "metadata": {},
   "source": [
    "## Task 5. Interaction features in prediction with dry bean dataset\n",
    "**Dry bean dataset**: https://archive.ics.uci.edu/ml/machine-learning-databases/00602/DryBeanDataset.zip"
   ]
  },
  {
   "cell_type": "markdown",
   "id": "dcbd1011",
   "metadata": {},
   "source": [
    "**note:** Try to encode categorical data into numeric data (the last column 'class') first.\n",
    "Then apply the interation features and compare the r-squared scores of the singleton features and the interaction features"
   ]
  },
  {
   "cell_type": "code",
   "execution_count": 63,
   "id": "7a24ecbf",
   "metadata": {},
   "outputs": [],
   "source": [
    "# write your code here\n",
    "from sklearn import linear_model\n",
    "from sklearn.model_selection import train_test_split\n",
    "import sklearn.preprocessing as preproc\n",
    "from sklearn.preprocessing import OrdinalEncoder"
   ]
  },
  {
   "cell_type": "code",
   "execution_count": 64,
   "id": "67b08edb",
   "metadata": {},
   "outputs": [
    {
     "data": {
      "text/plain": [
       "Area                 int64\n",
       "Perimeter          float64\n",
       "MajorAxisLength    float64\n",
       "MinorAxisLength    float64\n",
       "AspectRation       float64\n",
       "Eccentricity       float64\n",
       "ConvexArea           int64\n",
       "EquivDiameter      float64\n",
       "Extent             float64\n",
       "Solidity           float64\n",
       "roundness          float64\n",
       "Compactness        float64\n",
       "ShapeFactor1       float64\n",
       "ShapeFactor2       float64\n",
       "ShapeFactor3       float64\n",
       "ShapeFactor4       float64\n",
       "Class               object\n",
       "dtype: object"
      ]
     },
     "execution_count": 64,
     "metadata": {},
     "output_type": "execute_result"
    }
   ],
   "source": [
    "data_df = pd.read_excel(\"Dry_Bean_Dataset.xlsx\")\n",
    "data_df.head()\n",
    "data_df.dtypes"
   ]
  },
  {
   "cell_type": "code",
   "execution_count": 65,
   "id": "ea5b0f1f",
   "metadata": {},
   "outputs": [
    {
     "data": {
      "text/plain": [
       "Area                  int64\n",
       "Perimeter           float64\n",
       "MajorAxisLength     float64\n",
       "MinorAxisLength     float64\n",
       "AspectRation        float64\n",
       "Eccentricity        float64\n",
       "ConvexArea            int64\n",
       "EquivDiameter       float64\n",
       "Extent              float64\n",
       "Solidity            float64\n",
       "roundness           float64\n",
       "Compactness         float64\n",
       "ShapeFactor1        float64\n",
       "ShapeFactor2        float64\n",
       "ShapeFactor3        float64\n",
       "ShapeFactor4        float64\n",
       "Class              category\n",
       "dtype: object"
      ]
     },
     "execution_count": 65,
     "metadata": {},
     "output_type": "execute_result"
    }
   ],
   "source": [
    "data_df[\"Class\"] = data_df[\"Class\"].astype(\"category\")\n",
    "data_df.dtypes"
   ]
  },
  {
   "cell_type": "code",
   "execution_count": 66,
   "id": "7e4652e8",
   "metadata": {},
   "outputs": [
    {
     "data": {
      "text/plain": [
       "array([5., 0., 1., 2., 4., 6., 3.])"
      ]
     },
     "execution_count": 66,
     "metadata": {},
     "output_type": "execute_result"
    }
   ],
   "source": [
    "data_df[\"Class\"].unique()\n",
    "ord_enc = OrdinalEncoder()\n",
    "data_df[\"Class\"] = ord_enc.fit_transform(data_df[[\"Class\"]])\n",
    "data_df[\"Class\"].unique()"
   ]
  },
  {
   "cell_type": "code",
   "execution_count": 67,
   "id": "67c0f8c7",
   "metadata": {},
   "outputs": [],
   "source": [
    "X = data_df.loc[:,data_df.columns != 'Class']\n",
    "y = data_df[\"Class\"]"
   ]
  },
  {
   "cell_type": "code",
   "execution_count": 68,
   "id": "1f8bf455",
   "metadata": {},
   "outputs": [],
   "source": [
    "X2 = preproc.PolynomialFeatures(include_bias=False).fit_transform(X)\n",
    "X1_train, X1_test, X2_train, X2_test, y_train, y_test = train_test_split(X, X2, y, test_size=0.3, random_state=123)"
   ]
  },
  {
   "cell_type": "code",
   "execution_count": 69,
   "id": "68803ef2",
   "metadata": {},
   "outputs": [],
   "source": [
    "def evaluate_feature(X_train, X_test, y_train, y_test):\n",
    "    \"\"\"Fit a logistic regression model on the training set and score on the test set\"\"\"\n",
    "    model = linear_model.LogisticRegression(max_iter=1000).fit(X_train, y_train)\n",
    "    r_score = model.score(X_test, y_test)\n",
    "    return (model, r_score)"
   ]
  },
  {
   "cell_type": "code",
   "execution_count": 70,
   "id": "7675a9e7",
   "metadata": {},
   "outputs": [
    {
     "name": "stderr",
     "output_type": "stream",
     "text": [
      "C:\\Users\\badda\\anaconda3\\lib\\site-packages\\sklearn\\linear_model\\_logistic.py:444: ConvergenceWarning: lbfgs failed to converge (status=1):\n",
      "STOP: TOTAL NO. of ITERATIONS REACHED LIMIT.\n",
      "\n",
      "Increase the number of iterations (max_iter) or scale the data as shown in:\n",
      "    https://scikit-learn.org/stable/modules/preprocessing.html\n",
      "Please also refer to the documentation for alternative solver options:\n",
      "    https://scikit-learn.org/stable/modules/linear_model.html#logistic-regression\n",
      "  n_iter_i = _check_optimize_result(\n"
     ]
    },
    {
     "name": "stdout",
     "output_type": "stream",
     "text": [
      "Accuracy score with singleton features: 0.87463\n",
      "Accuracy score with interaction features: 0.82738\n"
     ]
    },
    {
     "name": "stderr",
     "output_type": "stream",
     "text": [
      "C:\\Users\\badda\\anaconda3\\lib\\site-packages\\sklearn\\linear_model\\_logistic.py:444: ConvergenceWarning: lbfgs failed to converge (status=1):\n",
      "STOP: TOTAL NO. of ITERATIONS REACHED LIMIT.\n",
      "\n",
      "Increase the number of iterations (max_iter) or scale the data as shown in:\n",
      "    https://scikit-learn.org/stable/modules/preprocessing.html\n",
      "Please also refer to the documentation for alternative solver options:\n",
      "    https://scikit-learn.org/stable/modules/linear_model.html#logistic-regression\n",
      "  n_iter_i = _check_optimize_result(\n"
     ]
    }
   ],
   "source": [
    "(m1, r1) = evaluate_feature(X1_train, X1_test, y_train, y_test)\n",
    "print(\"Accuracy score with singleton features: %0.5f\" % r1)\n",
    "\n",
    "(m2, r2) = evaluate_feature(X2_train, X2_test, y_train, y_test)\n",
    "print(\"Accuracy score with interaction features: %0.5f\" % r2)"
   ]
  },
  {
   "cell_type": "markdown",
   "id": "e9f614e3",
   "metadata": {},
   "source": [
    "### Another Way to do it"
   ]
  },
  {
   "cell_type": "code",
   "execution_count": 33,
   "id": "b5ac7a92",
   "metadata": {},
   "outputs": [
    {
     "name": "stdout",
     "output_type": "stream",
     "text": [
      "R-squared score - Singleton features: 0.58745875610327\n",
      "R-squared score - Interaction features: 0.21299228318521535\n"
     ]
    }
   ],
   "source": [
    "import pandas as pd\n",
    "from sklearn.model_selection import train_test_split\n",
    "from sklearn.linear_model import LinearRegression\n",
    "from sklearn.metrics import r2_score\n",
    "\n",
    "# Step 2: Load the dataset\n",
    "data = pd.read_excel(\"Dry_Bean_Dataset.xlsx\")\n",
    "\n",
    "# Step 3: Encode categorical data\n",
    "# Assuming the last column 'class' is categorical\n",
    "data['Class'] = pd.Categorical(data['Class']).codes\n",
    "\n",
    "# Step 4: Apply interaction features\n",
    "# Example: Create interaction features by multiplying 'area' and 'perimeter'\n",
    "data['interaction_feature'] = data['Area'] * data['Perimeter']\n",
    "\n",
    "# Step 5: Train regression models\n",
    "# Split the dataset into training and testing sets\n",
    "X = data.drop('Class', axis=1)\n",
    "y = data['Class']\n",
    "X_train, X_test, y_train, y_test = train_test_split(X, y, test_size=0.2, random_state=42)\n",
    "\n",
    "# Train regression models using singleton features\n",
    "singleton_model = LinearRegression()\n",
    "singleton_model.fit(X_train, y_train)\n",
    "y_pred_singleton = singleton_model.predict(X_test)\n",
    "\n",
    "# Train regression models using interaction features\n",
    "interaction_model = LinearRegression()\n",
    "interaction_model.fit(X_train[['interaction_feature']], y_train)\n",
    "y_pred_interaction = interaction_model.predict(X_test[['interaction_feature']])\n",
    "\n",
    "# Step 6: Evaluate R-squared scores\n",
    "r2_singleton = r2_score(y_test, y_pred_singleton)\n",
    "r2_interaction = r2_score(y_test, y_pred_interaction)\n",
    "\n",
    "# Step 7: Compare the R-squared scores\n",
    "print(\"R-squared score - Singleton features:\", r2_singleton)\n",
    "print(\"R-squared score - Interaction features:\", r2_interaction)\n"
   ]
  },
  {
   "cell_type": "code",
   "execution_count": null,
   "id": "fbc941b1",
   "metadata": {},
   "outputs": [],
   "source": []
  }
 ],
 "metadata": {
  "kernelspec": {
   "display_name": "Python 3 (ipykernel)",
   "language": "python",
   "name": "python3"
  },
  "language_info": {
   "codemirror_mode": {
    "name": "ipython",
    "version": 3
   },
   "file_extension": ".py",
   "mimetype": "text/x-python",
   "name": "python",
   "nbconvert_exporter": "python",
   "pygments_lexer": "ipython3",
   "version": "3.9.7"
  }
 },
 "nbformat": 4,
 "nbformat_minor": 5
}
