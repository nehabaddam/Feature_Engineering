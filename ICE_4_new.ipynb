{
 "cells": [
  {
   "cell_type": "markdown",
   "id": "270f1245",
   "metadata": {
    "id": "270f1245"
   },
   "source": [
    "# ICE-4 Text Data: Flattening, Filtering, and Chunking"
   ]
  },
  {
   "cell_type": "markdown",
   "id": "kDx1cW-0yFm1",
   "metadata": {
    "id": "kDx1cW-0yFm1"
   },
   "source": [
    "# GitHub Link:\n",
    "#### https://github.com/nehabaddam/Feature_Engineering"
   ]
  },
  {
   "cell_type": "markdown",
   "id": "831c5ffe",
   "metadata": {
    "id": "831c5ffe"
   },
   "source": [
    "## (Tutorial) Bag of X\n",
    "Following is a sample of applying bag of n-grams to Yelp academic dataset review, please download it with following link:\n",
    "\n",
    "https://github.com/knowitall/yelp-dataset-challenge/blob/master/data/yelp_phoenix_academic_dataset/yelp_academic_dataset_review.json"
   ]
  },
  {
   "cell_type": "code",
   "execution_count": 1,
   "id": "7o3qD1bZU6p1",
   "metadata": {
    "id": "7o3qD1bZU6p1"
   },
   "outputs": [],
   "source": [
    "import pandas as pd\n",
    "import json"
   ]
  },
  {
   "cell_type": "code",
   "execution_count": 2,
   "id": "7eXO_GxDU6st",
   "metadata": {
    "colab": {
     "base_uri": "https://localhost:8080/",
     "height": 34
    },
    "id": "7eXO_GxDU6st",
    "outputId": "b0aa3609-7297-4643-d779-e93fac37bf9e"
   },
   "outputs": [
    {
     "data": {
      "text/plain": [
       "(10000, 8)"
      ]
     },
     "execution_count": 2,
     "metadata": {},
     "output_type": "execute_result"
    }
   ],
   "source": [
    "f = open('yelp_academic_dataset_review.json')\n",
    "js = []\n",
    "for i in range(10000):\n",
    "    js.append(json.loads(f.readline()))\n",
    "f.close()\n",
    "review_df = pd.DataFrame(js)\n",
    "review_df.shape"
   ]
  },
  {
   "cell_type": "code",
   "execution_count": 3,
   "id": "8hw2LxU1U6vp",
   "metadata": {
    "colab": {
     "base_uri": "https://localhost:8080/",
     "height": 738
    },
    "id": "8hw2LxU1U6vp",
    "outputId": "787be53d-5c41-4d9c-c03e-adf87fdfcbfd"
   },
   "outputs": [
    {
     "data": {
      "text/html": [
       "<div>\n",
       "<style scoped>\n",
       "    .dataframe tbody tr th:only-of-type {\n",
       "        vertical-align: middle;\n",
       "    }\n",
       "\n",
       "    .dataframe tbody tr th {\n",
       "        vertical-align: top;\n",
       "    }\n",
       "\n",
       "    .dataframe thead th {\n",
       "        text-align: right;\n",
       "    }\n",
       "</style>\n",
       "<table border=\"1\" class=\"dataframe\">\n",
       "  <thead>\n",
       "    <tr style=\"text-align: right;\">\n",
       "      <th></th>\n",
       "      <th>votes</th>\n",
       "      <th>user_id</th>\n",
       "      <th>review_id</th>\n",
       "      <th>stars</th>\n",
       "      <th>date</th>\n",
       "      <th>text</th>\n",
       "      <th>type</th>\n",
       "      <th>business_id</th>\n",
       "    </tr>\n",
       "  </thead>\n",
       "  <tbody>\n",
       "    <tr>\n",
       "      <th>0</th>\n",
       "      <td>{'funny': 0, 'useful': 5, 'cool': 2}</td>\n",
       "      <td>rLtl8ZkDX5vH5nAx9C3q5Q</td>\n",
       "      <td>fWKvX83p0-ka4JS3dc6E5A</td>\n",
       "      <td>5</td>\n",
       "      <td>2011-01-26</td>\n",
       "      <td>My wife took me here on my birthday for breakf...</td>\n",
       "      <td>review</td>\n",
       "      <td>9yKzy9PApeiPPOUJEtnvkg</td>\n",
       "    </tr>\n",
       "    <tr>\n",
       "      <th>1</th>\n",
       "      <td>{'funny': 0, 'useful': 0, 'cool': 0}</td>\n",
       "      <td>0a2KyEL0d3Yb1V6aivbIuQ</td>\n",
       "      <td>IjZ33sJrzXqU-0X6U8NwyA</td>\n",
       "      <td>5</td>\n",
       "      <td>2011-07-27</td>\n",
       "      <td>I have no idea why some people give bad review...</td>\n",
       "      <td>review</td>\n",
       "      <td>ZRJwVLyzEJq1VAihDhYiow</td>\n",
       "    </tr>\n",
       "    <tr>\n",
       "      <th>2</th>\n",
       "      <td>{'funny': 0, 'useful': 1, 'cool': 0}</td>\n",
       "      <td>0hT2KtfLiobPvh6cDC8JQg</td>\n",
       "      <td>IESLBzqUCLdSzSqm0eCSxQ</td>\n",
       "      <td>4</td>\n",
       "      <td>2012-06-14</td>\n",
       "      <td>love the gyro plate. Rice is so good and I als...</td>\n",
       "      <td>review</td>\n",
       "      <td>6oRAC4uyJCsJl1X0WZpVSA</td>\n",
       "    </tr>\n",
       "    <tr>\n",
       "      <th>3</th>\n",
       "      <td>{'funny': 0, 'useful': 2, 'cool': 1}</td>\n",
       "      <td>uZetl9T0NcROGOyFfughhg</td>\n",
       "      <td>G-WvGaISbqqaMHlNnByodA</td>\n",
       "      <td>5</td>\n",
       "      <td>2010-05-27</td>\n",
       "      <td>Rosie, Dakota, and I LOVE Chaparral Dog Park!!...</td>\n",
       "      <td>review</td>\n",
       "      <td>_1QQZuf4zZOyFCvXc0o6Vg</td>\n",
       "    </tr>\n",
       "    <tr>\n",
       "      <th>4</th>\n",
       "      <td>{'funny': 0, 'useful': 0, 'cool': 0}</td>\n",
       "      <td>vYmM4KTsC8ZfQBg-j5MWkw</td>\n",
       "      <td>1uJFq2r5QfJG_6ExMRCaGw</td>\n",
       "      <td>5</td>\n",
       "      <td>2012-01-05</td>\n",
       "      <td>General Manager Scott Petello is a good egg!!!...</td>\n",
       "      <td>review</td>\n",
       "      <td>6ozycU1RpktNG2-1BroVtw</td>\n",
       "    </tr>\n",
       "  </tbody>\n",
       "</table>\n",
       "</div>"
      ],
      "text/plain": [
       "                                  votes                 user_id  \\\n",
       "0  {'funny': 0, 'useful': 5, 'cool': 2}  rLtl8ZkDX5vH5nAx9C3q5Q   \n",
       "1  {'funny': 0, 'useful': 0, 'cool': 0}  0a2KyEL0d3Yb1V6aivbIuQ   \n",
       "2  {'funny': 0, 'useful': 1, 'cool': 0}  0hT2KtfLiobPvh6cDC8JQg   \n",
       "3  {'funny': 0, 'useful': 2, 'cool': 1}  uZetl9T0NcROGOyFfughhg   \n",
       "4  {'funny': 0, 'useful': 0, 'cool': 0}  vYmM4KTsC8ZfQBg-j5MWkw   \n",
       "\n",
       "                review_id  stars        date  \\\n",
       "0  fWKvX83p0-ka4JS3dc6E5A      5  2011-01-26   \n",
       "1  IjZ33sJrzXqU-0X6U8NwyA      5  2011-07-27   \n",
       "2  IESLBzqUCLdSzSqm0eCSxQ      4  2012-06-14   \n",
       "3  G-WvGaISbqqaMHlNnByodA      5  2010-05-27   \n",
       "4  1uJFq2r5QfJG_6ExMRCaGw      5  2012-01-05   \n",
       "\n",
       "                                                text    type  \\\n",
       "0  My wife took me here on my birthday for breakf...  review   \n",
       "1  I have no idea why some people give bad review...  review   \n",
       "2  love the gyro plate. Rice is so good and I als...  review   \n",
       "3  Rosie, Dakota, and I LOVE Chaparral Dog Park!!...  review   \n",
       "4  General Manager Scott Petello is a good egg!!!...  review   \n",
       "\n",
       "              business_id  \n",
       "0  9yKzy9PApeiPPOUJEtnvkg  \n",
       "1  ZRJwVLyzEJq1VAihDhYiow  \n",
       "2  6oRAC4uyJCsJl1X0WZpVSA  \n",
       "3  _1QQZuf4zZOyFCvXc0o6Vg  \n",
       "4  6ozycU1RpktNG2-1BroVtw  "
      ]
     },
     "execution_count": 3,
     "metadata": {},
     "output_type": "execute_result"
    }
   ],
   "source": [
    "review_df.head()"
   ]
  },
  {
   "cell_type": "markdown",
   "id": "VdtJnr0sVDdG",
   "metadata": {
    "id": "VdtJnr0sVDdG"
   },
   "source": [
    "note: in the default settings of CountVectorizer, the token_pattern = '(?u)\\b\\w\\w+\\b', which ignores single-character words. Whe employ the token_pattern = '(?u)\\b\\w+\\b' to include the single-character words."
   ]
  },
  {
   "cell_type": "code",
   "execution_count": 4,
   "id": "Kns146QAU6yb",
   "metadata": {
    "id": "Kns146QAU6yb"
   },
   "outputs": [],
   "source": [
    "from sklearn.feature_extraction.text import CountVectorizer\n",
    "bow_converter = CountVectorizer(token_pattern='(?u)\\\\b\\\\w+\\\\b')\n",
    "x = bow_converter.fit_transform(review_df['text'])"
   ]
  },
  {
   "cell_type": "code",
   "execution_count": 5,
   "id": "tVL-93pRVBVM",
   "metadata": {
    "id": "tVL-93pRVBVM"
   },
   "outputs": [],
   "source": [
    "unigram = bow_converter.get_feature_names_out()"
   ]
  },
  {
   "cell_type": "code",
   "execution_count": 6,
   "id": "_3_tf_1eVBX3",
   "metadata": {
    "id": "_3_tf_1eVBX3"
   },
   "outputs": [],
   "source": [
    "bigram_converter = CountVectorizer(ngram_range=(2,2), token_pattern='(?u)\\\\b\\\\w+\\\\b')\n",
    "x2 = bigram_converter.fit_transform(review_df['text'])"
   ]
  },
  {
   "cell_type": "code",
   "execution_count": 7,
   "id": "ekF3e3g_VBak",
   "metadata": {
    "id": "ekF3e3g_VBak"
   },
   "outputs": [],
   "source": [
    "bigram = bigram_converter.get_feature_names_out()"
   ]
  },
  {
   "cell_type": "code",
   "execution_count": 8,
   "id": "PODebM99VBd7",
   "metadata": {
    "id": "PODebM99VBd7"
   },
   "outputs": [],
   "source": [
    "trigram_converter = CountVectorizer(ngram_range=(3,3), token_pattern='(?u)\\\\b\\\\w+\\\\b')\n",
    "x3 = trigram_converter.fit_transform(review_df['text'])"
   ]
  },
  {
   "cell_type": "code",
   "execution_count": 9,
   "id": "vnAKcdsiVXr7",
   "metadata": {
    "id": "vnAKcdsiVXr7"
   },
   "outputs": [],
   "source": [
    "trigram = trigram_converter.get_feature_names_out()"
   ]
  },
  {
   "cell_type": "code",
   "execution_count": 10,
   "id": "qCw3Zfo-U617",
   "metadata": {
    "colab": {
     "base_uri": "https://localhost:8080/",
     "height": 34
    },
    "id": "qCw3Zfo-U617",
    "outputId": "afb03d0d-0777-4bf4-f579-ed7d045946b2"
   },
   "outputs": [
    {
     "data": {
      "text/plain": [
       "array(['0', '00', '000', ..., 'école', 'ém', 'òc'], dtype=object)"
      ]
     },
     "execution_count": 10,
     "metadata": {},
     "output_type": "execute_result"
    }
   ],
   "source": [
    "unigram"
   ]
  },
  {
   "cell_type": "code",
   "execution_count": 11,
   "id": "svd9IPD3VirF",
   "metadata": {
    "colab": {
     "base_uri": "https://localhost:8080/",
     "height": 52
    },
    "id": "svd9IPD3VirF",
    "outputId": "14fe29ff-a6a4-4948-d0dd-3197dbf9add7"
   },
   "outputs": [
    {
     "data": {
      "text/plain": [
       "array(['0 0', '0 20', '0 39', ..., 'école lenôtre', 'ém all', 'òc châm'],\n",
       "      dtype=object)"
      ]
     },
     "execution_count": 11,
     "metadata": {},
     "output_type": "execute_result"
    }
   ],
   "source": [
    "bigram"
   ]
  },
  {
   "cell_type": "code",
   "execution_count": 12,
   "id": "uZET9QRdViuj",
   "metadata": {
    "colab": {
     "base_uri": "https://localhost:8080/",
     "height": 52
    },
    "id": "uZET9QRdViuj",
    "outputId": "20b996ad-8325-4916-dd95-c4950e9f29d6"
   },
   "outputs": [
    {
     "data": {
      "text/plain": [
       "array(['0 0 eye', '0 20 less', '0 39 oz', ..., 'école lenôtre trained',\n",
       "       'ém all they', 'òc châm a'], dtype=object)"
      ]
     },
     "execution_count": 12,
     "metadata": {},
     "output_type": "execute_result"
    }
   ],
   "source": [
    "trigram"
   ]
  },
  {
   "cell_type": "code",
   "execution_count": 13,
   "id": "ybrfTk1GVoRo",
   "metadata": {
    "colab": {
     "base_uri": "https://localhost:8080/",
     "height": 34
    },
    "id": "ybrfTk1GVoRo",
    "outputId": "cb105c9b-af57-4d12-c21b-4b61b9e0fece"
   },
   "outputs": [
    {
     "name": "stdout",
     "output_type": "stream",
     "text": [
      "29222 368943 881620\n"
     ]
    }
   ],
   "source": [
    "print (len(unigram), len(bigram), len(trigram))"
   ]
  },
  {
   "cell_type": "code",
   "execution_count": 17,
   "id": "ypkOxalFVix3",
   "metadata": {
    "id": "ypkOxalFVix3"
   },
   "outputs": [
    {
     "data": {
      "application/javascript": [
       "/* Put everything inside the global mpl namespace */\n",
       "/* global mpl */\n",
       "window.mpl = {};\n",
       "\n",
       "mpl.get_websocket_type = function () {\n",
       "    if (typeof WebSocket !== 'undefined') {\n",
       "        return WebSocket;\n",
       "    } else if (typeof MozWebSocket !== 'undefined') {\n",
       "        return MozWebSocket;\n",
       "    } else {\n",
       "        alert(\n",
       "            'Your browser does not have WebSocket support. ' +\n",
       "                'Please try Chrome, Safari or Firefox ≥ 6. ' +\n",
       "                'Firefox 4 and 5 are also supported but you ' +\n",
       "                'have to enable WebSockets in about:config.'\n",
       "        );\n",
       "    }\n",
       "};\n",
       "\n",
       "mpl.figure = function (figure_id, websocket, ondownload, parent_element) {\n",
       "    this.id = figure_id;\n",
       "\n",
       "    this.ws = websocket;\n",
       "\n",
       "    this.supports_binary = this.ws.binaryType !== undefined;\n",
       "\n",
       "    if (!this.supports_binary) {\n",
       "        var warnings = document.getElementById('mpl-warnings');\n",
       "        if (warnings) {\n",
       "            warnings.style.display = 'block';\n",
       "            warnings.textContent =\n",
       "                'This browser does not support binary websocket messages. ' +\n",
       "                'Performance may be slow.';\n",
       "        }\n",
       "    }\n",
       "\n",
       "    this.imageObj = new Image();\n",
       "\n",
       "    this.context = undefined;\n",
       "    this.message = undefined;\n",
       "    this.canvas = undefined;\n",
       "    this.rubberband_canvas = undefined;\n",
       "    this.rubberband_context = undefined;\n",
       "    this.format_dropdown = undefined;\n",
       "\n",
       "    this.image_mode = 'full';\n",
       "\n",
       "    this.root = document.createElement('div');\n",
       "    this.root.setAttribute('style', 'display: inline-block');\n",
       "    this._root_extra_style(this.root);\n",
       "\n",
       "    parent_element.appendChild(this.root);\n",
       "\n",
       "    this._init_header(this);\n",
       "    this._init_canvas(this);\n",
       "    this._init_toolbar(this);\n",
       "\n",
       "    var fig = this;\n",
       "\n",
       "    this.waiting = false;\n",
       "\n",
       "    this.ws.onopen = function () {\n",
       "        fig.send_message('supports_binary', { value: fig.supports_binary });\n",
       "        fig.send_message('send_image_mode', {});\n",
       "        if (fig.ratio !== 1) {\n",
       "            fig.send_message('set_dpi_ratio', { dpi_ratio: fig.ratio });\n",
       "        }\n",
       "        fig.send_message('refresh', {});\n",
       "    };\n",
       "\n",
       "    this.imageObj.onload = function () {\n",
       "        if (fig.image_mode === 'full') {\n",
       "            // Full images could contain transparency (where diff images\n",
       "            // almost always do), so we need to clear the canvas so that\n",
       "            // there is no ghosting.\n",
       "            fig.context.clearRect(0, 0, fig.canvas.width, fig.canvas.height);\n",
       "        }\n",
       "        fig.context.drawImage(fig.imageObj, 0, 0);\n",
       "    };\n",
       "\n",
       "    this.imageObj.onunload = function () {\n",
       "        fig.ws.close();\n",
       "    };\n",
       "\n",
       "    this.ws.onmessage = this._make_on_message_function(this);\n",
       "\n",
       "    this.ondownload = ondownload;\n",
       "};\n",
       "\n",
       "mpl.figure.prototype._init_header = function () {\n",
       "    var titlebar = document.createElement('div');\n",
       "    titlebar.classList =\n",
       "        'ui-dialog-titlebar ui-widget-header ui-corner-all ui-helper-clearfix';\n",
       "    var titletext = document.createElement('div');\n",
       "    titletext.classList = 'ui-dialog-title';\n",
       "    titletext.setAttribute(\n",
       "        'style',\n",
       "        'width: 100%; text-align: center; padding: 3px;'\n",
       "    );\n",
       "    titlebar.appendChild(titletext);\n",
       "    this.root.appendChild(titlebar);\n",
       "    this.header = titletext;\n",
       "};\n",
       "\n",
       "mpl.figure.prototype._canvas_extra_style = function (_canvas_div) {};\n",
       "\n",
       "mpl.figure.prototype._root_extra_style = function (_canvas_div) {};\n",
       "\n",
       "mpl.figure.prototype._init_canvas = function () {\n",
       "    var fig = this;\n",
       "\n",
       "    var canvas_div = (this.canvas_div = document.createElement('div'));\n",
       "    canvas_div.setAttribute(\n",
       "        'style',\n",
       "        'border: 1px solid #ddd;' +\n",
       "            'box-sizing: content-box;' +\n",
       "            'clear: both;' +\n",
       "            'min-height: 1px;' +\n",
       "            'min-width: 1px;' +\n",
       "            'outline: 0;' +\n",
       "            'overflow: hidden;' +\n",
       "            'position: relative;' +\n",
       "            'resize: both;'\n",
       "    );\n",
       "\n",
       "    function on_keyboard_event_closure(name) {\n",
       "        return function (event) {\n",
       "            return fig.key_event(event, name);\n",
       "        };\n",
       "    }\n",
       "\n",
       "    canvas_div.addEventListener(\n",
       "        'keydown',\n",
       "        on_keyboard_event_closure('key_press')\n",
       "    );\n",
       "    canvas_div.addEventListener(\n",
       "        'keyup',\n",
       "        on_keyboard_event_closure('key_release')\n",
       "    );\n",
       "\n",
       "    this._canvas_extra_style(canvas_div);\n",
       "    this.root.appendChild(canvas_div);\n",
       "\n",
       "    var canvas = (this.canvas = document.createElement('canvas'));\n",
       "    canvas.classList.add('mpl-canvas');\n",
       "    canvas.setAttribute('style', 'box-sizing: content-box;');\n",
       "\n",
       "    this.context = canvas.getContext('2d');\n",
       "\n",
       "    var backingStore =\n",
       "        this.context.backingStorePixelRatio ||\n",
       "        this.context.webkitBackingStorePixelRatio ||\n",
       "        this.context.mozBackingStorePixelRatio ||\n",
       "        this.context.msBackingStorePixelRatio ||\n",
       "        this.context.oBackingStorePixelRatio ||\n",
       "        this.context.backingStorePixelRatio ||\n",
       "        1;\n",
       "\n",
       "    this.ratio = (window.devicePixelRatio || 1) / backingStore;\n",
       "\n",
       "    var rubberband_canvas = (this.rubberband_canvas = document.createElement(\n",
       "        'canvas'\n",
       "    ));\n",
       "    rubberband_canvas.setAttribute(\n",
       "        'style',\n",
       "        'box-sizing: content-box; position: absolute; left: 0; top: 0; z-index: 1;'\n",
       "    );\n",
       "\n",
       "    // Apply a ponyfill if ResizeObserver is not implemented by browser.\n",
       "    if (this.ResizeObserver === undefined) {\n",
       "        if (window.ResizeObserver !== undefined) {\n",
       "            this.ResizeObserver = window.ResizeObserver;\n",
       "        } else {\n",
       "            var obs = _JSXTOOLS_RESIZE_OBSERVER({});\n",
       "            this.ResizeObserver = obs.ResizeObserver;\n",
       "        }\n",
       "    }\n",
       "\n",
       "    this.resizeObserverInstance = new this.ResizeObserver(function (entries) {\n",
       "        var nentries = entries.length;\n",
       "        for (var i = 0; i < nentries; i++) {\n",
       "            var entry = entries[i];\n",
       "            var width, height;\n",
       "            if (entry.contentBoxSize) {\n",
       "                if (entry.contentBoxSize instanceof Array) {\n",
       "                    // Chrome 84 implements new version of spec.\n",
       "                    width = entry.contentBoxSize[0].inlineSize;\n",
       "                    height = entry.contentBoxSize[0].blockSize;\n",
       "                } else {\n",
       "                    // Firefox implements old version of spec.\n",
       "                    width = entry.contentBoxSize.inlineSize;\n",
       "                    height = entry.contentBoxSize.blockSize;\n",
       "                }\n",
       "            } else {\n",
       "                // Chrome <84 implements even older version of spec.\n",
       "                width = entry.contentRect.width;\n",
       "                height = entry.contentRect.height;\n",
       "            }\n",
       "\n",
       "            // Keep the size of the canvas and rubber band canvas in sync with\n",
       "            // the canvas container.\n",
       "            if (entry.devicePixelContentBoxSize) {\n",
       "                // Chrome 84 implements new version of spec.\n",
       "                canvas.setAttribute(\n",
       "                    'width',\n",
       "                    entry.devicePixelContentBoxSize[0].inlineSize\n",
       "                );\n",
       "                canvas.setAttribute(\n",
       "                    'height',\n",
       "                    entry.devicePixelContentBoxSize[0].blockSize\n",
       "                );\n",
       "            } else {\n",
       "                canvas.setAttribute('width', width * fig.ratio);\n",
       "                canvas.setAttribute('height', height * fig.ratio);\n",
       "            }\n",
       "            canvas.setAttribute(\n",
       "                'style',\n",
       "                'width: ' + width + 'px; height: ' + height + 'px;'\n",
       "            );\n",
       "\n",
       "            rubberband_canvas.setAttribute('width', width);\n",
       "            rubberband_canvas.setAttribute('height', height);\n",
       "\n",
       "            // And update the size in Python. We ignore the initial 0/0 size\n",
       "            // that occurs as the element is placed into the DOM, which should\n",
       "            // otherwise not happen due to the minimum size styling.\n",
       "            if (fig.ws.readyState == 1 && width != 0 && height != 0) {\n",
       "                fig.request_resize(width, height);\n",
       "            }\n",
       "        }\n",
       "    });\n",
       "    this.resizeObserverInstance.observe(canvas_div);\n",
       "\n",
       "    function on_mouse_event_closure(name) {\n",
       "        return function (event) {\n",
       "            return fig.mouse_event(event, name);\n",
       "        };\n",
       "    }\n",
       "\n",
       "    rubberband_canvas.addEventListener(\n",
       "        'mousedown',\n",
       "        on_mouse_event_closure('button_press')\n",
       "    );\n",
       "    rubberband_canvas.addEventListener(\n",
       "        'mouseup',\n",
       "        on_mouse_event_closure('button_release')\n",
       "    );\n",
       "    rubberband_canvas.addEventListener(\n",
       "        'dblclick',\n",
       "        on_mouse_event_closure('dblclick')\n",
       "    );\n",
       "    // Throttle sequential mouse events to 1 every 20ms.\n",
       "    rubberband_canvas.addEventListener(\n",
       "        'mousemove',\n",
       "        on_mouse_event_closure('motion_notify')\n",
       "    );\n",
       "\n",
       "    rubberband_canvas.addEventListener(\n",
       "        'mouseenter',\n",
       "        on_mouse_event_closure('figure_enter')\n",
       "    );\n",
       "    rubberband_canvas.addEventListener(\n",
       "        'mouseleave',\n",
       "        on_mouse_event_closure('figure_leave')\n",
       "    );\n",
       "\n",
       "    canvas_div.addEventListener('wheel', function (event) {\n",
       "        if (event.deltaY < 0) {\n",
       "            event.step = 1;\n",
       "        } else {\n",
       "            event.step = -1;\n",
       "        }\n",
       "        on_mouse_event_closure('scroll')(event);\n",
       "    });\n",
       "\n",
       "    canvas_div.appendChild(canvas);\n",
       "    canvas_div.appendChild(rubberband_canvas);\n",
       "\n",
       "    this.rubberband_context = rubberband_canvas.getContext('2d');\n",
       "    this.rubberband_context.strokeStyle = '#000000';\n",
       "\n",
       "    this._resize_canvas = function (width, height, forward) {\n",
       "        if (forward) {\n",
       "            canvas_div.style.width = width + 'px';\n",
       "            canvas_div.style.height = height + 'px';\n",
       "        }\n",
       "    };\n",
       "\n",
       "    // Disable right mouse context menu.\n",
       "    this.rubberband_canvas.addEventListener('contextmenu', function (_e) {\n",
       "        event.preventDefault();\n",
       "        return false;\n",
       "    });\n",
       "\n",
       "    function set_focus() {\n",
       "        canvas.focus();\n",
       "        canvas_div.focus();\n",
       "    }\n",
       "\n",
       "    window.setTimeout(set_focus, 100);\n",
       "};\n",
       "\n",
       "mpl.figure.prototype._init_toolbar = function () {\n",
       "    var fig = this;\n",
       "\n",
       "    var toolbar = document.createElement('div');\n",
       "    toolbar.classList = 'mpl-toolbar';\n",
       "    this.root.appendChild(toolbar);\n",
       "\n",
       "    function on_click_closure(name) {\n",
       "        return function (_event) {\n",
       "            return fig.toolbar_button_onclick(name);\n",
       "        };\n",
       "    }\n",
       "\n",
       "    function on_mouseover_closure(tooltip) {\n",
       "        return function (event) {\n",
       "            if (!event.currentTarget.disabled) {\n",
       "                return fig.toolbar_button_onmouseover(tooltip);\n",
       "            }\n",
       "        };\n",
       "    }\n",
       "\n",
       "    fig.buttons = {};\n",
       "    var buttonGroup = document.createElement('div');\n",
       "    buttonGroup.classList = 'mpl-button-group';\n",
       "    for (var toolbar_ind in mpl.toolbar_items) {\n",
       "        var name = mpl.toolbar_items[toolbar_ind][0];\n",
       "        var tooltip = mpl.toolbar_items[toolbar_ind][1];\n",
       "        var image = mpl.toolbar_items[toolbar_ind][2];\n",
       "        var method_name = mpl.toolbar_items[toolbar_ind][3];\n",
       "\n",
       "        if (!name) {\n",
       "            /* Instead of a spacer, we start a new button group. */\n",
       "            if (buttonGroup.hasChildNodes()) {\n",
       "                toolbar.appendChild(buttonGroup);\n",
       "            }\n",
       "            buttonGroup = document.createElement('div');\n",
       "            buttonGroup.classList = 'mpl-button-group';\n",
       "            continue;\n",
       "        }\n",
       "\n",
       "        var button = (fig.buttons[name] = document.createElement('button'));\n",
       "        button.classList = 'mpl-widget';\n",
       "        button.setAttribute('role', 'button');\n",
       "        button.setAttribute('aria-disabled', 'false');\n",
       "        button.addEventListener('click', on_click_closure(method_name));\n",
       "        button.addEventListener('mouseover', on_mouseover_closure(tooltip));\n",
       "\n",
       "        var icon_img = document.createElement('img');\n",
       "        icon_img.src = '_images/' + image + '.png';\n",
       "        icon_img.srcset = '_images/' + image + '_large.png 2x';\n",
       "        icon_img.alt = tooltip;\n",
       "        button.appendChild(icon_img);\n",
       "\n",
       "        buttonGroup.appendChild(button);\n",
       "    }\n",
       "\n",
       "    if (buttonGroup.hasChildNodes()) {\n",
       "        toolbar.appendChild(buttonGroup);\n",
       "    }\n",
       "\n",
       "    var fmt_picker = document.createElement('select');\n",
       "    fmt_picker.classList = 'mpl-widget';\n",
       "    toolbar.appendChild(fmt_picker);\n",
       "    this.format_dropdown = fmt_picker;\n",
       "\n",
       "    for (var ind in mpl.extensions) {\n",
       "        var fmt = mpl.extensions[ind];\n",
       "        var option = document.createElement('option');\n",
       "        option.selected = fmt === mpl.default_extension;\n",
       "        option.innerHTML = fmt;\n",
       "        fmt_picker.appendChild(option);\n",
       "    }\n",
       "\n",
       "    var status_bar = document.createElement('span');\n",
       "    status_bar.classList = 'mpl-message';\n",
       "    toolbar.appendChild(status_bar);\n",
       "    this.message = status_bar;\n",
       "};\n",
       "\n",
       "mpl.figure.prototype.request_resize = function (x_pixels, y_pixels) {\n",
       "    // Request matplotlib to resize the figure. Matplotlib will then trigger a resize in the client,\n",
       "    // which will in turn request a refresh of the image.\n",
       "    this.send_message('resize', { width: x_pixels, height: y_pixels });\n",
       "};\n",
       "\n",
       "mpl.figure.prototype.send_message = function (type, properties) {\n",
       "    properties['type'] = type;\n",
       "    properties['figure_id'] = this.id;\n",
       "    this.ws.send(JSON.stringify(properties));\n",
       "};\n",
       "\n",
       "mpl.figure.prototype.send_draw_message = function () {\n",
       "    if (!this.waiting) {\n",
       "        this.waiting = true;\n",
       "        this.ws.send(JSON.stringify({ type: 'draw', figure_id: this.id }));\n",
       "    }\n",
       "};\n",
       "\n",
       "mpl.figure.prototype.handle_save = function (fig, _msg) {\n",
       "    var format_dropdown = fig.format_dropdown;\n",
       "    var format = format_dropdown.options[format_dropdown.selectedIndex].value;\n",
       "    fig.ondownload(fig, format);\n",
       "};\n",
       "\n",
       "mpl.figure.prototype.handle_resize = function (fig, msg) {\n",
       "    var size = msg['size'];\n",
       "    if (size[0] !== fig.canvas.width || size[1] !== fig.canvas.height) {\n",
       "        fig._resize_canvas(size[0], size[1], msg['forward']);\n",
       "        fig.send_message('refresh', {});\n",
       "    }\n",
       "};\n",
       "\n",
       "mpl.figure.prototype.handle_rubberband = function (fig, msg) {\n",
       "    var x0 = msg['x0'] / fig.ratio;\n",
       "    var y0 = (fig.canvas.height - msg['y0']) / fig.ratio;\n",
       "    var x1 = msg['x1'] / fig.ratio;\n",
       "    var y1 = (fig.canvas.height - msg['y1']) / fig.ratio;\n",
       "    x0 = Math.floor(x0) + 0.5;\n",
       "    y0 = Math.floor(y0) + 0.5;\n",
       "    x1 = Math.floor(x1) + 0.5;\n",
       "    y1 = Math.floor(y1) + 0.5;\n",
       "    var min_x = Math.min(x0, x1);\n",
       "    var min_y = Math.min(y0, y1);\n",
       "    var width = Math.abs(x1 - x0);\n",
       "    var height = Math.abs(y1 - y0);\n",
       "\n",
       "    fig.rubberband_context.clearRect(\n",
       "        0,\n",
       "        0,\n",
       "        fig.canvas.width / fig.ratio,\n",
       "        fig.canvas.height / fig.ratio\n",
       "    );\n",
       "\n",
       "    fig.rubberband_context.strokeRect(min_x, min_y, width, height);\n",
       "};\n",
       "\n",
       "mpl.figure.prototype.handle_figure_label = function (fig, msg) {\n",
       "    // Updates the figure title.\n",
       "    fig.header.textContent = msg['label'];\n",
       "};\n",
       "\n",
       "mpl.figure.prototype.handle_cursor = function (fig, msg) {\n",
       "    var cursor = msg['cursor'];\n",
       "    switch (cursor) {\n",
       "        case 0:\n",
       "            cursor = 'pointer';\n",
       "            break;\n",
       "        case 1:\n",
       "            cursor = 'default';\n",
       "            break;\n",
       "        case 2:\n",
       "            cursor = 'crosshair';\n",
       "            break;\n",
       "        case 3:\n",
       "            cursor = 'move';\n",
       "            break;\n",
       "    }\n",
       "    fig.rubberband_canvas.style.cursor = cursor;\n",
       "};\n",
       "\n",
       "mpl.figure.prototype.handle_message = function (fig, msg) {\n",
       "    fig.message.textContent = msg['message'];\n",
       "};\n",
       "\n",
       "mpl.figure.prototype.handle_draw = function (fig, _msg) {\n",
       "    // Request the server to send over a new figure.\n",
       "    fig.send_draw_message();\n",
       "};\n",
       "\n",
       "mpl.figure.prototype.handle_image_mode = function (fig, msg) {\n",
       "    fig.image_mode = msg['mode'];\n",
       "};\n",
       "\n",
       "mpl.figure.prototype.handle_history_buttons = function (fig, msg) {\n",
       "    for (var key in msg) {\n",
       "        if (!(key in fig.buttons)) {\n",
       "            continue;\n",
       "        }\n",
       "        fig.buttons[key].disabled = !msg[key];\n",
       "        fig.buttons[key].setAttribute('aria-disabled', !msg[key]);\n",
       "    }\n",
       "};\n",
       "\n",
       "mpl.figure.prototype.handle_navigate_mode = function (fig, msg) {\n",
       "    if (msg['mode'] === 'PAN') {\n",
       "        fig.buttons['Pan'].classList.add('active');\n",
       "        fig.buttons['Zoom'].classList.remove('active');\n",
       "    } else if (msg['mode'] === 'ZOOM') {\n",
       "        fig.buttons['Pan'].classList.remove('active');\n",
       "        fig.buttons['Zoom'].classList.add('active');\n",
       "    } else {\n",
       "        fig.buttons['Pan'].classList.remove('active');\n",
       "        fig.buttons['Zoom'].classList.remove('active');\n",
       "    }\n",
       "};\n",
       "\n",
       "mpl.figure.prototype.updated_canvas_event = function () {\n",
       "    // Called whenever the canvas gets updated.\n",
       "    this.send_message('ack', {});\n",
       "};\n",
       "\n",
       "// A function to construct a web socket function for onmessage handling.\n",
       "// Called in the figure constructor.\n",
       "mpl.figure.prototype._make_on_message_function = function (fig) {\n",
       "    return function socket_on_message(evt) {\n",
       "        if (evt.data instanceof Blob) {\n",
       "            var img = evt.data;\n",
       "            if (img.type !== 'image/png') {\n",
       "                /* FIXME: We get \"Resource interpreted as Image but\n",
       "                 * transferred with MIME type text/plain:\" errors on\n",
       "                 * Chrome.  But how to set the MIME type?  It doesn't seem\n",
       "                 * to be part of the websocket stream */\n",
       "                img.type = 'image/png';\n",
       "            }\n",
       "\n",
       "            /* Free the memory for the previous frames */\n",
       "            if (fig.imageObj.src) {\n",
       "                (window.URL || window.webkitURL).revokeObjectURL(\n",
       "                    fig.imageObj.src\n",
       "                );\n",
       "            }\n",
       "\n",
       "            fig.imageObj.src = (window.URL || window.webkitURL).createObjectURL(\n",
       "                img\n",
       "            );\n",
       "            fig.updated_canvas_event();\n",
       "            fig.waiting = false;\n",
       "            return;\n",
       "        } else if (\n",
       "            typeof evt.data === 'string' &&\n",
       "            evt.data.slice(0, 21) === 'data:image/png;base64'\n",
       "        ) {\n",
       "            fig.imageObj.src = evt.data;\n",
       "            fig.updated_canvas_event();\n",
       "            fig.waiting = false;\n",
       "            return;\n",
       "        }\n",
       "\n",
       "        var msg = JSON.parse(evt.data);\n",
       "        var msg_type = msg['type'];\n",
       "\n",
       "        // Call the  \"handle_{type}\" callback, which takes\n",
       "        // the figure and JSON message as its only arguments.\n",
       "        try {\n",
       "            var callback = fig['handle_' + msg_type];\n",
       "        } catch (e) {\n",
       "            console.log(\n",
       "                \"No handler for the '\" + msg_type + \"' message type: \",\n",
       "                msg\n",
       "            );\n",
       "            return;\n",
       "        }\n",
       "\n",
       "        if (callback) {\n",
       "            try {\n",
       "                // console.log(\"Handling '\" + msg_type + \"' message: \", msg);\n",
       "                callback(fig, msg);\n",
       "            } catch (e) {\n",
       "                console.log(\n",
       "                    \"Exception inside the 'handler_\" + msg_type + \"' callback:\",\n",
       "                    e,\n",
       "                    e.stack,\n",
       "                    msg\n",
       "                );\n",
       "            }\n",
       "        }\n",
       "    };\n",
       "};\n",
       "\n",
       "// from http://stackoverflow.com/questions/1114465/getting-mouse-location-in-canvas\n",
       "mpl.findpos = function (e) {\n",
       "    //this section is from http://www.quirksmode.org/js/events_properties.html\n",
       "    var targ;\n",
       "    if (!e) {\n",
       "        e = window.event;\n",
       "    }\n",
       "    if (e.target) {\n",
       "        targ = e.target;\n",
       "    } else if (e.srcElement) {\n",
       "        targ = e.srcElement;\n",
       "    }\n",
       "    if (targ.nodeType === 3) {\n",
       "        // defeat Safari bug\n",
       "        targ = targ.parentNode;\n",
       "    }\n",
       "\n",
       "    // pageX,Y are the mouse positions relative to the document\n",
       "    var boundingRect = targ.getBoundingClientRect();\n",
       "    var x = e.pageX - (boundingRect.left + document.body.scrollLeft);\n",
       "    var y = e.pageY - (boundingRect.top + document.body.scrollTop);\n",
       "\n",
       "    return { x: x, y: y };\n",
       "};\n",
       "\n",
       "/*\n",
       " * return a copy of an object with only non-object keys\n",
       " * we need this to avoid circular references\n",
       " * http://stackoverflow.com/a/24161582/3208463\n",
       " */\n",
       "function simpleKeys(original) {\n",
       "    return Object.keys(original).reduce(function (obj, key) {\n",
       "        if (typeof original[key] !== 'object') {\n",
       "            obj[key] = original[key];\n",
       "        }\n",
       "        return obj;\n",
       "    }, {});\n",
       "}\n",
       "\n",
       "mpl.figure.prototype.mouse_event = function (event, name) {\n",
       "    var canvas_pos = mpl.findpos(event);\n",
       "\n",
       "    if (name === 'button_press') {\n",
       "        this.canvas.focus();\n",
       "        this.canvas_div.focus();\n",
       "    }\n",
       "\n",
       "    var x = canvas_pos.x * this.ratio;\n",
       "    var y = canvas_pos.y * this.ratio;\n",
       "\n",
       "    this.send_message(name, {\n",
       "        x: x,\n",
       "        y: y,\n",
       "        button: event.button,\n",
       "        step: event.step,\n",
       "        guiEvent: simpleKeys(event),\n",
       "    });\n",
       "\n",
       "    /* This prevents the web browser from automatically changing to\n",
       "     * the text insertion cursor when the button is pressed.  We want\n",
       "     * to control all of the cursor setting manually through the\n",
       "     * 'cursor' event from matplotlib */\n",
       "    event.preventDefault();\n",
       "    return false;\n",
       "};\n",
       "\n",
       "mpl.figure.prototype._key_event_extra = function (_event, _name) {\n",
       "    // Handle any extra behaviour associated with a key event\n",
       "};\n",
       "\n",
       "mpl.figure.prototype.key_event = function (event, name) {\n",
       "    // Prevent repeat events\n",
       "    if (name === 'key_press') {\n",
       "        if (event.key === this._key) {\n",
       "            return;\n",
       "        } else {\n",
       "            this._key = event.key;\n",
       "        }\n",
       "    }\n",
       "    if (name === 'key_release') {\n",
       "        this._key = null;\n",
       "    }\n",
       "\n",
       "    var value = '';\n",
       "    if (event.ctrlKey && event.key !== 'Control') {\n",
       "        value += 'ctrl+';\n",
       "    }\n",
       "    else if (event.altKey && event.key !== 'Alt') {\n",
       "        value += 'alt+';\n",
       "    }\n",
       "    else if (event.shiftKey && event.key !== 'Shift') {\n",
       "        value += 'shift+';\n",
       "    }\n",
       "\n",
       "    value += 'k' + event.key;\n",
       "\n",
       "    this._key_event_extra(event, name);\n",
       "\n",
       "    this.send_message(name, { key: value, guiEvent: simpleKeys(event) });\n",
       "    return false;\n",
       "};\n",
       "\n",
       "mpl.figure.prototype.toolbar_button_onclick = function (name) {\n",
       "    if (name === 'download') {\n",
       "        this.handle_save(this, null);\n",
       "    } else {\n",
       "        this.send_message('toolbar_button', { name: name });\n",
       "    }\n",
       "};\n",
       "\n",
       "mpl.figure.prototype.toolbar_button_onmouseover = function (tooltip) {\n",
       "    this.message.textContent = tooltip;\n",
       "};\n",
       "\n",
       "///////////////// REMAINING CONTENT GENERATED BY embed_js.py /////////////////\n",
       "// prettier-ignore\n",
       "var _JSXTOOLS_RESIZE_OBSERVER=function(A){var t,i=new WeakMap,n=new WeakMap,a=new WeakMap,r=new WeakMap,o=new Set;function s(e){if(!(this instanceof s))throw new TypeError(\"Constructor requires 'new' operator\");i.set(this,e)}function h(){throw new TypeError(\"Function is not a constructor\")}function c(e,t,i,n){e=0 in arguments?Number(arguments[0]):0,t=1 in arguments?Number(arguments[1]):0,i=2 in arguments?Number(arguments[2]):0,n=3 in arguments?Number(arguments[3]):0,this.right=(this.x=this.left=e)+(this.width=i),this.bottom=(this.y=this.top=t)+(this.height=n),Object.freeze(this)}function d(){t=requestAnimationFrame(d);var s=new WeakMap,p=new Set;o.forEach((function(t){r.get(t).forEach((function(i){var r=t instanceof window.SVGElement,o=a.get(t),d=r?0:parseFloat(o.paddingTop),f=r?0:parseFloat(o.paddingRight),l=r?0:parseFloat(o.paddingBottom),u=r?0:parseFloat(o.paddingLeft),g=r?0:parseFloat(o.borderTopWidth),m=r?0:parseFloat(o.borderRightWidth),w=r?0:parseFloat(o.borderBottomWidth),b=u+f,F=d+l,v=(r?0:parseFloat(o.borderLeftWidth))+m,W=g+w,y=r?0:t.offsetHeight-W-t.clientHeight,E=r?0:t.offsetWidth-v-t.clientWidth,R=b+v,z=F+W,M=r?t.width:parseFloat(o.width)-R-E,O=r?t.height:parseFloat(o.height)-z-y;if(n.has(t)){var k=n.get(t);if(k[0]===M&&k[1]===O)return}n.set(t,[M,O]);var S=Object.create(h.prototype);S.target=t,S.contentRect=new c(u,d,M,O),s.has(i)||(s.set(i,[]),p.add(i)),s.get(i).push(S)}))})),p.forEach((function(e){i.get(e).call(e,s.get(e),e)}))}return s.prototype.observe=function(i){if(i instanceof window.Element){r.has(i)||(r.set(i,new Set),o.add(i),a.set(i,window.getComputedStyle(i)));var n=r.get(i);n.has(this)||n.add(this),cancelAnimationFrame(t),t=requestAnimationFrame(d)}},s.prototype.unobserve=function(i){if(i instanceof window.Element&&r.has(i)){var n=r.get(i);n.has(this)&&(n.delete(this),n.size||(r.delete(i),o.delete(i))),n.size||r.delete(i),o.size||cancelAnimationFrame(t)}},A.DOMRectReadOnly=c,A.ResizeObserver=s,A.ResizeObserverEntry=h,A}; // eslint-disable-line\n",
       "mpl.toolbar_items = [[\"Home\", \"Reset original view\", \"fa fa-home icon-home\", \"home\"], [\"Back\", \"Back to previous view\", \"fa fa-arrow-left icon-arrow-left\", \"back\"], [\"Forward\", \"Forward to next view\", \"fa fa-arrow-right icon-arrow-right\", \"forward\"], [\"\", \"\", \"\", \"\"], [\"Pan\", \"Left button pans, Right button zooms\\nx/y fixes axis, CTRL fixes aspect\", \"fa fa-arrows icon-move\", \"pan\"], [\"Zoom\", \"Zoom to rectangle\\nx/y fixes axis, CTRL fixes aspect\", \"fa fa-square-o icon-check-empty\", \"zoom\"], [\"\", \"\", \"\", \"\"], [\"Download\", \"Download plot\", \"fa fa-floppy-o icon-save\", \"download\"]];\n",
       "\n",
       "mpl.extensions = [\"eps\", \"jpeg\", \"pgf\", \"pdf\", \"png\", \"ps\", \"raw\", \"svg\", \"tif\"];\n",
       "\n",
       "mpl.default_extension = \"png\";/* global mpl */\n",
       "\n",
       "var comm_websocket_adapter = function (comm) {\n",
       "    // Create a \"websocket\"-like object which calls the given IPython comm\n",
       "    // object with the appropriate methods. Currently this is a non binary\n",
       "    // socket, so there is still some room for performance tuning.\n",
       "    var ws = {};\n",
       "\n",
       "    ws.binaryType = comm.kernel.ws.binaryType;\n",
       "    ws.readyState = comm.kernel.ws.readyState;\n",
       "    function updateReadyState(_event) {\n",
       "        if (comm.kernel.ws) {\n",
       "            ws.readyState = comm.kernel.ws.readyState;\n",
       "        } else {\n",
       "            ws.readyState = 3; // Closed state.\n",
       "        }\n",
       "    }\n",
       "    comm.kernel.ws.addEventListener('open', updateReadyState);\n",
       "    comm.kernel.ws.addEventListener('close', updateReadyState);\n",
       "    comm.kernel.ws.addEventListener('error', updateReadyState);\n",
       "\n",
       "    ws.close = function () {\n",
       "        comm.close();\n",
       "    };\n",
       "    ws.send = function (m) {\n",
       "        //console.log('sending', m);\n",
       "        comm.send(m);\n",
       "    };\n",
       "    // Register the callback with on_msg.\n",
       "    comm.on_msg(function (msg) {\n",
       "        //console.log('receiving', msg['content']['data'], msg);\n",
       "        var data = msg['content']['data'];\n",
       "        if (data['blob'] !== undefined) {\n",
       "            data = {\n",
       "                data: new Blob(msg['buffers'], { type: data['blob'] }),\n",
       "            };\n",
       "        }\n",
       "        // Pass the mpl event to the overridden (by mpl) onmessage function.\n",
       "        ws.onmessage(data);\n",
       "    });\n",
       "    return ws;\n",
       "};\n",
       "\n",
       "mpl.mpl_figure_comm = function (comm, msg) {\n",
       "    // This is the function which gets called when the mpl process\n",
       "    // starts-up an IPython Comm through the \"matplotlib\" channel.\n",
       "\n",
       "    var id = msg.content.data.id;\n",
       "    // Get hold of the div created by the display call when the Comm\n",
       "    // socket was opened in Python.\n",
       "    var element = document.getElementById(id);\n",
       "    var ws_proxy = comm_websocket_adapter(comm);\n",
       "\n",
       "    function ondownload(figure, _format) {\n",
       "        window.open(figure.canvas.toDataURL());\n",
       "    }\n",
       "\n",
       "    var fig = new mpl.figure(id, ws_proxy, ondownload, element);\n",
       "\n",
       "    // Call onopen now - mpl needs it, as it is assuming we've passed it a real\n",
       "    // web socket which is closed, not our websocket->open comm proxy.\n",
       "    ws_proxy.onopen();\n",
       "\n",
       "    fig.parent_element = element;\n",
       "    fig.cell_info = mpl.find_output_cell(\"<div id='\" + id + \"'></div>\");\n",
       "    if (!fig.cell_info) {\n",
       "        console.error('Failed to find cell for figure', id, fig);\n",
       "        return;\n",
       "    }\n",
       "    fig.cell_info[0].output_area.element.on(\n",
       "        'cleared',\n",
       "        { fig: fig },\n",
       "        fig._remove_fig_handler\n",
       "    );\n",
       "};\n",
       "\n",
       "mpl.figure.prototype.handle_close = function (fig, msg) {\n",
       "    var width = fig.canvas.width / fig.ratio;\n",
       "    fig.cell_info[0].output_area.element.off(\n",
       "        'cleared',\n",
       "        fig._remove_fig_handler\n",
       "    );\n",
       "    fig.resizeObserverInstance.unobserve(fig.canvas_div);\n",
       "\n",
       "    // Update the output cell to use the data from the current canvas.\n",
       "    fig.push_to_output();\n",
       "    var dataURL = fig.canvas.toDataURL();\n",
       "    // Re-enable the keyboard manager in IPython - without this line, in FF,\n",
       "    // the notebook keyboard shortcuts fail.\n",
       "    IPython.keyboard_manager.enable();\n",
       "    fig.parent_element.innerHTML =\n",
       "        '<img src=\"' + dataURL + '\" width=\"' + width + '\">';\n",
       "    fig.close_ws(fig, msg);\n",
       "};\n",
       "\n",
       "mpl.figure.prototype.close_ws = function (fig, msg) {\n",
       "    fig.send_message('closing', msg);\n",
       "    // fig.ws.close()\n",
       "};\n",
       "\n",
       "mpl.figure.prototype.push_to_output = function (_remove_interactive) {\n",
       "    // Turn the data on the canvas into data in the output cell.\n",
       "    var width = this.canvas.width / this.ratio;\n",
       "    var dataURL = this.canvas.toDataURL();\n",
       "    this.cell_info[1]['text/html'] =\n",
       "        '<img src=\"' + dataURL + '\" width=\"' + width + '\">';\n",
       "};\n",
       "\n",
       "mpl.figure.prototype.updated_canvas_event = function () {\n",
       "    // Tell IPython that the notebook contents must change.\n",
       "    IPython.notebook.set_dirty(true);\n",
       "    this.send_message('ack', {});\n",
       "    var fig = this;\n",
       "    // Wait a second, then push the new image to the DOM so\n",
       "    // that it is saved nicely (might be nice to debounce this).\n",
       "    setTimeout(function () {\n",
       "        fig.push_to_output();\n",
       "    }, 1000);\n",
       "};\n",
       "\n",
       "mpl.figure.prototype._init_toolbar = function () {\n",
       "    var fig = this;\n",
       "\n",
       "    var toolbar = document.createElement('div');\n",
       "    toolbar.classList = 'btn-toolbar';\n",
       "    this.root.appendChild(toolbar);\n",
       "\n",
       "    function on_click_closure(name) {\n",
       "        return function (_event) {\n",
       "            return fig.toolbar_button_onclick(name);\n",
       "        };\n",
       "    }\n",
       "\n",
       "    function on_mouseover_closure(tooltip) {\n",
       "        return function (event) {\n",
       "            if (!event.currentTarget.disabled) {\n",
       "                return fig.toolbar_button_onmouseover(tooltip);\n",
       "            }\n",
       "        };\n",
       "    }\n",
       "\n",
       "    fig.buttons = {};\n",
       "    var buttonGroup = document.createElement('div');\n",
       "    buttonGroup.classList = 'btn-group';\n",
       "    var button;\n",
       "    for (var toolbar_ind in mpl.toolbar_items) {\n",
       "        var name = mpl.toolbar_items[toolbar_ind][0];\n",
       "        var tooltip = mpl.toolbar_items[toolbar_ind][1];\n",
       "        var image = mpl.toolbar_items[toolbar_ind][2];\n",
       "        var method_name = mpl.toolbar_items[toolbar_ind][3];\n",
       "\n",
       "        if (!name) {\n",
       "            /* Instead of a spacer, we start a new button group. */\n",
       "            if (buttonGroup.hasChildNodes()) {\n",
       "                toolbar.appendChild(buttonGroup);\n",
       "            }\n",
       "            buttonGroup = document.createElement('div');\n",
       "            buttonGroup.classList = 'btn-group';\n",
       "            continue;\n",
       "        }\n",
       "\n",
       "        button = fig.buttons[name] = document.createElement('button');\n",
       "        button.classList = 'btn btn-default';\n",
       "        button.href = '#';\n",
       "        button.title = name;\n",
       "        button.innerHTML = '<i class=\"fa ' + image + ' fa-lg\"></i>';\n",
       "        button.addEventListener('click', on_click_closure(method_name));\n",
       "        button.addEventListener('mouseover', on_mouseover_closure(tooltip));\n",
       "        buttonGroup.appendChild(button);\n",
       "    }\n",
       "\n",
       "    if (buttonGroup.hasChildNodes()) {\n",
       "        toolbar.appendChild(buttonGroup);\n",
       "    }\n",
       "\n",
       "    // Add the status bar.\n",
       "    var status_bar = document.createElement('span');\n",
       "    status_bar.classList = 'mpl-message pull-right';\n",
       "    toolbar.appendChild(status_bar);\n",
       "    this.message = status_bar;\n",
       "\n",
       "    // Add the close button to the window.\n",
       "    var buttongrp = document.createElement('div');\n",
       "    buttongrp.classList = 'btn-group inline pull-right';\n",
       "    button = document.createElement('button');\n",
       "    button.classList = 'btn btn-mini btn-primary';\n",
       "    button.href = '#';\n",
       "    button.title = 'Stop Interaction';\n",
       "    button.innerHTML = '<i class=\"fa fa-power-off icon-remove icon-large\"></i>';\n",
       "    button.addEventListener('click', function (_evt) {\n",
       "        fig.handle_close(fig, {});\n",
       "    });\n",
       "    button.addEventListener(\n",
       "        'mouseover',\n",
       "        on_mouseover_closure('Stop Interaction')\n",
       "    );\n",
       "    buttongrp.appendChild(button);\n",
       "    var titlebar = this.root.querySelector('.ui-dialog-titlebar');\n",
       "    titlebar.insertBefore(buttongrp, titlebar.firstChild);\n",
       "};\n",
       "\n",
       "mpl.figure.prototype._remove_fig_handler = function (event) {\n",
       "    var fig = event.data.fig;\n",
       "    if (event.target !== this) {\n",
       "        // Ignore bubbled events from children.\n",
       "        return;\n",
       "    }\n",
       "    fig.close_ws(fig, {});\n",
       "};\n",
       "\n",
       "mpl.figure.prototype._root_extra_style = function (el) {\n",
       "    el.style.boxSizing = 'content-box'; // override notebook setting of border-box.\n",
       "};\n",
       "\n",
       "mpl.figure.prototype._canvas_extra_style = function (el) {\n",
       "    // this is important to make the div 'focusable\n",
       "    el.setAttribute('tabindex', 0);\n",
       "    // reach out to IPython and tell the keyboard manager to turn it's self\n",
       "    // off when our div gets focus\n",
       "\n",
       "    // location in version 3\n",
       "    if (IPython.notebook.keyboard_manager) {\n",
       "        IPython.notebook.keyboard_manager.register_events(el);\n",
       "    } else {\n",
       "        // location in version 2\n",
       "        IPython.keyboard_manager.register_events(el);\n",
       "    }\n",
       "};\n",
       "\n",
       "mpl.figure.prototype._key_event_extra = function (event, _name) {\n",
       "    var manager = IPython.notebook.keyboard_manager;\n",
       "    if (!manager) {\n",
       "        manager = IPython.keyboard_manager;\n",
       "    }\n",
       "\n",
       "    // Check for shift+enter\n",
       "    if (event.shiftKey && event.which === 13) {\n",
       "        this.canvas_div.blur();\n",
       "        // select the cell after this one\n",
       "        var index = IPython.notebook.find_cell_index(this.cell_info[0]);\n",
       "        IPython.notebook.select(index + 1);\n",
       "    }\n",
       "};\n",
       "\n",
       "mpl.figure.prototype.handle_save = function (fig, _msg) {\n",
       "    fig.ondownload(fig, null);\n",
       "};\n",
       "\n",
       "mpl.find_output_cell = function (html_output) {\n",
       "    // Return the cell and output element which can be found *uniquely* in the notebook.\n",
       "    // Note - this is a bit hacky, but it is done because the \"notebook_saving.Notebook\"\n",
       "    // IPython event is triggered only after the cells have been serialised, which for\n",
       "    // our purposes (turning an active figure into a static one), is too late.\n",
       "    var cells = IPython.notebook.get_cells();\n",
       "    var ncells = cells.length;\n",
       "    for (var i = 0; i < ncells; i++) {\n",
       "        var cell = cells[i];\n",
       "        if (cell.cell_type === 'code') {\n",
       "            for (var j = 0; j < cell.output_area.outputs.length; j++) {\n",
       "                var data = cell.output_area.outputs[j];\n",
       "                if (data.data) {\n",
       "                    // IPython >= 3 moved mimebundle to data attribute of output\n",
       "                    data = data.data;\n",
       "                }\n",
       "                if (data['text/html'] === html_output) {\n",
       "                    return [cell, data, j];\n",
       "                }\n",
       "            }\n",
       "        }\n",
       "    }\n",
       "};\n",
       "\n",
       "// Register the function which deals with the matplotlib target/channel.\n",
       "// The kernel may be null if the page has been refreshed.\n",
       "if (IPython.notebook.kernel !== null) {\n",
       "    IPython.notebook.kernel.comm_manager.register_target(\n",
       "        'matplotlib',\n",
       "        mpl.mpl_figure_comm\n",
       "    );\n",
       "}\n"
      ],
      "text/plain": [
       "<IPython.core.display.Javascript object>"
      ]
     },
     "metadata": {},
     "output_type": "display_data"
    },
    {
     "data": {
      "text/html": [
       "<img src=\"data:image/png;base64,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\" width=\"640\">"
      ],
      "text/plain": [
       "<IPython.core.display.HTML object>"
      ]
     },
     "metadata": {},
     "output_type": "display_data"
    }
   ],
   "source": [
    "%matplotlib notebook\n",
    "import matplotlib.pyplot as plt\n",
    "import seaborn as sns\n",
    "\n",
    "sns.set_style(\"darkgrid\")\n",
    "counts = [len(unigram), len(bigram), len(trigram)]\n",
    "plt.plot(counts, color='cornflowerblue')\n",
    "plt.plot(counts, 'bo')\n",
    "plt.margins(0.1)\n",
    "plt.xticks(range(3), ['unigram', 'bigram', 'trigram'])\n",
    "plt.tick_params(labelsize=14)\n",
    "plt.title('Number of ngrams in the first 10,000 reviews of the Yelp dataset', {'fontsize':16})\n",
    "plt.show()"
   ]
  },
  {
   "cell_type": "markdown",
   "id": "veoFIblpVy7o",
   "metadata": {
    "id": "veoFIblpVy7o"
   },
   "source": [
    "## Task 1. 1 Applying the unigram, bigram, and trigram tokenization methods to the given text below."
   ]
  },
  {
   "cell_type": "code",
   "execution_count": 18,
   "id": "26c7b44d",
   "metadata": {
    "colab": {
     "base_uri": "https://localhost:8080/",
     "height": 277
    },
    "id": "26c7b44d",
    "outputId": "1d080d7d-e3e0-4a77-9134-f6faef631857"
   },
   "outputs": [
    {
     "data": {
      "text/plain": [
       "array(['2', 'a', 'absolute', 'absolutely', 'amazing', 'an', 'and',\n",
       "       'anyway', 'arrived', 'back', 'best', 'better', 'birthday', 'blend',\n",
       "       'bloody', 'bread', 'breakfast', 'busy', 'came', 'can', 'complete',\n",
       "       'delicious', 'do', 'earlier', 'eggs', 'ever', 'everything',\n",
       "       'excellent', 'favor', 'fills', 'food', 'for', 'fresh', 'from',\n",
       "       'garden', 'get', 'go', 'griddled', 'grounds', 'had', 'here', 'i',\n",
       "       'ingredients', 'it', 'like', 'looked', 'looks', 'm', 'made',\n",
       "       'mary', 'me', 'meal', 'menu', 'morning', 'my', 'of', 'on', 'only',\n",
       "       'order', 'our', 'outside', 'overlooking', 'perfect', 'phenomenal',\n",
       "       'pieces', 'place', 'pleasure', 'pretty', 'quickly', 'saturday',\n",
       "       'scrambled', 'semi', 'simply', 'sitting', 'skillet', 'so', 'sure',\n",
       "       't', 'tasty', 'the', 'their', 'them', 'they', 'to', 'toast',\n",
       "       'took', 'truffle', 'up', 'use', 've', 'vegetable', 'wait',\n",
       "       'waitress', 'was', 'weather', 'when', 'which', 'while', 'white',\n",
       "       'wife', 'with', 'you', 'yourself'], dtype=object)"
      ]
     },
     "execution_count": 18,
     "metadata": {},
     "output_type": "execute_result"
    }
   ],
   "source": [
    "train_text = \"\"\"My wife took me here on my birthday for breakfast and it was excellent.  The weather was perfect which made sitting outside overlooking their grounds an absolute pleasure.\n",
    "Our waitress was excellent and our food arrived quickly on the semi-busy Saturday morning.  It looked like the place fills up pretty quickly so the earlier you get here the better.\\n\\nDo yourself a favor and get their Bloody Mary.  It was phenomenal and simply the best I\\'ve ever had.\n",
    "I\\'m pretty sure they only use ingredients from their garden and blend them fresh when you order it.  It was amazing.\\n\\nWhile EVERYTHING on the menu looks excellent, I had the white truffle scrambled eggs vegetable skillet and it was tasty and delicious.\n",
    "It came with 2 pieces of their griddled bread with was amazing and it absolutely made the meal complete.\n",
    "It was the best \"toast\" I\\'ve ever had.\\n\\nAnyway, I can\\'t wait to go back!\"\"\"\n",
    "\n",
    "# write your code here\n",
    "\n",
    "#import the libraries\n",
    "from sklearn.feature_extraction.text import CountVectorizer\n",
    "\n",
    "#Countvectorizer object\n",
    "bow_converter = CountVectorizer(token_pattern='(?u)\\\\b\\\\w+\\\\b')\n",
    "\n",
    "x = bow_converter.fit_transform([train_text])\n",
    "\n",
    "# Applying the unigram, bigram, and trigram tokenization methods to the given text below.\n",
    "\n",
    "#Creating unigrams\n",
    "unigram = bow_converter.get_feature_names_out()\n",
    "unigram\n"
   ]
  },
  {
   "cell_type": "code",
   "execution_count": 19,
   "id": "d6cf0670",
   "metadata": {
    "colab": {
     "base_uri": "https://localhost:8080/",
     "height": 607
    },
    "id": "d6cf0670",
    "outputId": "9aa8a943-36a8-46c3-b2a4-fa36270a3344"
   },
   "outputs": [
    {
     "data": {
      "text/plain": [
       "array(['2 pieces', 'a favor', 'absolute pleasure', 'absolutely made',\n",
       "       'amazing and', 'amazing while', 'an absolute', 'and blend',\n",
       "       'and delicious', 'and get', 'and it', 'and our', 'and simply',\n",
       "       'anyway i', 'arrived quickly', 'best i', 'best toast', 'better do',\n",
       "       'birthday for', 'blend them', 'bloody mary', 'bread with',\n",
       "       'breakfast and', 'busy saturday', 'came with', 'can t',\n",
       "       'complete it', 'delicious it', 'do yourself', 'earlier you',\n",
       "       'eggs vegetable', 'ever had', 'everything on', 'excellent and',\n",
       "       'excellent i', 'excellent the', 'favor and', 'fills up',\n",
       "       'food arrived', 'for breakfast', 'fresh when', 'from their',\n",
       "       'garden and', 'get here', 'get their', 'go back', 'griddled bread',\n",
       "       'grounds an', 'had anyway', 'had i', 'had the', 'here on',\n",
       "       'here the', 'i can', 'i had', 'i m', 'i ve', 'ingredients from',\n",
       "       'it absolutely', 'it came', 'it it', 'it looked', 'it was',\n",
       "       'like the', 'looked like', 'looks excellent', 'm pretty',\n",
       "       'made sitting', 'made the', 'mary it', 'me here', 'meal complete',\n",
       "       'menu looks', 'morning it', 'my birthday', 'my wife', 'of their',\n",
       "       'on my', 'on the', 'only use', 'order it', 'our food',\n",
       "       'our waitress', 'outside overlooking', 'overlooking their',\n",
       "       'perfect which', 'phenomenal and', 'pieces of', 'place fills',\n",
       "       'pleasure our', 'pretty quickly', 'pretty sure', 'quickly on',\n",
       "       'quickly so', 'saturday morning', 'scrambled eggs', 'semi busy',\n",
       "       'simply the', 'sitting outside', 'skillet and', 'so the',\n",
       "       'sure they', 't wait', 'tasty and', 'the best', 'the better',\n",
       "       'the earlier', 'the meal', 'the menu', 'the place', 'the semi',\n",
       "       'the weather', 'the white', 'their bloody', 'their garden',\n",
       "       'their griddled', 'their grounds', 'them fresh', 'they only',\n",
       "       'to go', 'toast i', 'took me', 'truffle scrambled', 'up pretty',\n",
       "       'use ingredients', 've ever', 'vegetable skillet', 'wait to',\n",
       "       'waitress was', 'was amazing', 'was excellent', 'was perfect',\n",
       "       'was phenomenal', 'was tasty', 'was the', 'weather was',\n",
       "       'when you', 'which made', 'while everything', 'white truffle',\n",
       "       'wife took', 'with 2', 'with was', 'you get', 'you order',\n",
       "       'yourself a'], dtype=object)"
      ]
     },
     "execution_count": 19,
     "metadata": {},
     "output_type": "execute_result"
    }
   ],
   "source": [
    "#Creating bigrams\n",
    "bigram_converter = CountVectorizer(ngram_range=(2,2), token_pattern='(?u)\\\\b\\\\w+\\\\b')\n",
    "x2 = bigram_converter.fit_transform([train_text])\n",
    "bigram = bigram_converter.get_feature_names_out()\n",
    "bigram\n"
   ]
  },
  {
   "cell_type": "code",
   "execution_count": 20,
   "id": "eb52e81c",
   "metadata": {
    "colab": {
     "base_uri": "https://localhost:8080/",
     "height": 937
    },
    "id": "eb52e81c",
    "outputId": "77d1b4ac-7c00-402c-8c0f-9fa4f1131aad"
   },
   "outputs": [
    {
     "data": {
      "text/plain": [
       "array(['2 pieces of', 'a favor and', 'absolute pleasure our',\n",
       "       'absolutely made the', 'amazing and it',\n",
       "       'amazing while everything', 'an absolute pleasure',\n",
       "       'and blend them', 'and delicious it', 'and get their',\n",
       "       'and it absolutely', 'and it was', 'and our food',\n",
       "       'and simply the', 'anyway i can', 'arrived quickly on',\n",
       "       'best i ve', 'best toast i', 'better do yourself',\n",
       "       'birthday for breakfast', 'blend them fresh', 'bloody mary it',\n",
       "       'bread with was', 'breakfast and it', 'busy saturday morning',\n",
       "       'came with 2', 'can t wait', 'complete it was',\n",
       "       'delicious it came', 'do yourself a', 'earlier you get',\n",
       "       'eggs vegetable skillet', 'ever had anyway', 'ever had i',\n",
       "       'everything on the', 'excellent and our', 'excellent i had',\n",
       "       'excellent the weather', 'favor and get', 'fills up pretty',\n",
       "       'food arrived quickly', 'for breakfast and', 'fresh when you',\n",
       "       'from their garden', 'garden and blend', 'get here the',\n",
       "       'get their bloody', 'griddled bread with', 'grounds an absolute',\n",
       "       'had anyway i', 'had i m', 'had the white', 'here on my',\n",
       "       'here the better', 'i can t', 'i had the', 'i m pretty',\n",
       "       'i ve ever', 'ingredients from their', 'it absolutely made',\n",
       "       'it came with', 'it it was', 'it looked like', 'it was amazing',\n",
       "       'it was excellent', 'it was phenomenal', 'it was tasty',\n",
       "       'it was the', 'like the place', 'looked like the',\n",
       "       'looks excellent i', 'm pretty sure', 'made sitting outside',\n",
       "       'made the meal', 'mary it was', 'me here on', 'meal complete it',\n",
       "       'menu looks excellent', 'morning it looked', 'my birthday for',\n",
       "       'my wife took', 'of their griddled', 'on my birthday',\n",
       "       'on the menu', 'on the semi', 'only use ingredients',\n",
       "       'order it it', 'our food arrived', 'our waitress was',\n",
       "       'outside overlooking their', 'overlooking their grounds',\n",
       "       'perfect which made', 'phenomenal and simply', 'pieces of their',\n",
       "       'place fills up', 'pleasure our waitress', 'pretty quickly so',\n",
       "       'pretty sure they', 'quickly on the', 'quickly so the',\n",
       "       'saturday morning it', 'scrambled eggs vegetable',\n",
       "       'semi busy saturday', 'simply the best',\n",
       "       'sitting outside overlooking', 'skillet and it', 'so the earlier',\n",
       "       'sure they only', 't wait to', 'tasty and delicious', 'the best i',\n",
       "       'the best toast', 'the better do', 'the earlier you',\n",
       "       'the meal complete', 'the menu looks', 'the place fills',\n",
       "       'the semi busy', 'the weather was', 'the white truffle',\n",
       "       'their bloody mary', 'their garden and', 'their griddled bread',\n",
       "       'their grounds an', 'them fresh when', 'they only use',\n",
       "       'to go back', 'toast i ve', 'took me here',\n",
       "       'truffle scrambled eggs', 'up pretty quickly',\n",
       "       'use ingredients from', 've ever had', 'vegetable skillet and',\n",
       "       'wait to go', 'waitress was excellent', 'was amazing and',\n",
       "       'was amazing while', 'was excellent and', 'was excellent the',\n",
       "       'was perfect which', 'was phenomenal and', 'was tasty and',\n",
       "       'was the best', 'weather was perfect', 'when you order',\n",
       "       'which made sitting', 'while everything on',\n",
       "       'white truffle scrambled', 'wife took me', 'with 2 pieces',\n",
       "       'with was amazing', 'you get here', 'you order it',\n",
       "       'yourself a favor'], dtype=object)"
      ]
     },
     "execution_count": 20,
     "metadata": {},
     "output_type": "execute_result"
    }
   ],
   "source": [
    "#creating trigrams\n",
    "trigram_converter = CountVectorizer(ngram_range=(3,3), token_pattern='(?u)\\\\b\\\\w+\\\\b')\n",
    "x3 = trigram_converter.fit_transform([train_text])\n",
    "trigram = trigram_converter.get_feature_names_out()\n",
    "trigram"
   ]
  },
  {
   "cell_type": "markdown",
   "id": "7d9bc618",
   "metadata": {
    "id": "7d9bc618"
   },
   "source": [
    "## Task 1.2 Create your own naive tokenization method (whitespace-based), and apply it to the text given in the task 1.1\n",
    "note: 1. do not use the existing togkenization methods given by NLP; 2. split the words by whitespace character, the output is more likely as the unigram; 3. no repeating elements in the output."
   ]
  },
  {
   "cell_type": "code",
   "execution_count": 21,
   "id": "2c40457a",
   "metadata": {
    "colab": {
     "base_uri": "https://localhost:8080/",
     "height": 1856
    },
    "id": "2c40457a",
    "outputId": "3e31dd83-84cc-41de-9742-6fc09fe8c0e9"
   },
   "outputs": [
    {
     "data": {
      "text/plain": [
       "['so',\n",
       " 'when',\n",
       " 'go',\n",
       " 'it.',\n",
       " 'complete.It',\n",
       " 'an',\n",
       " 'came',\n",
       " 'My',\n",
       " 'vegetable',\n",
       " 'me',\n",
       " 'to',\n",
       " 'for',\n",
       " 'wait',\n",
       " 'yourself',\n",
       " 'and',\n",
       " 'their',\n",
       " 'here',\n",
       " 'tasty',\n",
       " 'white',\n",
       " 'only',\n",
       " 'sitting',\n",
       " 'place',\n",
       " 'fills',\n",
       " 'skillet',\n",
       " 'excellent',\n",
       " 'waitress',\n",
       " 'amazing',\n",
       " 'favor',\n",
       " 'delicious.It',\n",
       " 'up',\n",
       " 'earlier',\n",
       " 'perfect',\n",
       " 'weather',\n",
       " 'food',\n",
       " 'took',\n",
       " 'pieces',\n",
       " 'bread',\n",
       " 'garden',\n",
       " 'amazing.While',\n",
       " 'pretty',\n",
       " 'EVERYTHING',\n",
       " \"I've\",\n",
       " 'menu',\n",
       " 'excellent,',\n",
       " 'ever',\n",
       " 'sure',\n",
       " 'ingredients',\n",
       " 'scrambled',\n",
       " 'excellent.',\n",
       " 'the',\n",
       " 'them',\n",
       " 'Mary.',\n",
       " 'it',\n",
       " 'outside',\n",
       " 'blend',\n",
       " 'absolute',\n",
       " 'they',\n",
       " 'grounds',\n",
       " 'quickly',\n",
       " 'use',\n",
       " 'get',\n",
       " \"had.I'm\",\n",
       " 'I',\n",
       " 'truffle',\n",
       " 'The',\n",
       " 'semi-busy',\n",
       " 'looked',\n",
       " 'simply',\n",
       " 'a',\n",
       " 'from',\n",
       " 'made',\n",
       " 'back!',\n",
       " 'eggs',\n",
       " 'had.Anyway,',\n",
       " 'It',\n",
       " 'like',\n",
       " 'was',\n",
       " 'morning.',\n",
       " 'with',\n",
       " 'meal',\n",
       " 'pleasure.Our',\n",
       " 'looks',\n",
       " 'of',\n",
       " 'birthday',\n",
       " 'which',\n",
       " 'phenomenal',\n",
       " 'Bloody',\n",
       " 'best',\n",
       " 'fresh',\n",
       " 'my',\n",
       " 'order',\n",
       " 'better.Do',\n",
       " '\"toast\"',\n",
       " 'griddled',\n",
       " 'you',\n",
       " 'absolutely',\n",
       " 'Saturday',\n",
       " 'breakfast',\n",
       " 'overlooking',\n",
       " 'wife',\n",
       " 'on',\n",
       " 'had',\n",
       " \"can't\",\n",
       " 'arrived',\n",
       " '2',\n",
       " 'our']"
      ]
     },
     "execution_count": 21,
     "metadata": {},
     "output_type": "execute_result"
    }
   ],
   "source": [
    "# write you code here\n",
    "\n",
    "# naive tokenization method (whitespace-based)\n",
    "# split the words based on white space\n",
    "#1. do not use the existing togkenization methods given by NLP\n",
    "train_text_whitespace = train_text.replace('\\n','')\n",
    "# getting unique unigrams\n",
    "train_text_whitespace = list(set(train_text_whitespace.split(' ')))\n",
    "# removing space\n",
    "train_text_whitespace.remove('')\n",
    "\n",
    "# printing the output without repetation of words\n",
    "train_text_whitespace"
   ]
  },
  {
   "cell_type": "markdown",
   "id": "e0bb5c1b",
   "metadata": {
    "id": "e0bb5c1b"
   },
   "source": [
    "## **Question 1**. Given a sentence \"He likes cat\". In unigram representation, it could be \"He\", \"likes\", \"cat\". In bigram representation, it could be \"He likes\", \"likes cat\". In trigram representation, it could be \"He likes cat\". Explain why the storage and computation cost increase with the growth of n in n-gram methods."
   ]
  },
  {
   "cell_type": "markdown",
   "id": "83eb139d",
   "metadata": {
    "id": "83eb139d"
   },
   "source": [
    "Answer to Q1: type your answer here:\n",
    "\n",
    "In N-gram language models the n represents the number of consecutive words or tokens evaluated as a unit.\n",
    "\n",
    "By evaluating the frequency of these n-length sequences in a text corpus, the N-gram representation captures features of language.\n",
    "\n",
    "When the value of 'n' in N-gram models increases, so does the storage and computing needs that in turn increase the cost. Because of the larger vocabulary size, increased memory requirements, higher computational complexity, and data sparsity difficulties, the storage and computation costs of N-gram techniques rise as 'n' value incraeses.\n",
    "\n",
    "\n"
   ]
  },
  {
   "cell_type": "markdown",
   "id": "3f07a909",
   "metadata": {
    "id": "3f07a909"
   },
   "source": [
    "---"
   ]
  },
  {
   "cell_type": "markdown",
   "id": "4ee9bd1f",
   "metadata": {
    "id": "4ee9bd1f"
   },
   "source": [
    "## (Tutorial) Stemming and Lemmatization"
   ]
  },
  {
   "cell_type": "code",
   "execution_count": 22,
   "id": "0c0ac9b0",
   "metadata": {
    "colab": {
     "base_uri": "https://localhost:8080/",
     "height": 121
    },
    "id": "0c0ac9b0",
    "outputId": "e5a1a740-c82b-4654-c02a-e075c81fb192"
   },
   "outputs": [
    {
     "name": "stdout",
     "output_type": "stream",
     "text": [
      "'flowers' after stemming: flower\n",
      "'zeroes' after stemming: zero\n",
      "'better' after stemming: better\n",
      "'sixties' after stemming: sixti\n",
      "'goes' after stemming: goe\n",
      "'go' after stemming: go\n"
     ]
    }
   ],
   "source": [
    "# import PorterStemmer class form nltk.stem.porter module\n",
    "from nltk.stem.porter import PorterStemmer\n",
    "stemmer = PorterStemmer()\n",
    "\n",
    "stem = stemmer.stem('flowers')\n",
    "print(f\"'flowers' after stemming: {stem}\")\n",
    "\n",
    "stem = stemmer.stem('zeroes')\n",
    "print(f\"'zeroes' after stemming: {stem}\")\n",
    "\n",
    "stem = stemmer.stem('better')\n",
    "print(f\"'better' after stemming: {stem}\")\n",
    "\n",
    "stem = stemmer.stem('sixties')\n",
    "print(f\"'sixties' after stemming: {stem}\")\n",
    "\n",
    "stem = stemmer.stem('goes')\n",
    "print(f\"'goes' after stemming: {stem}\")\n",
    "\n",
    "stem = stemmer.stem('go')\n",
    "print(f\"'go' after stemming: {stem}\")"
   ]
  },
  {
   "cell_type": "code",
   "execution_count": 23,
   "id": "TKvf9oXrupvm",
   "metadata": {
    "colab": {
     "base_uri": "https://localhost:8080/",
     "height": 52
    },
    "id": "TKvf9oXrupvm",
    "outputId": "cdbe1c6a-ad07-4b28-bb8d-8ba612d8cc47"
   },
   "outputs": [
    {
     "name": "stderr",
     "output_type": "stream",
     "text": [
      "[nltk_data] Downloading package wordnet to\n",
      "[nltk_data]     C:\\Users\\badda\\AppData\\Roaming\\nltk_data...\n",
      "[nltk_data]   Package wordnet is already up-to-date!\n"
     ]
    },
    {
     "data": {
      "text/plain": [
       "True"
      ]
     },
     "execution_count": 23,
     "metadata": {},
     "output_type": "execute_result"
    }
   ],
   "source": [
    "import nltk\n",
    "nltk.download('wordnet')"
   ]
  },
  {
   "cell_type": "code",
   "execution_count": 24,
   "id": "0c4d270f",
   "metadata": {
    "colab": {
     "base_uri": "https://localhost:8080/",
     "height": 191
    },
    "id": "0c4d270f",
    "outputId": "2d61d4b2-3516-4b94-cec4-ab342499ec4f"
   },
   "outputs": [
    {
     "name": "stdout",
     "output_type": "stream",
     "text": [
      "'flowers' after lemmatization: flower\n",
      "'zeros' after lemmatization: zero\n",
      "'better' after lemmatization: better\n",
      "'sixties' after lemmatization: sixty\n",
      "'goes' after lemmatization: go\n",
      "'go' after lemmatization: go\n",
      "\n",
      "\n",
      "\n",
      "'better' (as an adjective) after lemmatization: good\n"
     ]
    }
   ],
   "source": [
    "# import lemmatizer class from nltk.stem module\n",
    "from nltk.stem import WordNetLemmatizer\n",
    "lemmatizer = WordNetLemmatizer()\n",
    "\n",
    "lemma = lemmatizer.lemmatize('flowers')\n",
    "print(f\"'flowers' after lemmatization: {lemma}\")\n",
    "\n",
    "lemma = lemmatizer.lemmatize('zeros')\n",
    "print(f\"'zeros' after lemmatization: {lemma}\")\n",
    "\n",
    "lemma = lemmatizer.lemmatize('better')\n",
    "print(f\"'better' after lemmatization: {lemma}\")\n",
    "\n",
    "lemma = lemmatizer.lemmatize('sixties')\n",
    "print(f\"'sixties' after lemmatization: {lemma}\")\n",
    "\n",
    "lemma = lemmatizer.lemmatize('goes')\n",
    "print(f\"'goes' after lemmatization: {lemma}\")\n",
    "\n",
    "lemma = lemmatizer.lemmatize('go')\n",
    "print(f\"'go' after lemmatization: {lemma}\")\n",
    "\n",
    "print(\"\\n\\n\")\n",
    "lemma = lemmatizer.lemmatize('better', pos='a')   # 'a' denoted ADJECTIVE part-of-speech\n",
    "print(f\"'better' (as an adjective) after lemmatization: {lemma}\")"
   ]
  },
  {
   "cell_type": "markdown",
   "id": "dc7f2000",
   "metadata": {
    "id": "dc7f2000"
   },
   "source": [
    "## Task 2. Text filtering for cleaner feature\n",
    "1. clean the text used in the task 1; 2. remove all punctuations; 3. convert all characters to their lowercase; 4. remove all words in \"stopwords\"; 5. remove all relatively meaningless words like \" 've \", \" 's \", etc. 6. after finishing the above operations, apply stemming and lemmatization to the cleaned text respectively."
   ]
  },
  {
   "cell_type": "code",
   "execution_count": 25,
   "id": "df6ce9d4",
   "metadata": {
    "colab": {
     "base_uri": "https://localhost:8080/",
     "height": 138
    },
    "id": "df6ce9d4",
    "outputId": "294e90cf-25d8-4cc3-9623-260bc7e1e727"
   },
   "outputs": [
    {
     "name": "stderr",
     "output_type": "stream",
     "text": [
      "[nltk_data] Downloading package stopwords to\n",
      "[nltk_data]     C:\\Users\\badda\\AppData\\Roaming\\nltk_data...\n",
      "[nltk_data]   Package stopwords is already up-to-date!\n",
      "[nltk_data] Downloading package punkt to\n",
      "[nltk_data]     C:\\Users\\badda\\AppData\\Roaming\\nltk_data...\n",
      "[nltk_data]   Package punkt is already up-to-date!\n",
      "[nltk_data] Downloading package words to\n",
      "[nltk_data]     C:\\Users\\badda\\AppData\\Roaming\\nltk_data...\n",
      "[nltk_data]   Package words is already up-to-date!\n"
     ]
    },
    {
     "data": {
      "text/plain": [
       "True"
      ]
     },
     "execution_count": 25,
     "metadata": {},
     "output_type": "execute_result"
    }
   ],
   "source": [
    "# write your code here\n",
    "\n",
    "import nltk\n",
    "nltk.download('stopwords')\n",
    "nltk.download('punkt')\n",
    "nltk.download('words')"
   ]
  },
  {
   "cell_type": "code",
   "execution_count": 26,
   "id": "fa36dced",
   "metadata": {
    "colab": {
     "base_uri": "https://localhost:8080/",
     "height": 89
    },
    "id": "fa36dced",
    "outputId": "c54ee5fa-229c-4347-f251-414a74f81714"
   },
   "outputs": [
    {
     "name": "stdout",
     "output_type": "stream",
     "text": [
      "wife took birthday breakfast excel weather perfect made sit outsid ground absolut pleasur waitress excel food quickli morn like place pretti quickli get better favor get bloodi mari phenomen simpli best ever pretti sure use garden blend fresh order amaz everyth menu excel white truffl veget skillet tasti delici came 2 bread amaz absolut made meal complet best toast ever anyway cant wait go back\n",
      "++++++++++++++++++++++++++++++++++++++++++++++++++++++++++++++++++++++++++++++++++++++++++++++++++++++++++++++++++++++\n",
      "wife took birthday breakfast excellent weather perfect made sitting outside ground absolute pleasure waitress excellent food quickly morning like place pretty quickly get better favor get bloody mary phenomenal simply best ever pretty sure use garden blend fresh order amazing everything menu excellent white truffle vegetable skillet tasty delicious came 2 bread amazing absolutely made meal complete best toast ever anyway cant wait go back\n"
     ]
    }
   ],
   "source": [
    "# write your code here\n",
    "# importing libraries\n",
    "import re\n",
    "from nltk.corpus import stopwords\n",
    "\n",
    "\n",
    "words = set(nltk.corpus.words.words())\n",
    "\n",
    "train_text_filtered = train_text\n",
    "# removing all the punctuations\n",
    "train_text_filtered = re.sub(r'[^\\w\\s]','',train_text_filtered)\n",
    "\n",
    "#converting all characters to lowercase\n",
    "train_text_filtered = train_text_filtered.lower()\n",
    "\n",
    "#removing the stopwords\n",
    "train_text_filtered = ' '.join([word for word in train_text_filtered.split() if word not in stopwords.words(\"english\")])\n",
    "\n",
    "# removing possesive pronouns\n",
    "train_text_filtered = train_text_filtered.replace(\"'s\", \"\")\n",
    "train_text_filtered = train_text_filtered.replace(\"'ve\", \"\")\n",
    "\n",
    "# removing meaningless words\n",
    "train_text_filtered = \" \".join(w for w in nltk.wordpunct_tokenize(train_text_filtered) if w.lower() in words or not w.isalpha())\n",
    "\n",
    "# stemming sentence\n",
    "stemmed_sentence = ' '.join(stemmer.stem(token) for token in nltk.word_tokenize(train_text_filtered))\n",
    "print(stemmed_sentence)\n",
    "\n",
    "print('++++++++++++++++++++++++++++++++++++++++++++++++++++++++++++++++++++++++++++++++++++++++++++++++++++++++++++++++++++++')\n",
    "# lemmatizing sentence\n",
    "lematizing_sentence = ' '.join(lemmatizer.lemmatize(token) for token in nltk.word_tokenize(train_text_filtered))\n",
    "print(lematizing_sentence)"
   ]
  },
  {
   "cell_type": "markdown",
   "id": "79309e44",
   "metadata": {
    "id": "79309e44"
   },
   "source": [
    "## **Question 2.** Based on the examples and the output of your code, which one has the better performance, Stemming or Lemmatization? Try to analyze it."
   ]
  },
  {
   "cell_type": "markdown",
   "id": "104ee6dd",
   "metadata": {
    "id": "104ee6dd"
   },
   "source": [
    "**Answer to Q2**:\n",
    "\n",
    "Stemming may be a useful strategy if the goal is to simplify analysis by eliminating word forms and condensing frequencies. Lemmatization is often preferred when keeping semantic meaning and precise word forms is critical for the task at hand.\n",
    "\n",
    "According to my findings, lemmatization outperforms Stemming methods. By evaluating chunks of speech and producing true, dictionary terms, lemmatization yields superior outcomes. As a result, lemmatization takes longer and is more difficult than stemming.Lemmatization is more precise than stemming.\n",
    "\n",
    "When we go through the outputs from the above code, we can simply understand how stemming and lemmatization are different and just by reading the output lemmatization appears more meaningful and easy to understand whereas stemming is removing all the prefixes and is more confusing.\n",
    "\n",
    "Stemming is chosen when the context is not crucial, but lemmatization is favoured for context analysis.\n",
    "\n"
   ]
  },
  {
   "cell_type": "markdown",
   "id": "5b1d86bb",
   "metadata": {
    "id": "5b1d86bb"
   },
   "source": [
    "---"
   ]
  },
  {
   "cell_type": "markdown",
   "id": "67eaf458",
   "metadata": {
    "id": "67eaf458"
   },
   "source": [
    "## (Tutorial) PoS tagging and chunking"
   ]
  },
  {
   "cell_type": "markdown",
   "id": "fb32f14c",
   "metadata": {
    "id": "fb32f14c"
   },
   "source": [
    "**note:** you need to install spacy and textblob modules first for the following codes\n",
    "If you have problem to install spacy module, try to follow the instruction in the following link:\n",
    "https://stackoverflow.com/questions/66149878/e053-could-not-read-config-cfg-resumeparser\n",
    "If you have problem to use textblob module, try to install nltk libraries as shown in the following link:\n",
    "http://www.nltk.org/data.html"
   ]
  },
  {
   "cell_type": "code",
   "execution_count": 27,
   "id": "6bcfb6e6",
   "metadata": {
    "colab": {
     "base_uri": "https://localhost:8080/",
     "height": 34
    },
    "id": "6bcfb6e6",
    "outputId": "2de4c33a-84b5-4092-a040-4e15a2339e4c"
   },
   "outputs": [
    {
     "data": {
      "text/plain": [
       "(10, 8)"
      ]
     },
     "execution_count": 27,
     "metadata": {},
     "output_type": "execute_result"
    }
   ],
   "source": [
    "# Load the first 10 reviews\n",
    "f = open('yelp_academic_dataset_review.json')\n",
    "js = []\n",
    "for i in range(10):\n",
    "    js.append(json.loads(f.readline()))\n",
    "f.close()\n",
    "review_df = pd.DataFrame(js)\n",
    "review_df.shape"
   ]
  },
  {
   "cell_type": "code",
   "execution_count": 28,
   "id": "2f33058d",
   "metadata": {
    "colab": {
     "base_uri": "https://localhost:8080/",
     "height": 34
    },
    "id": "2f33058d",
    "outputId": "eb566ce6-d2c2-490a-a75d-2ded935a864a"
   },
   "outputs": [
    {
     "name": "stdout",
     "output_type": "stream",
     "text": [
      "3.3.1\n"
     ]
    }
   ],
   "source": [
    "import en_core_web_sm\n",
    "import spacy\n",
    "print(spacy.__version__)"
   ]
  },
  {
   "cell_type": "code",
   "execution_count": 29,
   "id": "589eb7b2",
   "metadata": {
    "colab": {
     "base_uri": "https://localhost:8080/",
     "height": 2828
    },
    "id": "589eb7b2",
    "outputId": "0013c2ff-e4fe-4786-c2da-9d54f1e6ac9d"
   },
   "outputs": [
    {
     "data": {
      "text/plain": [
       "{'lang': 'en',\n",
       " 'name': 'core_web_sm',\n",
       " 'version': '3.3.0',\n",
       " 'description': 'English pipeline optimized for CPU. Components: tok2vec, tagger, parser, senter, ner, attribute_ruler, lemmatizer.',\n",
       " 'author': 'Explosion',\n",
       " 'email': 'contact@explosion.ai',\n",
       " 'url': 'https://explosion.ai',\n",
       " 'license': 'MIT',\n",
       " 'spacy_version': '>=3.3.0.dev0,<3.4.0',\n",
       " 'spacy_git_version': '849bef2de',\n",
       " 'vectors': {'width': 0, 'vectors': 0, 'keys': 0, 'name': None},\n",
       " 'labels': {'tok2vec': [],\n",
       "  'tagger': ['$',\n",
       "   \"''\",\n",
       "   ',',\n",
       "   '-LRB-',\n",
       "   '-RRB-',\n",
       "   '.',\n",
       "   ':',\n",
       "   'ADD',\n",
       "   'AFX',\n",
       "   'CC',\n",
       "   'CD',\n",
       "   'DT',\n",
       "   'EX',\n",
       "   'FW',\n",
       "   'HYPH',\n",
       "   'IN',\n",
       "   'JJ',\n",
       "   'JJR',\n",
       "   'JJS',\n",
       "   'LS',\n",
       "   'MD',\n",
       "   'NFP',\n",
       "   'NN',\n",
       "   'NNP',\n",
       "   'NNPS',\n",
       "   'NNS',\n",
       "   'PDT',\n",
       "   'POS',\n",
       "   'PRP',\n",
       "   'PRP$',\n",
       "   'RB',\n",
       "   'RBR',\n",
       "   'RBS',\n",
       "   'RP',\n",
       "   'SYM',\n",
       "   'TO',\n",
       "   'UH',\n",
       "   'VB',\n",
       "   'VBD',\n",
       "   'VBG',\n",
       "   'VBN',\n",
       "   'VBP',\n",
       "   'VBZ',\n",
       "   'WDT',\n",
       "   'WP',\n",
       "   'WP$',\n",
       "   'WRB',\n",
       "   'XX',\n",
       "   '``'],\n",
       "  'parser': ['ROOT',\n",
       "   'acl',\n",
       "   'acomp',\n",
       "   'advcl',\n",
       "   'advmod',\n",
       "   'agent',\n",
       "   'amod',\n",
       "   'appos',\n",
       "   'attr',\n",
       "   'aux',\n",
       "   'auxpass',\n",
       "   'case',\n",
       "   'cc',\n",
       "   'ccomp',\n",
       "   'compound',\n",
       "   'conj',\n",
       "   'csubj',\n",
       "   'csubjpass',\n",
       "   'dative',\n",
       "   'dep',\n",
       "   'det',\n",
       "   'dobj',\n",
       "   'expl',\n",
       "   'intj',\n",
       "   'mark',\n",
       "   'meta',\n",
       "   'neg',\n",
       "   'nmod',\n",
       "   'npadvmod',\n",
       "   'nsubj',\n",
       "   'nsubjpass',\n",
       "   'nummod',\n",
       "   'oprd',\n",
       "   'parataxis',\n",
       "   'pcomp',\n",
       "   'pobj',\n",
       "   'poss',\n",
       "   'preconj',\n",
       "   'predet',\n",
       "   'prep',\n",
       "   'prt',\n",
       "   'punct',\n",
       "   'quantmod',\n",
       "   'relcl',\n",
       "   'xcomp'],\n",
       "  'attribute_ruler': [],\n",
       "  'lemmatizer': [],\n",
       "  'ner': ['CARDINAL',\n",
       "   'DATE',\n",
       "   'EVENT',\n",
       "   'FAC',\n",
       "   'GPE',\n",
       "   'LANGUAGE',\n",
       "   'LAW',\n",
       "   'LOC',\n",
       "   'MONEY',\n",
       "   'NORP',\n",
       "   'ORDINAL',\n",
       "   'ORG',\n",
       "   'PERCENT',\n",
       "   'PERSON',\n",
       "   'PRODUCT',\n",
       "   'QUANTITY',\n",
       "   'TIME',\n",
       "   'WORK_OF_ART']},\n",
       " 'pipeline': ['tok2vec',\n",
       "  'tagger',\n",
       "  'parser',\n",
       "  'attribute_ruler',\n",
       "  'lemmatizer',\n",
       "  'ner'],\n",
       " 'components': ['tok2vec',\n",
       "  'tagger',\n",
       "  'parser',\n",
       "  'senter',\n",
       "  'attribute_ruler',\n",
       "  'lemmatizer',\n",
       "  'ner'],\n",
       " 'disabled': ['senter'],\n",
       " 'sources': [{'name': 'OntoNotes 5',\n",
       "   'url': 'https://catalog.ldc.upenn.edu/LDC2013T19',\n",
       "   'license': 'commercial (licensed by Explosion)',\n",
       "   'author': 'Ralph Weischedel, Martha Palmer, Mitchell Marcus, Eduard Hovy, Sameer Pradhan, Lance Ramshaw, Nianwen Xue, Ann Taylor, Jeff Kaufman, Michelle Franchini, Mohammed El-Bachouti, Robert Belvin, Ann Houston'},\n",
       "  {'name': 'ClearNLP Constituent-to-Dependency Conversion',\n",
       "   'url': 'https://github.com/clir/clearnlp-guidelines/blob/master/md/components/dependency_conversion.md',\n",
       "   'license': 'Citation provided for reference, no code packaged with model',\n",
       "   'author': 'Emory University'},\n",
       "  {'name': 'WordNet 3.0',\n",
       "   'url': 'https://wordnet.princeton.edu/',\n",
       "   'author': 'Princeton University',\n",
       "   'license': 'WordNet 3.0 License'}],\n",
       " 'requirements': [],\n",
       " 'source': 'C:\\\\Users\\\\badda\\\\anaconda3\\\\lib\\\\site-packages\\\\en_core_web_sm'}"
      ]
     },
     "execution_count": 29,
     "metadata": {},
     "output_type": "execute_result"
    }
   ],
   "source": [
    "spacy.info('en_core_web_sm')"
   ]
  },
  {
   "cell_type": "code",
   "execution_count": 30,
   "id": "e21fc5d1",
   "metadata": {
    "colab": {
     "base_uri": "https://localhost:8080/",
     "height": 34
    },
    "id": "e21fc5d1",
    "outputId": "7cfe28ea-27ed-4e5d-970e-eb8594c02890"
   },
   "outputs": [
    {
     "data": {
      "text/plain": [
       "pandas.core.series.Series"
      ]
     },
     "execution_count": 30,
     "metadata": {},
     "output_type": "execute_result"
    }
   ],
   "source": [
    "nlp = spacy.load(\"en_core_web_sm\")\n",
    "doc_df = review_df['text'].apply(nlp)\n",
    "type(doc_df)"
   ]
  },
  {
   "cell_type": "code",
   "execution_count": 31,
   "id": "39951f32",
   "metadata": {
    "colab": {
     "base_uri": "https://localhost:8080/",
     "height": 34
    },
    "id": "39951f32",
    "outputId": "4cf6ca84-d89f-4f4f-fcd8-91f92ec2d1b8"
   },
   "outputs": [
    {
     "data": {
      "text/plain": [
       "spacy.tokens.doc.Doc"
      ]
     },
     "execution_count": 31,
     "metadata": {},
     "output_type": "execute_result"
    }
   ],
   "source": [
    "type(doc_df[0])"
   ]
  },
  {
   "cell_type": "code",
   "execution_count": 32,
   "id": "61da0362",
   "metadata": {
    "colab": {
     "base_uri": "https://localhost:8080/",
     "height": 156
    },
    "id": "61da0362",
    "outputId": "143494da-184d-4b6a-8e2d-52baab37524c"
   },
   "outputs": [
    {
     "data": {
      "text/plain": [
       "General Manager Scott Petello is a good egg!!! Not to go into detail, but let me assure you if you have any issues (albeit rare) speak with Scott and treat the guy with some respect as you state your case and I'd be surprised if you don't walk out totally satisfied as I just did. Like I always say..... \"Mistakes are inevitable, it's how we recover from them that is important\"!!!\n",
       "\n",
       "Thanks to Scott and his awesome staff. You've got a customer for life!! .......... :^)"
      ]
     },
     "execution_count": 32,
     "metadata": {},
     "output_type": "execute_result"
    }
   ],
   "source": [
    "doc_df[4]"
   ]
  },
  {
   "cell_type": "code",
   "execution_count": 33,
   "id": "67b329e8",
   "metadata": {
    "colab": {
     "base_uri": "https://localhost:8080/",
     "height": 1960
    },
    "id": "67b329e8",
    "outputId": "e7434560-6ae3-4ce8-de6f-0d36c92bae30"
   },
   "outputs": [
    {
     "name": "stdout",
     "output_type": "stream",
     "text": [
      "General PROPN NNP\n",
      "Manager PROPN NNP\n",
      "Scott PROPN NNP\n",
      "Petello PROPN NNP\n",
      "is AUX VBZ\n",
      "a DET DT\n",
      "good ADJ JJ\n",
      "egg NOUN NN\n",
      "! PUNCT .\n",
      "! PUNCT .\n",
      "! PUNCT .\n",
      "Not PART RB\n",
      "to PART TO\n",
      "go VERB VB\n",
      "into ADP IN\n",
      "detail NOUN NN\n",
      ", PUNCT ,\n",
      "but CCONJ CC\n",
      "let VERB VB\n",
      "me PRON PRP\n",
      "assure VERB VB\n",
      "you PRON PRP\n",
      "if SCONJ IN\n",
      "you PRON PRP\n",
      "have VERB VBP\n",
      "any DET DT\n",
      "issues NOUN NNS\n",
      "( PUNCT -LRB-\n",
      "albeit SCONJ IN\n",
      "rare ADJ JJ\n",
      ") PUNCT -RRB-\n",
      "speak VERB VBP\n",
      "with ADP IN\n",
      "Scott PROPN NNP\n",
      "and CCONJ CC\n",
      "treat VERB VB\n",
      "the DET DT\n",
      "guy NOUN NN\n",
      "with ADP IN\n",
      "some DET DT\n",
      "respect NOUN NN\n",
      "as SCONJ IN\n",
      "you PRON PRP\n",
      "state VERB VBP\n",
      "your PRON PRP$\n",
      "case NOUN NN\n",
      "and CCONJ CC\n",
      "I PRON PRP\n",
      "'d AUX MD\n",
      "be AUX VB\n",
      "surprised ADJ JJ\n",
      "if SCONJ IN\n",
      "you PRON PRP\n",
      "do AUX VBP\n",
      "n't PART RB\n",
      "walk VERB VB\n",
      "out ADV RB\n",
      "totally ADV RB\n",
      "satisfied ADJ JJ\n",
      "as SCONJ IN\n",
      "I PRON PRP\n",
      "just ADV RB\n",
      "did VERB VBD\n",
      ". PUNCT .\n",
      "Like INTJ UH\n",
      "I PRON PRP\n",
      "always ADV RB\n",
      "say VERB VBP\n",
      "..... PUNCT NFP\n",
      "\" PUNCT ``\n",
      "Mistakes NOUN NNS\n",
      "are AUX VBP\n",
      "inevitable ADJ JJ\n",
      ", PUNCT ,\n",
      "it PRON PRP\n",
      "'s AUX VBZ\n",
      "how SCONJ WRB\n",
      "we PRON PRP\n",
      "recover VERB VBP\n",
      "from ADP IN\n",
      "them PRON PRP\n",
      "that PRON WDT\n",
      "is AUX VBZ\n",
      "important ADJ JJ\n",
      "\" PUNCT ''\n",
      "! PUNCT .\n",
      "! PUNCT .\n",
      "! PUNCT .\n",
      "\n",
      "\n",
      " SPACE _SP\n",
      "Thanks NOUN NNS\n",
      "to ADP IN\n",
      "Scott PROPN NNP\n",
      "and CCONJ CC\n",
      "his PRON PRP$\n",
      "awesome ADJ JJ\n",
      "staff NOUN NN\n",
      ". PUNCT .\n",
      "You PRON PRP\n",
      "'ve AUX VBP\n",
      "got VERB VBN\n",
      "a DET DT\n",
      "customer NOUN NN\n",
      "for ADP IN\n",
      "life NOUN NN\n",
      "! PUNCT .\n",
      "! PUNCT .\n",
      ".......... PUNCT NFP\n",
      ": PUNCT :\n",
      "^ NOUN NNS\n",
      ") PUNCT -RRB-\n"
     ]
    }
   ],
   "source": [
    "for doc in doc_df[4]:\n",
    "    print(doc.text, doc.pos_, doc.tag_)"
   ]
  },
  {
   "cell_type": "code",
   "execution_count": 34,
   "id": "4aba17d5",
   "metadata": {
    "colab": {
     "base_uri": "https://localhost:8080/",
     "height": 54
    },
    "id": "4aba17d5",
    "outputId": "12867ece-adc3-4b7b-e14f-660b130b3657"
   },
   "outputs": [
    {
     "name": "stdout",
     "output_type": "stream",
     "text": [
      "[General Manager Scott Petello, a good egg, detail, me, you, you, any issues, Scott, the guy, some respect, you, your case, I, you, I, I, Mistakes, it, we, them, that, Scott, his awesome staff, You, a customer, life, :^]\n"
     ]
    }
   ],
   "source": [
    "# spaCy also does some basic noun chunking\n",
    "print([chunk for chunk in doc_df[4].noun_chunks])"
   ]
  },
  {
   "cell_type": "code",
   "execution_count": 37,
   "id": "413d718f",
   "metadata": {
    "colab": {
     "base_uri": "https://localhost:8080/",
     "height": 34
    },
    "id": "413d718f",
    "outputId": "13905ee3-7a1d-4536-aafb-a08cda4b8109"
   },
   "outputs": [
    {
     "data": {
      "text/plain": [
       "pandas.core.series.Series"
      ]
     },
     "execution_count": 37,
     "metadata": {},
     "output_type": "execute_result"
    }
   ],
   "source": [
    "# chunking in textblob\n",
    "\n",
    "from textblob import TextBlob\n",
    "blob_df = review_df['text'].apply(TextBlob)\n",
    "type(blob_df)"
   ]
  },
  {
   "cell_type": "code",
   "execution_count": 38,
   "id": "9dd9f4fc",
   "metadata": {
    "colab": {
     "base_uri": "https://localhost:8080/",
     "height": 34
    },
    "id": "9dd9f4fc",
    "outputId": "7bdc297c-8236-4da1-82cf-7a706154e079"
   },
   "outputs": [
    {
     "data": {
      "text/plain": [
       "textblob.blob.TextBlob"
      ]
     },
     "execution_count": 38,
     "metadata": {},
     "output_type": "execute_result"
    }
   ],
   "source": [
    "type(blob_df[4])"
   ]
  },
  {
   "cell_type": "code",
   "execution_count": 39,
   "id": "Sbb4tgXNvFzv",
   "metadata": {
    "colab": {
     "base_uri": "https://localhost:8080/",
     "height": 104
    },
    "id": "Sbb4tgXNvFzv",
    "outputId": "42ec2798-6b0d-4116-8f8b-02925cd19a61"
   },
   "outputs": [
    {
     "name": "stderr",
     "output_type": "stream",
     "text": [
      "[nltk_data] Downloading package averaged_perceptron_tagger to\n",
      "[nltk_data]     C:\\Users\\badda\\AppData\\Roaming\\nltk_data...\n",
      "[nltk_data]   Package averaged_perceptron_tagger is already up-to-\n",
      "[nltk_data]       date!\n"
     ]
    },
    {
     "data": {
      "text/plain": [
       "True"
      ]
     },
     "execution_count": 39,
     "metadata": {},
     "output_type": "execute_result"
    }
   ],
   "source": [
    "import nltk\n",
    "nltk.download('averaged_perceptron_tagger')"
   ]
  },
  {
   "cell_type": "code",
   "execution_count": 40,
   "id": "1900e5b6",
   "metadata": {
    "colab": {
     "base_uri": "https://localhost:8080/",
     "height": 1596
    },
    "id": "1900e5b6",
    "outputId": "e4f80241-217a-453f-f2ef-90e6dc79a897"
   },
   "outputs": [
    {
     "data": {
      "text/plain": [
       "[('General', 'NNP'),\n",
       " ('Manager', 'NNP'),\n",
       " ('Scott', 'NNP'),\n",
       " ('Petello', 'NNP'),\n",
       " ('is', 'VBZ'),\n",
       " ('a', 'DT'),\n",
       " ('good', 'JJ'),\n",
       " ('egg', 'NN'),\n",
       " ('Not', 'RB'),\n",
       " ('to', 'TO'),\n",
       " ('go', 'VB'),\n",
       " ('into', 'IN'),\n",
       " ('detail', 'NN'),\n",
       " ('but', 'CC'),\n",
       " ('let', 'VB'),\n",
       " ('me', 'PRP'),\n",
       " ('assure', 'VB'),\n",
       " ('you', 'PRP'),\n",
       " ('if', 'IN'),\n",
       " ('you', 'PRP'),\n",
       " ('have', 'VBP'),\n",
       " ('any', 'DT'),\n",
       " ('issues', 'NNS'),\n",
       " ('albeit', 'IN'),\n",
       " ('rare', 'NN'),\n",
       " ('speak', 'NN'),\n",
       " ('with', 'IN'),\n",
       " ('Scott', 'NNP'),\n",
       " ('and', 'CC'),\n",
       " ('treat', 'VB'),\n",
       " ('the', 'DT'),\n",
       " ('guy', 'NN'),\n",
       " ('with', 'IN'),\n",
       " ('some', 'DT'),\n",
       " ('respect', 'NN'),\n",
       " ('as', 'IN'),\n",
       " ('you', 'PRP'),\n",
       " ('state', 'NN'),\n",
       " ('your', 'PRP$'),\n",
       " ('case', 'NN'),\n",
       " ('and', 'CC'),\n",
       " ('I', 'PRP'),\n",
       " (\"'d\", 'MD'),\n",
       " ('be', 'VB'),\n",
       " ('surprised', 'VBN'),\n",
       " ('if', 'IN'),\n",
       " ('you', 'PRP'),\n",
       " ('do', 'VBP'),\n",
       " (\"n't\", 'RB'),\n",
       " ('walk', 'VB'),\n",
       " ('out', 'RP'),\n",
       " ('totally', 'RB'),\n",
       " ('satisfied', 'JJ'),\n",
       " ('as', 'IN'),\n",
       " ('I', 'PRP'),\n",
       " ('just', 'RB'),\n",
       " ('did', 'VBD'),\n",
       " ('Like', 'IN'),\n",
       " ('I', 'PRP'),\n",
       " ('always', 'RB'),\n",
       " ('say', 'VBP'),\n",
       " ('.....', 'JJ'),\n",
       " ('Mistakes', 'NNS'),\n",
       " ('are', 'VBP'),\n",
       " ('inevitable', 'JJ'),\n",
       " ('it', 'PRP'),\n",
       " (\"'s\", 'VBZ'),\n",
       " ('how', 'WRB'),\n",
       " ('we', 'PRP'),\n",
       " ('recover', 'VBP'),\n",
       " ('from', 'IN'),\n",
       " ('them', 'PRP'),\n",
       " ('that', 'WDT'),\n",
       " ('is', 'VBZ'),\n",
       " ('important', 'JJ'),\n",
       " ('Thanks', 'NNS'),\n",
       " ('to', 'TO'),\n",
       " ('Scott', 'NNP'),\n",
       " ('and', 'CC'),\n",
       " ('his', 'PRP$'),\n",
       " ('awesome', 'JJ'),\n",
       " ('staff', 'NN'),\n",
       " ('You', 'PRP'),\n",
       " (\"'ve\", 'VBP'),\n",
       " ('got', 'VBN'),\n",
       " ('a', 'DT'),\n",
       " ('customer', 'NN'),\n",
       " ('for', 'IN'),\n",
       " ('life', 'NN'),\n",
       " ('..........', 'NN'),\n",
       " ('^', 'NN')]"
      ]
     },
     "execution_count": 40,
     "metadata": {},
     "output_type": "execute_result"
    }
   ],
   "source": [
    "blob_df[4].tags"
   ]
  },
  {
   "cell_type": "code",
   "execution_count": 41,
   "id": "0e138c24",
   "metadata": {
    "colab": {
     "base_uri": "https://localhost:8080/",
     "height": 54
    },
    "id": "0e138c24",
    "outputId": "0353688c-5f1a-4706-8dcf-609301a0e540"
   },
   "outputs": [
    {
     "name": "stdout",
     "output_type": "stream",
     "text": [
      "['general manager', 'scott petello', 'good egg', 'scott', \"n't walk\", 'mistakes', 'thanks', 'scott', 'awesome staff']\n"
     ]
    }
   ],
   "source": [
    "# textblob can do some basic noun chunking\n",
    "print([np for np in blob_df[4].noun_phrases])"
   ]
  },
  {
   "cell_type": "markdown",
   "id": "04c5f7f2",
   "metadata": {
    "id": "04c5f7f2"
   },
   "source": [
    "## Task 3. Apply spacy and textblob chunking to the text used in tesk 1 respectively, and output the noun phrase chunking results"
   ]
  },
  {
   "cell_type": "code",
   "execution_count": 42,
   "id": "c36282dc",
   "metadata": {
    "colab": {
     "base_uri": "https://localhost:8080/",
     "height": 138
    },
    "id": "c36282dc",
    "outputId": "4f7776c4-38b5-4213-8b29-872ba20181f4"
   },
   "outputs": [
    {
     "name": "stderr",
     "output_type": "stream",
     "text": [
      "[nltk_data] Downloading package averaged_perceptron_tagger to\n",
      "[nltk_data]     C:\\Users\\badda\\AppData\\Roaming\\nltk_data...\n",
      "[nltk_data]   Package averaged_perceptron_tagger is already up-to-\n",
      "[nltk_data]       date!\n",
      "[nltk_data] Downloading package brown to\n",
      "[nltk_data]     C:\\Users\\badda\\AppData\\Roaming\\nltk_data...\n",
      "[nltk_data]   Package brown is already up-to-date!\n"
     ]
    },
    {
     "data": {
      "text/plain": [
       "True"
      ]
     },
     "execution_count": 42,
     "metadata": {},
     "output_type": "execute_result"
    }
   ],
   "source": [
    "# write your code here\n",
    "import pandas as pd\n",
    "import spacy\n",
    "import nltk\n",
    "nltk.download('averaged_perceptron_tagger')\n",
    "nltk.download('brown')"
   ]
  },
  {
   "cell_type": "code",
   "execution_count": 43,
   "id": "ynQPREflKqo6",
   "metadata": {
    "colab": {
     "base_uri": "https://localhost:8080/",
     "height": 52
    },
    "id": "ynQPREflKqo6",
    "outputId": "2fdf5e28-2efc-4c3c-b1ee-1057a2bdbf85"
   },
   "outputs": [
    {
     "data": {
      "text/plain": [
       "0    (My, wife, took, me, here, on, my, birthday, f...\n",
       "dtype: object"
      ]
     },
     "execution_count": 43,
     "metadata": {},
     "output_type": "execute_result"
    }
   ],
   "source": [
    "nlp = spacy.load(\"en_core_web_sm\")\n",
    "spacy_df = pd.Series(train_text).apply(nlp)\n",
    "spacy_df"
   ]
  },
  {
   "cell_type": "code",
   "execution_count": 44,
   "id": "0FEwi0x1Mk1B",
   "metadata": {
    "colab": {
     "base_uri": "https://localhost:8080/",
     "height": 34
    },
    "id": "0FEwi0x1Mk1B",
    "outputId": "30bc1839-aa14-4ef2-dd81-14bfc42df329"
   },
   "outputs": [
    {
     "data": {
      "text/plain": [
       "spacy.tokens.doc.Doc"
      ]
     },
     "execution_count": 44,
     "metadata": {},
     "output_type": "execute_result"
    }
   ],
   "source": [
    "type(spacy_df[0])"
   ]
  },
  {
   "cell_type": "code",
   "execution_count": 45,
   "id": "6Cdent74Ltqb",
   "metadata": {
    "colab": {
     "base_uri": "https://localhost:8080/",
     "height": 347
    },
    "id": "6Cdent74Ltqb",
    "outputId": "7f21282f-079c-487f-dda2-d0e7403eb610"
   },
   "outputs": [
    {
     "data": {
      "text/plain": [
       "My wife took me here on my birthday for breakfast and it was excellent.  The weather was perfect which made sitting outside overlooking their grounds an absolute pleasure.\n",
       "Our waitress was excellent and our food arrived quickly on the semi-busy Saturday morning.  It looked like the place fills up pretty quickly so the earlier you get here the better.\n",
       "\n",
       "Do yourself a favor and get their Bloody Mary.  It was phenomenal and simply the best I've ever had.\n",
       "I'm pretty sure they only use ingredients from their garden and blend them fresh when you order it.  It was amazing.\n",
       "\n",
       "While EVERYTHING on the menu looks excellent, I had the white truffle scrambled eggs vegetable skillet and it was tasty and delicious.\n",
       "It came with 2 pieces of their griddled bread with was amazing and it absolutely made the meal complete.\n",
       "It was the best \"toast\" I've ever had.\n",
       "\n",
       "Anyway, I can't wait to go back!"
      ]
     },
     "execution_count": 45,
     "metadata": {},
     "output_type": "execute_result"
    }
   ],
   "source": [
    "spacy_df[0]"
   ]
  },
  {
   "cell_type": "code",
   "execution_count": 46,
   "id": "gOUyBxzTTQCp",
   "metadata": {
    "colab": {
     "base_uri": "https://localhost:8080/",
     "height": 3452
    },
    "id": "gOUyBxzTTQCp",
    "outputId": "4b03e54b-3274-4d23-889e-b734899a16a7"
   },
   "outputs": [
    {
     "name": "stdout",
     "output_type": "stream",
     "text": [
      "My PRON PRP$\n",
      "wife NOUN NN\n",
      "took VERB VBD\n",
      "me PRON PRP\n",
      "here ADV RB\n",
      "on ADP IN\n",
      "my PRON PRP$\n",
      "birthday NOUN NN\n",
      "for ADP IN\n",
      "breakfast NOUN NN\n",
      "and CCONJ CC\n",
      "it PRON PRP\n",
      "was AUX VBD\n",
      "excellent ADJ JJ\n",
      ". PUNCT .\n",
      "  SPACE _SP\n",
      "The DET DT\n",
      "weather NOUN NN\n",
      "was AUX VBD\n",
      "perfect ADJ JJ\n",
      "which PRON WDT\n",
      "made VERB VBD\n",
      "sitting VERB VBG\n",
      "outside ADP IN\n",
      "overlooking VERB VBG\n",
      "their PRON PRP$\n",
      "grounds NOUN NNS\n",
      "an DET DT\n",
      "absolute ADJ JJ\n",
      "pleasure NOUN NN\n",
      ". PUNCT .\n",
      "\n",
      " SPACE _SP\n",
      "Our PRON PRP$\n",
      "waitress NOUN NN\n",
      "was AUX VBD\n",
      "excellent ADJ JJ\n",
      "and CCONJ CC\n",
      "our PRON PRP$\n",
      "food NOUN NN\n",
      "arrived VERB VBD\n",
      "quickly ADV RB\n",
      "on ADP IN\n",
      "the DET DT\n",
      "semi ADJ JJ\n",
      "- ADJ JJ\n",
      "busy ADJ JJ\n",
      "Saturday PROPN NNP\n",
      "morning NOUN NN\n",
      ". PUNCT .\n",
      "  SPACE _SP\n",
      "It PRON PRP\n",
      "looked VERB VBD\n",
      "like SCONJ IN\n",
      "the DET DT\n",
      "place NOUN NN\n",
      "fills VERB VBZ\n",
      "up ADP RP\n",
      "pretty ADV RB\n",
      "quickly ADV RB\n",
      "so ADV RB\n",
      "the PRON DT\n",
      "earlier ADV RBR\n",
      "you PRON PRP\n",
      "get VERB VBP\n",
      "here ADV RB\n",
      "the PRON DT\n",
      "better ADJ JJR\n",
      ". PUNCT .\n",
      "\n",
      "\n",
      " SPACE _SP\n",
      "Do VERB VBP\n",
      "yourself PRON PRP\n",
      "a DET DT\n",
      "favor NOUN NN\n",
      "and CCONJ CC\n",
      "get VERB VB\n",
      "their PRON PRP$\n",
      "Bloody PROPN NNP\n",
      "Mary PROPN NNP\n",
      ". PUNCT .\n",
      "  SPACE _SP\n",
      "It PRON PRP\n",
      "was AUX VBD\n",
      "phenomenal ADJ JJ\n",
      "and CCONJ CC\n",
      "simply ADV RB\n",
      "the DET DT\n",
      "best ADJ JJS\n",
      "I PRON PRP\n",
      "'ve AUX VBP\n",
      "ever ADV RB\n",
      "had VERB VBN\n",
      ". PUNCT .\n",
      "\n",
      " SPACE _SP\n",
      "I PRON PRP\n",
      "'m AUX VBP\n",
      "pretty ADV RB\n",
      "sure ADJ JJ\n",
      "they PRON PRP\n",
      "only ADV RB\n",
      "use VERB VBP\n",
      "ingredients NOUN NNS\n",
      "from ADP IN\n",
      "their PRON PRP$\n",
      "garden NOUN NN\n",
      "and CCONJ CC\n",
      "blend VERB VB\n",
      "them PRON PRP\n",
      "fresh ADJ JJ\n",
      "when SCONJ WRB\n",
      "you PRON PRP\n",
      "order VERB VBP\n",
      "it PRON PRP\n",
      ". PUNCT .\n",
      "  SPACE _SP\n",
      "It PRON PRP\n",
      "was AUX VBD\n",
      "amazing ADJ JJ\n",
      ". PUNCT .\n",
      "\n",
      "\n",
      " SPACE _SP\n",
      "While SCONJ IN\n",
      "EVERYTHING PRON NN\n",
      "on ADP IN\n",
      "the DET DT\n",
      "menu NOUN NN\n",
      "looks VERB VBZ\n",
      "excellent ADJ JJ\n",
      ", PUNCT ,\n",
      "I PRON PRP\n",
      "had VERB VBD\n",
      "the DET DT\n",
      "white ADJ JJ\n",
      "truffle NOUN NN\n",
      "scrambled VERB VBN\n",
      "eggs NOUN NNS\n",
      "vegetable NOUN NN\n",
      "skillet NOUN NN\n",
      "and CCONJ CC\n",
      "it PRON PRP\n",
      "was AUX VBD\n",
      "tasty ADJ JJ\n",
      "and CCONJ CC\n",
      "delicious ADJ JJ\n",
      ". PUNCT .\n",
      "\n",
      " SPACE _SP\n",
      "It PRON PRP\n",
      "came VERB VBD\n",
      "with ADP IN\n",
      "2 NUM CD\n",
      "pieces NOUN NNS\n",
      "of ADP IN\n",
      "their PRON PRP$\n",
      "griddled VERB VBN\n",
      "bread NOUN NN\n",
      "with ADP IN\n",
      "was AUX VBD\n",
      "amazing ADJ JJ\n",
      "and CCONJ CC\n",
      "it PRON PRP\n",
      "absolutely ADV RB\n",
      "made VERB VBD\n",
      "the DET DT\n",
      "meal NOUN NN\n",
      "complete ADJ JJ\n",
      ". PUNCT .\n",
      "\n",
      " SPACE _SP\n",
      "It PRON PRP\n",
      "was AUX VBD\n",
      "the DET DT\n",
      "best ADJ JJS\n",
      "\" PUNCT ``\n",
      "toast NOUN NN\n",
      "\" PUNCT ''\n",
      "I PRON PRP\n",
      "'ve AUX VBP\n",
      "ever ADV RB\n",
      "had VERB VBN\n",
      ". PUNCT .\n",
      "\n",
      "\n",
      " SPACE _SP\n",
      "Anyway ADV RB\n",
      ", PUNCT ,\n",
      "I PRON PRP\n",
      "ca AUX MD\n",
      "n't PART RB\n",
      "wait VERB VB\n",
      "to PART TO\n",
      "go VERB VB\n",
      "back ADV RB\n",
      "! PUNCT .\n"
     ]
    }
   ],
   "source": [
    "for doc in spacy_df[0]:\n",
    "    print(doc.text, doc.pos_, doc.tag_)"
   ]
  },
  {
   "cell_type": "code",
   "execution_count": 47,
   "id": "Jy159QjKLxie",
   "metadata": {
    "colab": {
     "base_uri": "https://localhost:8080/",
     "height": 54
    },
    "id": "Jy159QjKLxie",
    "outputId": "00a8f362-ca93-4b68-d9b6-90a09cc31955"
   },
   "outputs": [
    {
     "name": "stdout",
     "output_type": "stream",
     "text": [
      "[My wife, me, my birthday, breakfast, it, The weather, which, their grounds, an absolute pleasure, Our waitress, our food, the semi-busy Saturday morning, It, the place, you, yourself, a favor, their Bloody Mary, It, I, I, they, ingredients, their garden, them, you, it, It, EVERYTHING, the menu, I, the white truffle scrambled eggs vegetable skillet, it, It, 2 pieces, their griddled bread, it, the meal, It, the best \"toast, I, I]\n"
     ]
    }
   ],
   "source": [
    "# spaCy also does some basic noun chunking\n",
    "print([chunk for chunk in spacy_df[0].noun_chunks])"
   ]
  },
  {
   "cell_type": "code",
   "execution_count": 48,
   "id": "YFYeKiS2L8dK",
   "metadata": {
    "colab": {
     "base_uri": "https://localhost:8080/",
     "height": 34
    },
    "id": "YFYeKiS2L8dK",
    "outputId": "ec2c09f1-56a6-47fc-81d9-f8d17e76231e"
   },
   "outputs": [
    {
     "data": {
      "text/plain": [
       "pandas.core.series.Series"
      ]
     },
     "execution_count": 48,
     "metadata": {},
     "output_type": "execute_result"
    }
   ],
   "source": [
    "# chunking in textblob\n",
    "\n",
    "from textblob import TextBlob\n",
    "blob_df = pd.Series(train_text).apply(TextBlob)\n",
    "type(blob_df)"
   ]
  },
  {
   "cell_type": "code",
   "execution_count": 50,
   "id": "y4GnxwbmL8l7",
   "metadata": {
    "colab": {
     "base_uri": "https://localhost:8080/",
     "height": 34
    },
    "id": "y4GnxwbmL8l7",
    "outputId": "8c1d4dba-7284-4b61-bc3b-ed7acfc45951"
   },
   "outputs": [
    {
     "data": {
      "text/plain": [
       "textblob.blob.TextBlob"
      ]
     },
     "execution_count": 50,
     "metadata": {},
     "output_type": "execute_result"
    }
   ],
   "source": [
    "type(blob_df[0])"
   ]
  },
  {
   "cell_type": "code",
   "execution_count": 51,
   "id": "E23jsCRvL8pd",
   "metadata": {
    "colab": {
     "base_uri": "https://localhost:8080/",
     "height": 104
    },
    "id": "E23jsCRvL8pd",
    "outputId": "a22c0e69-2e5b-47e3-d0cf-6fb420a7c366"
   },
   "outputs": [
    {
     "name": "stderr",
     "output_type": "stream",
     "text": [
      "[nltk_data] Downloading package averaged_perceptron_tagger to\n",
      "[nltk_data]     C:\\Users\\badda\\AppData\\Roaming\\nltk_data...\n",
      "[nltk_data]   Package averaged_perceptron_tagger is already up-to-\n",
      "[nltk_data]       date!\n"
     ]
    },
    {
     "data": {
      "text/plain": [
       "True"
      ]
     },
     "execution_count": 51,
     "metadata": {},
     "output_type": "execute_result"
    }
   ],
   "source": [
    "import nltk\n",
    "nltk.download('averaged_perceptron_tagger')"
   ]
  },
  {
   "cell_type": "code",
   "execution_count": 52,
   "id": "tnEF8MrWMJYh",
   "metadata": {
    "colab": {
     "base_uri": "https://localhost:8080/",
     "height": 2776
    },
    "id": "tnEF8MrWMJYh",
    "outputId": "97e0c36c-a283-4b5b-d7c0-a905e927b620"
   },
   "outputs": [
    {
     "data": {
      "text/plain": [
       "[('My', 'PRP$'),\n",
       " ('wife', 'NN'),\n",
       " ('took', 'VBD'),\n",
       " ('me', 'PRP'),\n",
       " ('here', 'RB'),\n",
       " ('on', 'IN'),\n",
       " ('my', 'PRP$'),\n",
       " ('birthday', 'NN'),\n",
       " ('for', 'IN'),\n",
       " ('breakfast', 'NN'),\n",
       " ('and', 'CC'),\n",
       " ('it', 'PRP'),\n",
       " ('was', 'VBD'),\n",
       " ('excellent', 'JJ'),\n",
       " ('The', 'DT'),\n",
       " ('weather', 'NN'),\n",
       " ('was', 'VBD'),\n",
       " ('perfect', 'JJ'),\n",
       " ('which', 'WDT'),\n",
       " ('made', 'VBD'),\n",
       " ('sitting', 'VBG'),\n",
       " ('outside', 'IN'),\n",
       " ('overlooking', 'VBG'),\n",
       " ('their', 'PRP$'),\n",
       " ('grounds', 'NNS'),\n",
       " ('an', 'DT'),\n",
       " ('absolute', 'JJ'),\n",
       " ('pleasure', 'NN'),\n",
       " ('Our', 'PRP$'),\n",
       " ('waitress', 'NN'),\n",
       " ('was', 'VBD'),\n",
       " ('excellent', 'JJ'),\n",
       " ('and', 'CC'),\n",
       " ('our', 'PRP$'),\n",
       " ('food', 'NN'),\n",
       " ('arrived', 'VBD'),\n",
       " ('quickly', 'RB'),\n",
       " ('on', 'IN'),\n",
       " ('the', 'DT'),\n",
       " ('semi-busy', 'JJ'),\n",
       " ('Saturday', 'NNP'),\n",
       " ('morning', 'NN'),\n",
       " ('It', 'PRP'),\n",
       " ('looked', 'VBD'),\n",
       " ('like', 'IN'),\n",
       " ('the', 'DT'),\n",
       " ('place', 'NN'),\n",
       " ('fills', 'VBZ'),\n",
       " ('up', 'RP'),\n",
       " ('pretty', 'RB'),\n",
       " ('quickly', 'RB'),\n",
       " ('so', 'IN'),\n",
       " ('the', 'DT'),\n",
       " ('earlier', 'JJR'),\n",
       " ('you', 'PRP'),\n",
       " ('get', 'VBP'),\n",
       " ('here', 'RB'),\n",
       " ('the', 'DT'),\n",
       " ('better', 'JJR'),\n",
       " ('Do', 'VB'),\n",
       " ('yourself', 'PRP'),\n",
       " ('a', 'DT'),\n",
       " ('favor', 'NN'),\n",
       " ('and', 'CC'),\n",
       " ('get', 'VB'),\n",
       " ('their', 'PRP$'),\n",
       " ('Bloody', 'NNP'),\n",
       " ('Mary', 'NNP'),\n",
       " ('It', 'PRP'),\n",
       " ('was', 'VBD'),\n",
       " ('phenomenal', 'JJ'),\n",
       " ('and', 'CC'),\n",
       " ('simply', 'RB'),\n",
       " ('the', 'DT'),\n",
       " ('best', 'JJS'),\n",
       " ('I', 'PRP'),\n",
       " (\"'ve\", 'VBP'),\n",
       " ('ever', 'RB'),\n",
       " ('had', 'VBN'),\n",
       " ('I', 'PRP'),\n",
       " (\"'m\", 'VBP'),\n",
       " ('pretty', 'JJ'),\n",
       " ('sure', 'NN'),\n",
       " ('they', 'PRP'),\n",
       " ('only', 'RB'),\n",
       " ('use', 'VBP'),\n",
       " ('ingredients', 'NNS'),\n",
       " ('from', 'IN'),\n",
       " ('their', 'PRP$'),\n",
       " ('garden', 'NN'),\n",
       " ('and', 'CC'),\n",
       " ('blend', 'VB'),\n",
       " ('them', 'PRP'),\n",
       " ('fresh', 'JJ'),\n",
       " ('when', 'WRB'),\n",
       " ('you', 'PRP'),\n",
       " ('order', 'NN'),\n",
       " ('it', 'PRP'),\n",
       " ('It', 'PRP'),\n",
       " ('was', 'VBD'),\n",
       " ('amazing', 'VBG'),\n",
       " ('While', 'IN'),\n",
       " ('EVERYTHING', 'NN'),\n",
       " ('on', 'IN'),\n",
       " ('the', 'DT'),\n",
       " ('menu', 'NN'),\n",
       " ('looks', 'VBZ'),\n",
       " ('excellent', 'JJ'),\n",
       " ('I', 'PRP'),\n",
       " ('had', 'VBD'),\n",
       " ('the', 'DT'),\n",
       " ('white', 'JJ'),\n",
       " ('truffle', 'NN'),\n",
       " ('scrambled', 'VBD'),\n",
       " ('eggs', 'NNS'),\n",
       " ('vegetable', 'JJ'),\n",
       " ('skillet', 'NN'),\n",
       " ('and', 'CC'),\n",
       " ('it', 'PRP'),\n",
       " ('was', 'VBD'),\n",
       " ('tasty', 'JJ'),\n",
       " ('and', 'CC'),\n",
       " ('delicious', 'JJ'),\n",
       " ('It', 'PRP'),\n",
       " ('came', 'VBD'),\n",
       " ('with', 'IN'),\n",
       " ('2', 'CD'),\n",
       " ('pieces', 'NNS'),\n",
       " ('of', 'IN'),\n",
       " ('their', 'PRP$'),\n",
       " ('griddled', 'VBN'),\n",
       " ('bread', 'NN'),\n",
       " ('with', 'IN'),\n",
       " ('was', 'VBD'),\n",
       " ('amazing', 'VBG'),\n",
       " ('and', 'CC'),\n",
       " ('it', 'PRP'),\n",
       " ('absolutely', 'RB'),\n",
       " ('made', 'VBD'),\n",
       " ('the', 'DT'),\n",
       " ('meal', 'JJ'),\n",
       " ('complete', 'JJ'),\n",
       " ('It', 'PRP'),\n",
       " ('was', 'VBD'),\n",
       " ('the', 'DT'),\n",
       " ('best', 'JJS'),\n",
       " ('toast', 'NN'),\n",
       " ('I', 'PRP'),\n",
       " (\"'ve\", 'VBP'),\n",
       " ('ever', 'RB'),\n",
       " ('had', 'VBN'),\n",
       " ('Anyway', 'RB'),\n",
       " ('I', 'PRP'),\n",
       " ('ca', 'MD'),\n",
       " (\"n't\", 'RB'),\n",
       " ('wait', 'VB'),\n",
       " ('to', 'TO'),\n",
       " ('go', 'VB'),\n",
       " ('back', 'RB')]"
      ]
     },
     "execution_count": 52,
     "metadata": {},
     "output_type": "execute_result"
    }
   ],
   "source": [
    "blob_df[0].tags"
   ]
  },
  {
   "cell_type": "code",
   "execution_count": 53,
   "id": "F5P2EDKaMMsD",
   "metadata": {
    "colab": {
     "base_uri": "https://localhost:8080/",
     "height": 69
    },
    "id": "F5P2EDKaMMsD",
    "outputId": "442c20d9-398c-4266-826d-ac70030fef35"
   },
   "outputs": [
    {
     "name": "stderr",
     "output_type": "stream",
     "text": [
      "[nltk_data] Downloading package brown to\n",
      "[nltk_data]     C:\\Users\\badda\\AppData\\Roaming\\nltk_data...\n",
      "[nltk_data]   Package brown is already up-to-date!\n"
     ]
    },
    {
     "data": {
      "text/plain": [
       "True"
      ]
     },
     "execution_count": 53,
     "metadata": {},
     "output_type": "execute_result"
    }
   ],
   "source": [
    "nltk.download('brown')"
   ]
  },
  {
   "cell_type": "code",
   "execution_count": 54,
   "id": "YpXRZ-V0MMzg",
   "metadata": {
    "colab": {
     "base_uri": "https://localhost:8080/",
     "height": 54
    },
    "id": "YpXRZ-V0MMzg",
    "outputId": "9bae4be8-9525-4e13-d411-224c96a4cba7"
   },
   "outputs": [
    {
     "name": "stdout",
     "output_type": "stream",
     "text": [
      "['absolute pleasure', 'place fills', 'bloody mary', 'everything', 'white truffle', 'vegetable skillet', 'anyway', \"ca n't\"]\n"
     ]
    }
   ],
   "source": [
    "# textblob can do some basic noun chunking\n",
    "print([np for np in blob_df[0].noun_phrases])"
   ]
  },
  {
   "cell_type": "markdown",
   "id": "2eb0dad7",
   "metadata": {
    "id": "2eb0dad7"
   },
   "source": [
    "## **Question 3**. Comparing the outputs of spacy and textblob chunking in tast 3, which one would you like to use in your application? Explain it."
   ]
  },
  {
   "cell_type": "markdown",
   "id": "26db2d58",
   "metadata": {
    "id": "26db2d58"
   },
   "source": [
    "**Answer to Q3**:\n",
    " By Comparing the outputs of the textblob and the spacy I want to use Space since it gives me the Parts of Speech.\n",
    "\n",
    "SpaCy is a superior alternative if you value accuracy, linguistic precision, and the ability to modify the model to your specific domain. It gives you control over the chunking process and complements other spaCy capabilities. TextBlob, on the other hand, offers a more straightforward solution, particularly for simpler NLP applications where simplicity, quick setup, and ease of use are more crucial.\n",
    "\n",
    "Finally, spaCy is recommended if your application demands precise chunking and comprehensive customising. TextBlob, on the other hand, may be an excellent option if you prioritise simplicity and speed of implementation over extensive customization.\n",
    "\n",
    "Spacy has the ability to recognize which text has punctuation. However, the textblob doesn't show any punctuation.\n",
    "\n",
    "Finally, I would like to use the spacy more than the textblob. which is more communicative and flexibile."
   ]
  },
  {
   "cell_type": "markdown",
   "id": "aed4e604",
   "metadata": {
    "id": "aed4e604"
   },
   "source": [
    "---"
   ]
  },
  {
   "cell_type": "markdown",
   "id": "03f1d8aa",
   "metadata": {
    "id": "03f1d8aa"
   },
   "source": [
    "## Question 4. Whats the disadvantage in bag of words  . Please explain in your own words with an example .\n",
    "\n",
    "## Write code for the example."
   ]
  },
  {
   "cell_type": "markdown",
   "id": "2258397a",
   "metadata": {
    "id": "2258397a"
   },
   "source": [
    "### Answer to Q4: The bag of words is easier to implement it has only few disadvantages.\n",
    "\n",
    "The difficulty with the bag-of-words (BoW) is that it ignores the order and structure of words in a text, with no regard for grammar or syntax. Because of this constraint, important textual information and context may be lost.\n",
    "\n",
    "Let's explain the disadvantage with an example. Consider the following two sentences:\n",
    "\n",
    "\"The cat is black.\"\n",
    "\"The black cat is.\"\n",
    "\n",
    "Because the model only considers the frequency of individual words, these two phrases would be represented in the same way in the BoW model. Both phrases are written in the following order: \"the\": 1, \"cat\": 1, \"is\": 1, \"black\": 1.\n",
    "\n",
    "However, due to the word order, these sentences have different meanings. In the first line, the adjective \"black\" is used to describe the cat, whereas in the second sentence, the noun \"black\" is used to describe the type of cat. The BoW model fails to recognise this distinction because it ignores word order and considers both phrases to be identical."
   ]
  },
  {
   "cell_type": "code",
   "execution_count": 55,
   "id": "05d3b1a6",
   "metadata": {
    "colab": {
     "base_uri": "https://localhost:8080/",
     "height": 52
    },
    "id": "05d3b1a6",
    "outputId": "59268475-266e-43db-d24a-0adceaf133f5"
   },
   "outputs": [
    {
     "data": {
      "text/plain": [
       "<4x7 sparse matrix of type '<class 'numpy.int64'>'\n",
       "\twith 18 stored elements in Compressed Sparse Row format>"
      ]
     },
     "execution_count": 55,
     "metadata": {},
     "output_type": "execute_result"
    }
   ],
   "source": [
    "from sklearn.feature_extraction.text import CountVectorizer\n",
    "\n",
    "# 'binary' parameter set to True indicates the encoding measure is the presence/absence of words\n",
    "vectorizer1 = CountVectorizer(binary=True)\n",
    "\n",
    "# super small corpus\n",
    "corpus = [\n",
    "      'The cat is black.',\n",
    "      'The black cat is sick.',\n",
    "       'The cat is not.',\n",
    "      'Is the black cat  happy?'\n",
    "\n",
    "]\n",
    "\n",
    "# fit the vectorizer on the corpus and then encode the data\n",
    "data = vectorizer1.fit_transform(corpus)\n",
    "data"
   ]
  },
  {
   "cell_type": "code",
   "execution_count": 56,
   "id": "57efc7e8",
   "metadata": {
    "colab": {
     "base_uri": "https://localhost:8080/",
     "height": 104
    },
    "id": "57efc7e8",
    "outputId": "39cc25b6-1189-4ab1-da15-15f2b8902dc0"
   },
   "outputs": [
    {
     "name": "stdout",
     "output_type": "stream",
     "text": [
      "['black' 'cat' 'happy' 'is' 'not' 'sick' 'the']\n"
     ]
    },
    {
     "data": {
      "text/plain": [
       "array([[1, 1, 0, 1, 0, 0, 1],\n",
       "       [1, 1, 0, 1, 0, 1, 1],\n",
       "       [0, 1, 0, 1, 1, 0, 1],\n",
       "       [1, 1, 1, 1, 0, 0, 1]], dtype=int64)"
      ]
     },
     "execution_count": 56,
     "metadata": {},
     "output_type": "execute_result"
    }
   ],
   "source": [
    "print(vectorizer1.get_feature_names_out())    # returns the features extracted from the text (vocabulary)\n",
    "\n",
    "data.toarray()    # returns encoded representations"
   ]
  },
  {
   "cell_type": "code",
   "execution_count": 57,
   "id": "3744ae04",
   "metadata": {
    "colab": {
     "base_uri": "https://localhost:8080/",
     "height": 52
    },
    "id": "3744ae04",
    "outputId": "ec434e07-309a-4197-aa65-63c0b7820ece"
   },
   "outputs": [
    {
     "data": {
      "text/plain": [
       "<4x7 sparse matrix of type '<class 'numpy.int64'>'\n",
       "\twith 19 stored elements in Compressed Sparse Row format>"
      ]
     },
     "execution_count": 57,
     "metadata": {},
     "output_type": "execute_result"
    }
   ],
   "source": [
    "# 'binary' parameter when not set indicates the encoding measure is term frequency\n",
    "vectorizer2 = CountVectorizer()\n",
    "\n",
    "# again, an example corpus\n",
    "corpus = [\n",
    "      'The cat is black?',\n",
    "      'The black cat is sick?',\n",
    "       'The cat is not black.',\n",
    "      'Is the happy cat black ?'\n",
    "\n",
    "]\n",
    "\n",
    "# same as before...\n",
    "data = vectorizer2.fit_transform(corpus)\n",
    "data"
   ]
  },
  {
   "cell_type": "code",
   "execution_count": 58,
   "id": "a4943d1c",
   "metadata": {
    "colab": {
     "base_uri": "https://localhost:8080/",
     "height": 104
    },
    "id": "a4943d1c",
    "outputId": "20341cc7-811a-42a1-fd9e-a079651d7579"
   },
   "outputs": [
    {
     "name": "stdout",
     "output_type": "stream",
     "text": [
      "['black' 'cat' 'happy' 'is' 'not' 'sick' 'the']\n"
     ]
    },
    {
     "data": {
      "text/plain": [
       "array([[1, 1, 0, 1, 0, 0, 1],\n",
       "       [1, 1, 0, 1, 0, 1, 1],\n",
       "       [1, 1, 0, 1, 1, 0, 1],\n",
       "       [1, 1, 1, 1, 0, 0, 1]], dtype=int64)"
      ]
     },
     "execution_count": 58,
     "metadata": {},
     "output_type": "execute_result"
    }
   ],
   "source": [
    "print(vectorizer2.get_feature_names_out())\n",
    "\n",
    "data.toarray()"
   ]
  },
  {
   "cell_type": "markdown",
   "id": "-Bel6-5KUFWt",
   "metadata": {
    "id": "-Bel6-5KUFWt"
   },
   "source": [
    "You can now see that the text corpus is different in both cases, thesentences mean different but the out is same."
   ]
  },
  {
   "cell_type": "code",
   "execution_count": null,
   "id": "7280b13b",
   "metadata": {},
   "outputs": [],
   "source": []
  }
 ],
 "metadata": {
  "colab": {
   "provenance": []
  },
  "kernelspec": {
   "display_name": "Python 3 (ipykernel)",
   "language": "python",
   "name": "python3"
  },
  "language_info": {
   "codemirror_mode": {
    "name": "ipython",
    "version": 3
   },
   "file_extension": ".py",
   "mimetype": "text/x-python",
   "name": "python",
   "nbconvert_exporter": "python",
   "pygments_lexer": "ipython3",
   "version": "3.9.7"
  }
 },
 "nbformat": 4,
 "nbformat_minor": 5
}
